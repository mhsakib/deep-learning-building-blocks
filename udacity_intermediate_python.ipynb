{
  "nbformat": 4,
  "nbformat_minor": 0,
  "metadata": {
    "colab": {
      "name": "udacity_intermediate_python",
      "provenance": [],
      "collapsed_sections": [],
      "authorship_tag": "ABX9TyM2JDLNm3qfbuYRt8NSpT8P",
      "include_colab_link": true
    },
    "kernelspec": {
      "name": "python3",
      "display_name": "Python 3"
    },
    "language_info": {
      "name": "python"
    }
  },
  "cells": [
    {
      "cell_type": "markdown",
      "metadata": {
        "id": "view-in-github",
        "colab_type": "text"
      },
      "source": [
        "<a href=\"https://colab.research.google.com/github/mhsakib/deep-learning-building-blocks/blob/master/udacity_intermediate_python.ipynb\" target=\"_parent\"><img src=\"https://colab.research.google.com/assets/colab-badge.svg\" alt=\"Open In Colab\"/></a>"
      ]
    },
    {
      "cell_type": "markdown",
      "metadata": {
        "id": "SnVXd8uuJG4l"
      },
      "source": [
        "#### Section 2_15\n",
        "\n",
        "\n",
        "In the # Manipulating Lists and Tuples section, write the add_layer function to add a layer to a growing representation of Pascal's triangle.\n",
        "\n",
        "\n"
      ]
    },
    {
      "cell_type": "code",
      "metadata": {
        "colab": {
          "base_uri": "https://localhost:8080/"
        },
        "id": "ClcjzeQUJB3p",
        "outputId": "56d23bc0-f3ec-496b-b2ff-b06bcc7a2ca4"
      },
      "source": [
        "# Manipulating Lists and Tuples\n",
        "# Write a function to produce the next layer of Pascal's triangle\n",
        "# Each layer is one larger than the previous layer, and each element in\n",
        "# the new layer is the sum of the two elements above it in the previous\n",
        "# layer. For example, `(1, 3, 3, 1) -> (1, 4, 6, 4, 1)`.\n",
        "#\n",
        "# Hint: What does the expression `zip(row + (0,), (0,) + row)` produce?\n",
        "\n",
        "def add_layer(triangle):\n",
        "    # Add a layer to Pascal's triangle.\n",
        "    # Each layer should be a tuple.\n",
        "    a=[triangle[-1][0]]\n",
        "    for i in range(len(triangle[-1])-1):\n",
        "        a.append(triangle[-1][i]+triangle[-1][i+1])\n",
        "    a.append(triangle[-1][-1])   \n",
        "    triangle.append(tuple(a))\n",
        "    pass\n",
        "    \n",
        "    \n",
        "pascals_triangle = [\n",
        "    (1,),\n",
        "    (1, 1),\n",
        "    (1, 2, 1),\n",
        "    (1, 3, 3, 1),\n",
        "]\n",
        "\n",
        "# Add a few layers, just to check.\n",
        "for _ in range(5):\n",
        "    add_layer(pascals_triangle)\n",
        "\n",
        "print(pascals_triangle)"
      ],
      "execution_count": null,
      "outputs": [
        {
          "output_type": "stream",
          "text": [
            "[(1,), (1, 1), (1, 2, 1), (1, 3, 3, 1), (1, 4, 6, 4, 1), (1, 5, 10, 10, 5, 1), (1, 6, 15, 20, 15, 6, 1), (1, 7, 21, 35, 35, 21, 7, 1), (1, 8, 28, 56, 70, 56, 28, 8, 1)]\n"
          ],
          "name": "stdout"
        }
      ]
    },
    {
      "cell_type": "code",
      "metadata": {
        "colab": {
          "base_uri": "https://localhost:8080/"
        },
        "id": "3N6dYR-cJmnF",
        "outputId": "a63d185b-6ced-4c28-d68b-91dc19f3cfd7"
      },
      "source": [
        "## Udacity solve 1\n",
        "\n",
        "\n",
        "# Manipulating Lists and Tuples\n",
        "# Write a function to produce the next layer of Pascal's triangle\n",
        "# Each layer is one larger than the previous layer, and each element in\n",
        "# the new layer is the sum of the two elements above it in the previous\n",
        "# layer. For example, `(1, 3, 3, 1) -> (1, 4, 6, 4, 1)`.\n",
        "#\n",
        "# Hint: What does the expression `zip(row + (0,), (0,) + row)` produce?\n",
        "\n",
        "def add_layer(triangle):\n",
        "    last = triangle[-1]  # The most recent row of Pascal's triangle.\n",
        "    row = []  # Build up the next row.\n",
        "    for left, right in zip(last + (0,), (0,) + last):\n",
        "        row.append(left + right)\n",
        "    triangle.append(tuple(row))\n",
        "    pass\n",
        "    \n",
        "    \n",
        "pascals_triangle = [\n",
        "    (1,),\n",
        "    (1, 1),\n",
        "    (1, 2, 1),\n",
        "    (1, 3, 3, 1),\n",
        "]\n",
        "\n",
        "# Add a few layers, just to check.\n",
        "for _ in range(5):\n",
        "    add_layer(pascals_triangle)\n",
        "\n",
        "print(pascals_triangle)"
      ],
      "execution_count": null,
      "outputs": [
        {
          "output_type": "stream",
          "text": [
            "[(1,), (1, 1), (1, 2, 1), (1, 3, 3, 1), (1, 4, 6, 4, 1), (1, 5, 10, 10, 5, 1), (1, 6, 15, 20, 15, 6, 1), (1, 7, 21, 35, 35, 21, 7, 1), (1, 8, 28, 56, 70, 56, 28, 8, 1)]\n"
          ],
          "name": "stdout"
        }
      ]
    },
    {
      "cell_type": "code",
      "metadata": {
        "colab": {
          "base_uri": "https://localhost:8080/"
        },
        "id": "Iqm0sTT7KJFp",
        "outputId": "333ae14d-85d4-433e-fe62-aa85c3d8bbf0"
      },
      "source": [
        "## Udacity solve 1\n",
        "\n",
        "\n",
        "# Manipulating Lists and Tuples\n",
        "# Write a function to produce the next layer of Pascal's triangle\n",
        "# Each layer is one larger than the previous layer, and each element in\n",
        "# the new layer is the sum of the two elements above it in the previous\n",
        "# layer. For example, `(1, 3, 3, 1) -> (1, 4, 6, 4, 1)`.\n",
        "#\n",
        "# Hint: What does the expression `zip(row + (0,), (0,) + row)` produce?\n",
        "\n",
        "def add_layer(triangle):\n",
        "    last = triangle[-1]\n",
        "    triangle.append(tuple(left + right for left, right in zip(last + (0,), (0,) + last)))\n",
        "    pass\n",
        "    \n",
        "    \n",
        "pascals_triangle = [\n",
        "    (1,),\n",
        "    (1, 1),\n",
        "    (1, 2, 1),\n",
        "    (1, 3, 3, 1),\n",
        "]\n",
        "\n",
        "# Add a few layers, just to check.\n",
        "for _ in range(5):\n",
        "    add_layer(pascals_triangle)\n",
        "\n",
        "print(pascals_triangle)"
      ],
      "execution_count": null,
      "outputs": [
        {
          "output_type": "stream",
          "text": [
            "[(1,), (1, 1), (1, 2, 1), (1, 3, 3, 1), (1, 4, 6, 4, 1), (1, 5, 10, 10, 5, 1), (1, 6, 15, 20, 15, 6, 1), (1, 7, 21, 35, 35, 21, 7, 1), (1, 8, 28, 56, 70, 56, 28, 8, 1)]\n"
          ],
          "name": "stdout"
        }
      ]
    },
    {
      "cell_type": "markdown",
      "metadata": {
        "id": "kKw9qVipQ2HV"
      },
      "source": [
        "### Dictionary"
      ]
    },
    {
      "cell_type": "code",
      "metadata": {
        "colab": {
          "base_uri": "https://localhost:8080/"
        },
        "id": "XaljSz7zQ4Xq",
        "outputId": "f26d3aee-6000-4299-a981-305f40ae43e7"
      },
      "source": [
        "d = {\"one\": 1, \"two\": 2, \"three\": 3}\n",
        "print(d[\"two\"])\n",
        "d[\"three\"] = 5\n",
        "del d[\"one\"]\n",
        "print(len(d))\n",
        "d[\"four\"] = 8\n",
        "print(d.get(\"three\", \"four\"))\n",
        "print(d.get(\"three\", d[\"four\"]))\n",
        "print(max(d.values()))\n",
        "print(min(d))\n",
        "print(d.pop(\"four\", 4))\n",
        "print(d.pop(\"one\", d[\"two\"]))\n",
        "print(d.pop(\"two\"))\n",
        "for key, value in d.items():\n",
        "    print(key * value)"
      ],
      "execution_count": null,
      "outputs": [
        {
          "output_type": "stream",
          "text": [
            "2\n",
            "2\n",
            "5\n",
            "5\n",
            "8\n",
            "four\n",
            "8\n",
            "2\n",
            "2\n",
            "threethreethreethreethree\n"
          ],
          "name": "stdout"
        }
      ]
    },
    {
      "cell_type": "code",
      "metadata": {
        "colab": {
          "base_uri": "https://localhost:8080/"
        },
        "id": "c8oTp8ksQ7Nv",
        "outputId": "e3ec097c-4eef-4222-e02f-93d1fc15031f"
      },
      "source": [
        "a = dict(one=1, two=2, three=3)\n",
        "b = {'one': 1, 'two': 2, 'three': 3}\n",
        "c = dict(zip(['one', 'two', 'three'], [1, 2, 3]))\n",
        "d = dict([('two', 2), ('one', 1), ('three', 3)])\n",
        "e = dict({'three': 3, 'one': 1, 'two': 2})\n",
        "f = dict({'one': 1, 'three': 3}, two=2)\n",
        "a == b == c == d == e == f\n",
        "print(f)"
      ],
      "execution_count": null,
      "outputs": [
        {
          "output_type": "stream",
          "text": [
            "{'one': 1, 'three': 3, 'two': 2}\n"
          ],
          "name": "stdout"
        }
      ]
    },
    {
      "cell_type": "markdown",
      "metadata": {
        "id": "5W8KkI5Pf1Qt"
      },
      "source": [
        "2_21 Anagram"
      ]
    },
    {
      "cell_type": "code",
      "metadata": {
        "id": "5M41TX37W9cj",
        "colab": {
          "base_uri": "https://localhost:8080/"
        },
        "outputId": "767fef68-87b0-47c3-a63e-6565b11d63e0"
      },
      "source": [
        "# my solution 1\n",
        "#---------------\n",
        "\n",
        "english_words_small = set((\n",
        "    \"open\",\n",
        "    \"peon\",\n",
        "    \"nope\",\n",
        "    \"stone\",\n",
        "    \"notes\",\n",
        "    \"onset\",\n",
        "    \"tones\",\n",
        "    \"cone\",\n",
        "    \"pots\",\n",
        "    \"post\",\n",
        "    \"stop\",\n",
        "    \"opts\",\n",
        "    \"tops\",\n",
        "))\n",
        "\n",
        "def find_anagrams(letters, words):\n",
        "\n",
        "    #### ADD YOUR CODE BELOW ####\n",
        "    def count_f(word): \n",
        "        res = {}\n",
        "        for keys in word:\n",
        "            res[keys] = res.get(keys, 0) + 1\n",
        "        return res\n",
        "\n",
        "    anag=set()\n",
        "    for w in words:\n",
        "        #if len(letters)==len(w):\n",
        "        if count_f(letters)==count_f(w):\n",
        "            if set(w).issubset(letters):\n",
        "                anag.add(w)\n",
        "    \n",
        "    #print(count_f(letters))\n",
        "    return anag\n",
        "\n",
        "for anagram in find_anagrams(\"open\", english_words_small):\n",
        "    print(anagram)\n",
        "\n"
      ],
      "execution_count": null,
      "outputs": [
        {
          "output_type": "stream",
          "text": [
            "nope\n",
            "peon\n",
            "open\n"
          ],
          "name": "stdout"
        }
      ]
    },
    {
      "cell_type": "code",
      "metadata": {
        "colab": {
          "base_uri": "https://localhost:8080/"
        },
        "id": "J33suftzkarf",
        "outputId": "9a05c607-feb3-4f05-b719-f42aff276275"
      },
      "source": [
        "# udacity solution 1\n",
        "#---------------\n",
        "\n",
        "def find_anagrams(letters, words):\n",
        "\n",
        "    #### ADD YOUR CODE BELOW ####\n",
        "    lookup = {}\n",
        "    for word in words:\n",
        "        key = ''.join(sorted(word))\n",
        "        if key not in lookup:\n",
        "            lookup[key] = set()\n",
        "        lookup[key].add(word)\n",
        "\n",
        "    # Search the lookup table for the queried letters.\n",
        "    search = ''.join((sorted(letters)))\n",
        "    return lookup.get(search, set())\n",
        "\n",
        "for anagram in find_anagrams(\"open\", english_words_small):\n",
        "    print(anagram)\n",
        "\n"
      ],
      "execution_count": null,
      "outputs": [
        {
          "output_type": "stream",
          "text": [
            "nope\n",
            "peon\n",
            "open\n"
          ],
          "name": "stdout"
        }
      ]
    },
    {
      "cell_type": "code",
      "metadata": {
        "colab": {
          "base_uri": "https://localhost:8080/"
        },
        "id": "lev3nPaWktTj",
        "outputId": "13b82f8c-1c75-4163-c051-7d83d783a3d6"
      },
      "source": [
        "# my solution 2\n",
        "#---------------\n",
        "\n",
        "def find_anagrams(letters, words):\n",
        "\n",
        "    #### ADD YOUR CODE BELOW ####\n",
        "    anag= set()\n",
        "    for word in words:\n",
        "        key = ''.join(sorted(word))\n",
        "        l = ''.join(sorted(letters))\n",
        "        if key == l:\n",
        "            anag.add(word)\n",
        "\n",
        "    return anag\n",
        "\n",
        "for anagram in find_anagrams(\"open\", english_words_small):\n",
        "    print(anagram)\n"
      ],
      "execution_count": null,
      "outputs": [
        {
          "output_type": "stream",
          "text": [
            "nope\n",
            "peon\n",
            "open\n"
          ],
          "name": "stdout"
        }
      ]
    },
    {
      "cell_type": "code",
      "metadata": {
        "colab": {
          "base_uri": "https://localhost:8080/"
        },
        "id": "HJx9L04I0og3",
        "outputId": "4870b53c-7bf6-4ef1-a19b-538e6740fdc2"
      },
      "source": [
        "print(\"asd\", end=\" \")\n",
        "print(\"zxc\")"
      ],
      "execution_count": null,
      "outputs": [
        {
          "output_type": "stream",
          "text": [
            "asd zxc\n"
          ],
          "name": "stdout"
        }
      ]
    },
    {
      "cell_type": "code",
      "metadata": {
        "colab": {
          "base_uri": "https://localhost:8080/"
        },
        "id": "10NQMhTI1Jh6",
        "outputId": "97068e37-b50a-4362-e20d-61ebe77c405d"
      },
      "source": [
        "def ask_yn(prompt, retries=4, complaint='Enter Y/N!'):\n",
        "    for i in range(retries):\n",
        "        ok = input(prompt).strip()\n",
        "        if ok in ('Y', 'y'):\n",
        "            return True\n",
        "        if ok in ('N', 'n'):\n",
        "            return False\n",
        "        print(complaint)\n",
        "    return False\n",
        "  \n",
        "ask_yn(\"Hi\", 3)"
      ],
      "execution_count": null,
      "outputs": [
        {
          "output_type": "stream",
          "text": [
            "Hin\n"
          ],
          "name": "stdout"
        },
        {
          "output_type": "execute_result",
          "data": {
            "text/plain": [
              "False"
            ]
          },
          "metadata": {
            "tags": []
          },
          "execution_count": 14
        }
      ]
    },
    {
      "cell_type": "markdown",
      "metadata": {
        "id": "yrw7UBbzL2PA"
      },
      "source": [
        "#### Variadic Positional Arguments"
      ]
    },
    {
      "cell_type": "code",
      "metadata": {
        "id": "b1vwl_WcL4oe"
      },
      "source": [
        "def cons_sum(*num, st=1):\n",
        "  run_sum = st\n",
        "  for n in num:\n",
        "    run_sum += n\n",
        "  return run_sum"
      ],
      "execution_count": null,
      "outputs": []
    },
    {
      "cell_type": "code",
      "metadata": {
        "colab": {
          "base_uri": "https://localhost:8080/"
        },
        "id": "fjn6y9erMRia",
        "outputId": "bcd6db63-ae27-420f-9165-261e2b9c884a"
      },
      "source": [
        "print(cons_sum(2,5,7,9))\n",
        "print(cons_sum(2,5,7,9, st=10))\n",
        "print(cons_sum(2,5,7,9, 10, st=10))"
      ],
      "execution_count": null,
      "outputs": [
        {
          "output_type": "stream",
          "text": [
            "24\n",
            "33\n",
            "43\n"
          ],
          "name": "stdout"
        }
      ]
    },
    {
      "cell_type": "code",
      "metadata": {
        "colab": {
          "base_uri": "https://localhost:8080/"
        },
        "id": "W_4_Y7tONLdE",
        "outputId": "c08b4ece-270c-4289-cdf8-b1bf42753692"
      },
      "source": [
        "numb=(2,5,7,9)\n",
        "print(cons_sum(*numb))"
      ],
      "execution_count": null,
      "outputs": [
        {
          "output_type": "stream",
          "text": [
            "24\n"
          ],
          "name": "stdout"
        }
      ]
    },
    {
      "cell_type": "code",
      "metadata": {
        "colab": {
          "base_uri": "https://localhost:8080/"
        },
        "id": "yt-bvrL6Nnmx",
        "outputId": "5aad112c-bf1a-4d8b-d66d-30782de3c6a5"
      },
      "source": [
        "def product(*nums, start=1):\n",
        "    running_product = 1\n",
        "    for number in nums:\n",
        "        running_product *= number\n",
        "    return running_product\n",
        "\n",
        "\n",
        "data = (1,2,3)\n",
        "new = product(*data)\n",
        "\n",
        "print(new)\n"
      ],
      "execution_count": null,
      "outputs": [
        {
          "output_type": "stream",
          "text": [
            "6\n"
          ],
          "name": "stdout"
        }
      ]
    },
    {
      "cell_type": "markdown",
      "metadata": {
        "id": "m8PLGMIDR-a-"
      },
      "source": [
        "#### Variadic Keyword Parameters"
      ]
    },
    {
      "cell_type": "code",
      "metadata": {
        "colab": {
          "base_uri": "https://localhost:8080/"
        },
        "id": "ycVBUbysR_7b",
        "outputId": "166634a9-7e36-4fba-cdeb-1deecc92b565"
      },
      "source": [
        "def print_my_arguments(a, b=1, **c):\n",
        "    print(f\"a={a}, b={b}, c={c}\")\n",
        "\n",
        "print_my_arguments(2)                      # a=2, b=1, c={}\n",
        "print_my_arguments(2, x=7)                 # a=2, b=1, c={'x': 7}\n",
        "print_my_arguments(2, x=7, y=1)            # a=2, b=1, c={'x': 7, 'y': 1}\n",
        "print_my_arguments(2, x=7, y=1, z=8)       # a=2, b=1, c={'x': 7, 'y': 1, 'z': 8}\n",
        "print_my_arguments(2, x=7, y=1, z=8, b=2)  # a=2, b=2, c={'x': 7, 'y': 1, 'z': 8}\n",
        "print_my_arguments(2, x=7, b=2, y=1, z=8)  # a=2, b=2, c={'x': 7, 'y': 1, 'z': 8}\n"
      ],
      "execution_count": null,
      "outputs": [
        {
          "output_type": "stream",
          "text": [
            "a=2, b=1, c={}\n",
            "a=2, b=1, c={'x': 7}\n",
            "a=2, b=1, c={'x': 7, 'y': 1}\n",
            "a=2, b=1, c={'x': 7, 'y': 1, 'z': 8}\n",
            "a=2, b=2, c={'x': 7, 'y': 1, 'z': 8}\n",
            "a=2, b=2, c={'x': 7, 'y': 1, 'z': 8}\n"
          ],
          "name": "stdout"
        }
      ]
    },
    {
      "cell_type": "code",
      "metadata": {
        "colab": {
          "base_uri": "https://localhost:8080/"
        },
        "id": "i7oInOh2SHaW",
        "outputId": "3e1b1843-ab6b-491e-8a0b-41e44f450625"
      },
      "source": [
        "def authorize(quote, **speaker_info):\n",
        "    print(\">\", quote)\n",
        "    print(\"-\" * (len(quote) + 2))\n",
        "    for key, value in speaker_info.items():\n",
        "        print(key, value, sep=': ')\n",
        "        \n",
        "authorize(\n",
        "    \"If music be the food of love, play on.\",\n",
        "    playwright=\"Shakespeare\",\n",
        "    act=1,\n",
        "    scene=1,\n",
        "    speaker=\"Duke Orsino\"\n",
        ")\n",
        "# > If music be the food of love, play on.\n",
        "# ----------------------------------------\n",
        "# playwright: Shakespeare\n",
        "# act: 1\n",
        "# scene: 1\n",
        "# speaker: Duke Orsino\n",
        "authorize(\n",
        "    \"O partigiano, portami via.\",\n",
        "    canzone=\"Bella Ciao\",\n",
        "    lingua=\"Italiano\",\n",
        ")"
      ],
      "execution_count": null,
      "outputs": [
        {
          "output_type": "stream",
          "text": [
            "> If music be the food of love, play on.\n",
            "----------------------------------------\n",
            "playwright: Shakespeare\n",
            "act: 1\n",
            "scene: 1\n",
            "speaker: Duke Orsino\n",
            "> O partigiano, portami via.\n",
            "----------------------------\n",
            "canzone: Bella Ciao\n",
            "lingua: Italiano\n"
          ],
          "name": "stdout"
        }
      ]
    },
    {
      "cell_type": "code",
      "metadata": {
        "colab": {
          "base_uri": "https://localhost:8080/"
        },
        "id": "c2bbWMAbSSo9",
        "outputId": "0db7598e-bda2-40e5-baca-f4c53353c4a8"
      },
      "source": [
        "info = {\n",
        "    'sonnet': 18,\n",
        "    'line': 1,\n",
        "    'author': \"Shakespeare\"\n",
        "}\n",
        "authorize(\"Shall I compare thee to a summer's day\", **info)"
      ],
      "execution_count": null,
      "outputs": [
        {
          "output_type": "stream",
          "text": [
            "> Shall I compare thee to a summer's day\n",
            "----------------------------------------\n",
            "sonnet: 18\n",
            "line: 1\n",
            "author: Shakespeare\n"
          ],
          "name": "stdout"
        }
      ]
    },
    {
      "cell_type": "code",
      "metadata": {
        "id": "vl5rBpc0ST-V"
      },
      "source": [
        "def grocery_quantity(date, **groceries):\n",
        "  print(\"> Grocery list for:\", date)\n",
        "  print(\"-\"*(20+len(date)))\n",
        "  for key, value in groceries.items():\n",
        "    print(key, value, sep=\":\")"
      ],
      "execution_count": null,
      "outputs": []
    },
    {
      "cell_type": "code",
      "metadata": {
        "colab": {
          "base_uri": "https://localhost:8080/"
        },
        "id": "ejYa_cjWUXRH",
        "outputId": "67bfc709-9dda-4e47-a893-e011bfe1ab54"
      },
      "source": [
        "grocery_quantity(\"May 29th\", eggs=12, milk=1, apples=24)"
      ],
      "execution_count": null,
      "outputs": [
        {
          "output_type": "stream",
          "text": [
            "> Grocery list for: May 29th\n",
            "----------------------------\n",
            "eggs:12\n",
            "milk:1\n",
            "apples:24\n"
          ],
          "name": "stdout"
        }
      ]
    },
    {
      "cell_type": "code",
      "metadata": {
        "id": "cyEW2khtUs4z"
      },
      "source": [
        "glist={\"eggs\":12, \"milk\":1, \"apples\":24}"
      ],
      "execution_count": null,
      "outputs": []
    },
    {
      "cell_type": "code",
      "metadata": {
        "colab": {
          "base_uri": "https://localhost:8080/"
        },
        "id": "Tv8dhqrUU9py",
        "outputId": "0a42ca65-cac5-47bc-9980-dc323d5c6bd9"
      },
      "source": [
        "grocery_quantity(\"May 29th\", **glist)"
      ],
      "execution_count": null,
      "outputs": [
        {
          "output_type": "stream",
          "text": [
            "> Grocery list for: May 29th\n",
            "----------------------------\n",
            "eggs:12\n",
            "milk:1\n",
            "apples:24\n"
          ],
          "name": "stdout"
        }
      ]
    },
    {
      "cell_type": "code",
      "metadata": {
        "colab": {
          "base_uri": "https://localhost:8080/"
        },
        "id": "QijwQeSRZvNR",
        "outputId": "2e55bfd3-92b6-4583-de72-f683746faa02"
      },
      "source": [
        "l=[1,2,3]\n",
        "print(*l,sep=\"\\n\")"
      ],
      "execution_count": null,
      "outputs": [
        {
          "output_type": "stream",
          "text": [
            "1\n",
            "2\n",
            "3\n"
          ],
          "name": "stdout"
        }
      ]
    },
    {
      "cell_type": "code",
      "metadata": {
        "id": "gEbXdM0Bdbr3"
      },
      "source": [
        "\"\"\"Write a function that prints a profile, given values.\"\"\"\n",
        "\n",
        "def create_profile(given_name, *surnames, **details):\n",
        "    print(given_name, *surnames)\n",
        "    for key, value in details.items():\n",
        "        print(key, value, sep=\": \")"
      ],
      "execution_count": null,
      "outputs": []
    },
    {
      "cell_type": "code",
      "metadata": {
        "colab": {
          "base_uri": "https://localhost:8080/"
        },
        "id": "f6bqBRX1dgpu",
        "outputId": "8775c644-b2b7-479e-acb4-8ae29eaab20a"
      },
      "source": [
        "create_profile(\"Sam\")\n",
        "create_profile(\"Martin\", \"Luther\", \"King\", \"Jr.\", born=1929, died=1968)\n",
        "create_profile(\"Sebastian\", \"Thrun\", cofounded=\"Udacity\", experience=\"Stanford Professor\")"
      ],
      "execution_count": null,
      "outputs": [
        {
          "output_type": "stream",
          "text": [
            "Sam\n",
            "Martin Luther King Jr.\n",
            "born: 1929\n",
            "died: 1968\n",
            "Sebastian Thrun\n",
            "cofounded: Udacity\n",
            "experience: Stanford Professor\n"
          ],
          "name": "stdout"
        }
      ]
    },
    {
      "cell_type": "markdown",
      "metadata": {
        "id": "nppAFeWzFGwj"
      },
      "source": [
        "#### First-Class Function Basics\n",
        "##### Attributes of Function Objects"
      ]
    },
    {
      "cell_type": "code",
      "metadata": {
        "colab": {
          "base_uri": "https://localhost:8080/"
        },
        "id": "Fji15JquFKK0",
        "outputId": "cb0bf12a-1aa4-4671-8835-aab976e3dd2d"
      },
      "source": [
        "def echo(arg):\n",
        "    \"\"\"Return the first argument.\"\"\"\n",
        "    return arg\n",
        "\n",
        "print(echo.__name__)  # => echo\n",
        "print(echo.__doc__)  # => Return the first argument.\n",
        "print(echo.__code__)  # => <code object echo at 0x..., file \"...\", line X>"
      ],
      "execution_count": null,
      "outputs": [
        {
          "output_type": "stream",
          "text": [
            "echo\n",
            "Return the first argument.\n",
            "<code object echo at 0x7f42abe1af60, file \"<ipython-input-1-32851fcebfcf>\", line 1>\n"
          ],
          "name": "stdout"
        }
      ]
    },
    {
      "cell_type": "code",
      "metadata": {
        "colab": {
          "base_uri": "https://localhost:8080/"
        },
        "id": "9JKQM5ahFVpV",
        "outputId": "ad3e579e-79d0-4c79-bca5-83d4bca835aa"
      },
      "source": [
        "echo.__call__"
      ],
      "execution_count": null,
      "outputs": [
        {
          "output_type": "execute_result",
          "data": {
            "text/plain": [
              "<method-wrapper '__call__' of function object at 0x7f42abe1ae60>"
            ]
          },
          "metadata": {
            "tags": []
          },
          "execution_count": 2
        }
      ]
    },
    {
      "cell_type": "markdown",
      "metadata": {
        "id": "8zhXGaAtI5fi"
      },
      "source": [
        "\n",
        "    Code Style (Python Guide): The Hitchhiker's Guide to Python Style Guide\n",
        "    Intermezzo - Coding Style: The Python tutorial's commentary on coding style.\n",
        "    PEP 257 - Docstring Conventions: The PEP standardizing docstring conventions in Python.\n",
        "    PEP 8 - Style Guide for Python Code: Python's official style guide for Python code.\n",
        "    Python Style Guide (Google): Google's Python style guide.\n"
      ]
    },
    {
      "cell_type": "markdown",
      "metadata": {
        "id": "EiAGCbedJ5VS"
      },
      "source": [
        "#### Higher-Order Functions"
      ]
    },
    {
      "cell_type": "code",
      "metadata": {
        "colab": {
          "base_uri": "https://localhost:8080/"
        },
        "id": "Fhy2CowfJ4Cw",
        "outputId": "afebd8ca-bb58-46cf-8738-17b14ff4a842"
      },
      "source": [
        "languages = [\"python\", \"perl\", \"java\", \"c++\"]\n",
        "[len(s) for s in languages]"
      ],
      "execution_count": null,
      "outputs": [
        {
          "output_type": "execute_result",
          "data": {
            "text/plain": [
              "[6, 4, 4, 3]"
            ]
          },
          "metadata": {
            "tags": []
          },
          "execution_count": 3
        }
      ]
    },
    {
      "cell_type": "code",
      "metadata": {
        "colab": {
          "base_uri": "https://localhost:8080/"
        },
        "id": "BCh_oZ4zJ_Ml",
        "outputId": "2bd8eb09-dd47-41e5-8c98-4617368be691"
      },
      "source": [
        "print(list(map(len, languages)))"
      ],
      "execution_count": null,
      "outputs": [
        {
          "output_type": "stream",
          "text": [
            "[6, 4, 4, 3]\n"
          ],
          "name": "stdout"
        }
      ]
    },
    {
      "cell_type": "code",
      "metadata": {
        "colab": {
          "base_uri": "https://localhost:8080/"
        },
        "id": "ZUZEbpnvLxNt",
        "outputId": "0c5f1ba2-4a0a-49c8-ff1f-c24b7e6fc34c"
      },
      "source": [
        "# random list\n",
        "random_list = [1, 'a', 0, False, True, '0']\n",
        "\n",
        "filtered_list = filter(None, random_list)\n",
        "\n",
        "print('The filtered elements are:')\n",
        "for element in filtered_list:\n",
        "    print(element)"
      ],
      "execution_count": null,
      "outputs": [
        {
          "output_type": "stream",
          "text": [
            "The filtered elements are:\n",
            "1\n",
            "a\n",
            "True\n",
            "0\n"
          ],
          "name": "stdout"
        }
      ]
    },
    {
      "cell_type": "code",
      "metadata": {
        "colab": {
          "base_uri": "https://localhost:8080/"
        },
        "id": "GuyAGX8nPrZS",
        "outputId": "b87800cd-75a2-49bc-dd1e-a0f6eab913be"
      },
      "source": [
        "from functools import reduce \n",
        "\n",
        "# Use map to print the square of each numbers rounded\n",
        "# to three decimal places\n",
        "my_floats = [4.35, 6.09, 3.25, 9.77, 2.16, 8.88, 4.59]\n",
        "\n",
        "# Use filter to print only the names that are less than \n",
        "# or equal to seven letters\n",
        "my_names = [\"olumide\", \"akinremi\", \"josiah\", \"temidayo\", \"omoseun\"]\n",
        "\n",
        "# Use reduce to print the product of these numbers\n",
        "my_numbers = [4, 6, 9, 23, 5]\n",
        "\n",
        "# Fix all three respectively.\n",
        "map_result = list(map(lambda x: x, my_floats))\n",
        "filter_result = list(filter(lambda name: name, my_names))\n",
        "reduce_result = reduce(lambda num1, num2: num1 * num2, my_numbers)\n",
        "\n",
        "print(map_result)\n",
        "print(filter_result)\n",
        "print(reduce_result)"
      ],
      "execution_count": null,
      "outputs": [
        {
          "output_type": "stream",
          "text": [
            "[4.35, 6.09, 3.25, 9.77, 2.16, 8.88, 4.59]\n",
            "['olumide', 'akinremi', 'josiah', 'temidayo', 'omoseun']\n",
            "24840\n"
          ],
          "name": "stdout"
        }
      ]
    },
    {
      "cell_type": "markdown",
      "metadata": {
        "id": "koC9VTs_R-_J"
      },
      "source": [
        "#### Lambda Functions"
      ]
    },
    {
      "cell_type": "code",
      "metadata": {
        "colab": {
          "base_uri": "https://localhost:8080/"
        },
        "id": "Xr2DJRpQSBpC",
        "outputId": "8c446e5f-e686-4315-855e-1af89fcb33c9"
      },
      "source": [
        "(lambda x: x > 3)(4)  # => True\n"
      ],
      "execution_count": null,
      "outputs": [
        {
          "output_type": "execute_result",
          "data": {
            "text/plain": [
              "True"
            ]
          },
          "metadata": {
            "tags": []
          },
          "execution_count": 15
        }
      ]
    },
    {
      "cell_type": "code",
      "metadata": {
        "colab": {
          "base_uri": "https://localhost:8080/"
        },
        "id": "1iQ7rEcwSGtG",
        "outputId": "adf08aa6-8f95-4f0c-b7b0-0a25f6557b75"
      },
      "source": [
        "\n",
        "# Squares from 0**2 to 9**2\n",
        "map(lambda val: val ** 2, range(10))\n",
        "\n"
      ],
      "execution_count": null,
      "outputs": [
        {
          "output_type": "execute_result",
          "data": {
            "text/plain": [
              "<map at 0x7f42a82967d0>"
            ]
          },
          "metadata": {
            "tags": []
          },
          "execution_count": 16
        }
      ]
    },
    {
      "cell_type": "code",
      "metadata": {
        "colab": {
          "base_uri": "https://localhost:8080/"
        },
        "id": "JSBL6bT6SG39",
        "outputId": "1c9e6a97-7fff-4ac2-a18f-08c5973bf0ff"
      },
      "source": [
        "# Tuples with positive second elements\n",
        "filter(lambda pair: pair[1] > 0, [(4,1), (3, -2), (8,0)])\n",
        "\n"
      ],
      "execution_count": null,
      "outputs": [
        {
          "output_type": "execute_result",
          "data": {
            "text/plain": [
              "<filter at 0x7f42a82a9410>"
            ]
          },
          "metadata": {
            "tags": []
          },
          "execution_count": 17
        }
      ]
    },
    {
      "cell_type": "code",
      "metadata": {
        "colab": {
          "base_uri": "https://localhost:8080/"
        },
        "id": "1LFyoDbfSHCl",
        "outputId": "fa3636ed-a59a-4774-c670-f2bbc0fb897a"
      },
      "source": [
        "# Sort a collection based on a custom function.\n",
        "sorted([(4,1), (3, -2), (8,0)], key=lambda pair: pair[1])"
      ],
      "execution_count": null,
      "outputs": [
        {
          "output_type": "execute_result",
          "data": {
            "text/plain": [
              "[(3, -2), (8, 0), (4, 1)]"
            ]
          },
          "metadata": {
            "tags": []
          },
          "execution_count": 18
        }
      ]
    },
    {
      "cell_type": "code",
      "metadata": {
        "colab": {
          "base_uri": "https://localhost:8080/"
        },
        "id": "VMk4NYbiSPd7",
        "outputId": "a11dd928-dacb-4ec2-b07d-8a5a88d78ec4"
      },
      "source": [
        "sorted([(1,2,3),(3,2,1),(5,6,7)], key=lambda pair: pair[2])"
      ],
      "execution_count": null,
      "outputs": [
        {
          "output_type": "execute_result",
          "data": {
            "text/plain": [
              "[(3, 2, 1), (1, 2, 3), (5, 6, 7)]"
            ]
          },
          "metadata": {
            "tags": []
          },
          "execution_count": 20
        }
      ]
    },
    {
      "cell_type": "code",
      "metadata": {
        "colab": {
          "base_uri": "https://localhost:8080/"
        },
        "id": "Qy_aSVPdT2LT",
        "outputId": "ec2cfe75-3ffc-4d69-c62b-17154b44c40e"
      },
      "source": [
        "a = filter(lambda x:x%3!=0 and x%5!=0, range(100))\n",
        "print(tuple(a))"
      ],
      "execution_count": null,
      "outputs": [
        {
          "output_type": "stream",
          "text": [
            "(1, 2, 4, 7, 8, 11, 13, 14, 16, 17, 19, 22, 23, 26, 28, 29, 31, 32, 34, 37, 38, 41, 43, 44, 46, 47, 49, 52, 53, 56, 58, 59, 61, 62, 64, 67, 68, 71, 73, 74, 76, 77, 79, 82, 83, 86, 88, 89, 91, 92, 94, 97, 98)\n"
          ],
          "name": "stdout"
        }
      ]
    },
    {
      "cell_type": "markdown",
      "metadata": {
        "id": "KwF5eW_iYo4U"
      },
      "source": [
        "### L3_13 "
      ]
    },
    {
      "cell_type": "code",
      "metadata": {
        "id": "_ZalsHIWYkiZ"
      },
      "source": [
        "# Practice with map\n",
        "# Fill out the rest of the map functions.\n",
        "# You can define additional functions if you need to.\n",
        "# (a) [\"apple\", \"orange\", \"pear\"] => (5, 6, 4)  (length)\n",
        "# (b) [\"apple\", \"orange\", \"pear\"] => (\"APPLE\", \"ORANGE\", \"PEAR\")  (uppercase)\n",
        "# (c) [\"apple\", \"orange\", \"pear\"] => (\"elppa\", \"egnaro\", \"raep\")  (reversed)\n",
        "# (d) [\"apple\", \"orange\", \"pear\"] => (\"ap\", \"or\", \"pe\")  (first two letters)\n",
        "\n",
        "\n",
        "\n",
        "a = map(len, [\"apple\", \"orange\", \"pear\"])\n",
        "b = map(str.upper, [\"apple\", \"orange\", \"pear\"])\n",
        "c = map(lambda x:x[::-1], [\"apple\", \"orange\", \"pear\"])\n",
        "d = map(lambda x:x[0:2], [\"apple\", \"orange\", \"pear\"])"
      ],
      "execution_count": null,
      "outputs": []
    },
    {
      "cell_type": "code",
      "metadata": {
        "colab": {
          "base_uri": "https://localhost:8080/"
        },
        "id": "djkk4Sp7YzM8",
        "outputId": "f5997dc1-a5d4-4ccc-ed6a-3cf54db4a7b6"
      },
      "source": [
        "print(tuple(a))\n",
        "print(tuple(b))\n",
        "print(tuple(c))\n",
        "print(tuple(d))"
      ],
      "execution_count": null,
      "outputs": [
        {
          "output_type": "stream",
          "text": [
            "(5, 6, 4)\n",
            "('APPLE', 'ORANGE', 'PEAR')\n",
            "('elppa', 'egnaro', 'raep')\n",
            "('ap', 'or', 'pe')\n"
          ],
          "name": "stdout"
        }
      ]
    },
    {
      "cell_type": "code",
      "metadata": {
        "id": "14Bx0IzHYvy_"
      },
      "source": [
        "# Practice with filter\n",
        "# Fill out the rest of the filter functions.\n",
        "# You can define additional functions if you need to.\n",
        "# (a) range(100) => (0, 3, 6, 9, ...)  (div by 3)\n",
        "# (b) range(100) => (0, 5, 10, 15, ...)  (div by 5)\n",
        "# (c) range(100) => (0, 15, 30, 45, ...)  (div by 15)\n",
        "# (d) range(100) => (1, 2, 4, 7, 8, 11, 13, 14, 16, 17, ...)  (not div by 3 and not div by 5)\n",
        "\n",
        "a = filter(lambda x:x%3==0, range(100))\n",
        "b = filter(lambda x:x%5==0, range(100))\n",
        "c = filter(lambda x:x%15==0, range(100))\n",
        "d = filter(lambda x:x%3!=0 and x%5!=0, range(100))"
      ],
      "execution_count": null,
      "outputs": []
    },
    {
      "cell_type": "code",
      "metadata": {
        "colab": {
          "base_uri": "https://localhost:8080/"
        },
        "id": "1Uv-rU7jY9by",
        "outputId": "37459b31-722e-460c-9b77-662de0dd7202"
      },
      "source": [
        "print(tuple(a))\n",
        "print(tuple(b))\n",
        "print(tuple(c))\n",
        "print(tuple(d))"
      ],
      "execution_count": null,
      "outputs": [
        {
          "output_type": "stream",
          "text": [
            "(0, 3, 6, 9, 12, 15, 18, 21, 24, 27, 30, 33, 36, 39, 42, 45, 48, 51, 54, 57, 60, 63, 66, 69, 72, 75, 78, 81, 84, 87, 90, 93, 96, 99)\n",
            "(0, 5, 10, 15, 20, 25, 30, 35, 40, 45, 50, 55, 60, 65, 70, 75, 80, 85, 90, 95)\n",
            "(0, 15, 30, 45, 60, 75, 90)\n",
            "(1, 2, 4, 7, 8, 11, 13, 14, 16, 17, 19, 22, 23, 26, 28, 29, 31, 32, 34, 37, 38, 41, 43, 44, 46, 47, 49, 52, 53, 56, 58, 59, 61, 62, 64, 67, 68, 71, 73, 74, 76, 77, 79, 82, 83, 86, 88, 89, 91, 92, 94, 97, 98)\n"
          ],
          "name": "stdout"
        }
      ]
    },
    {
      "cell_type": "markdown",
      "metadata": {
        "id": "VfrzRTeLbNFc"
      },
      "source": [
        "#### Iterators and Generators"
      ]
    },
    {
      "cell_type": "code",
      "metadata": {
        "colab": {
          "base_uri": "https://localhost:8080/"
        },
        "id": "ZOuTKZsNbO0U",
        "outputId": "fb8cd7d7-4c9d-4d7d-a411-1b8eb168701e"
      },
      "source": [
        "# Build an iterator over [1,2,3]\n",
        "it = iter([1,2,3])\n",
        "next(it)  # => 1\n",
        "next(it)  # => 2\n",
        "next(it)"
      ],
      "execution_count": null,
      "outputs": [
        {
          "output_type": "execute_result",
          "data": {
            "text/plain": [
              "3"
            ]
          },
          "metadata": {
            "tags": []
          },
          "execution_count": 45
        }
      ]
    },
    {
      "cell_type": "code",
      "metadata": {
        "colab": {
          "base_uri": "https://localhost:8080/"
        },
        "id": "ifCVg5_4bY-n",
        "outputId": "72ae9894-7fc2-4298-c133-1fa50a3778bf"
      },
      "source": [
        "it = iter(range(100))\n",
        "66 in it\n",
        "next(it)"
      ],
      "execution_count": null,
      "outputs": [
        {
          "output_type": "execute_result",
          "data": {
            "text/plain": [
              "67"
            ]
          },
          "metadata": {
            "tags": []
          },
          "execution_count": 46
        }
      ]
    },
    {
      "cell_type": "code",
      "metadata": {
        "colab": {
          "base_uri": "https://localhost:8080/"
        },
        "id": "PfET_Qa3b2Qg",
        "outputId": "be0a6a56-7695-421f-f359-89d1746a6c7a"
      },
      "source": [
        "nine_is_a_square_with_map = 9 in map(lambda x: x ** 2, range(1000000))\n",
        "print(nine_is_a_square_with_map)"
      ],
      "execution_count": null,
      "outputs": [
        {
          "output_type": "stream",
          "text": [
            "True\n"
          ],
          "name": "stdout"
        }
      ]
    },
    {
      "cell_type": "code",
      "metadata": {
        "colab": {
          "base_uri": "https://localhost:8080/"
        },
        "id": "TjvfrNCXb3PF",
        "outputId": "a803c210-39b6-4ee5-cad8-21f9653eb80b"
      },
      "source": [
        "\n",
        "nine_is_a_square_with_listcomp = 9 in [x ** 2 for x in range(1000000)]\n",
        "print(nine_is_a_square_with_listcomp)"
      ],
      "execution_count": null,
      "outputs": [
        {
          "output_type": "stream",
          "text": [
            "True\n"
          ],
          "name": "stdout"
        }
      ]
    },
    {
      "cell_type": "code",
      "metadata": {
        "colab": {
          "base_uri": "https://localhost:8080/"
        },
        "id": "-p_zAkEsgv0u",
        "outputId": "3bc6448c-9a76-40a0-d7fd-fa636dd91dfb"
      },
      "source": [
        "def generate_ints(n):\n",
        "    for i in range(n):\n",
        "        yield i\n",
        "\n",
        "g = generate_ints(3)  # Doesn't start the function! Just sets up the iterator\n",
        "type(g)  # => <class 'generator'>\n",
        "\n",
        "next(g)  # => 0. Run until the next yield statement.\n",
        "next(g)  # => 1. Run until the next yield statement.\n",
        "next(g)  # => 2. Run until the next yield statement.\n",
        "#next(g)  #"
      ],
      "execution_count": null,
      "outputs": [
        {
          "output_type": "execute_result",
          "data": {
            "text/plain": [
              "2"
            ]
          },
          "metadata": {
            "tags": []
          },
          "execution_count": 53
        }
      ]
    },
    {
      "cell_type": "code",
      "metadata": {
        "colab": {
          "base_uri": "https://localhost:8080/"
        },
        "id": "J3PZ9vn-g2Kc",
        "outputId": "ef2c4e6b-7a36-4726-e614-09e0ba32a8e3"
      },
      "source": [
        "def generate_fibs():\n",
        "    a, b = 0, 1\n",
        "    while True:\n",
        "        a, b = b, a + b\n",
        "        yield a\n",
        "\n",
        "g = generate_fibs()\n",
        "next(g)  # => 1\n",
        "next(g)  # => 1\n",
        "next(g)  # => 2\n",
        "next(g)  # => 3\n",
        "next(g)  # => 5"
      ],
      "execution_count": null,
      "outputs": [
        {
          "output_type": "execute_result",
          "data": {
            "text/plain": [
              "5"
            ]
          },
          "metadata": {
            "tags": []
          },
          "execution_count": 100
        }
      ]
    },
    {
      "cell_type": "code",
      "metadata": {
        "colab": {
          "base_uri": "https://localhost:8080/"
        },
        "id": "VkOuWAZqi-6u",
        "outputId": "38f292cf-798d-4093-a75c-c71ae382ddac"
      },
      "source": [
        "next(g)"
      ],
      "execution_count": null,
      "outputs": [
        {
          "output_type": "execute_result",
          "data": {
            "text/plain": [
              "13"
            ]
          },
          "metadata": {
            "tags": []
          },
          "execution_count": 102
        }
      ]
    },
    {
      "cell_type": "code",
      "metadata": {
        "id": "fNf2nIldip3M"
      },
      "source": [
        "def fibs_under(n):\n",
        "    for fib in generate_fibs():  # Loops over 1, 1, 2, ...\n",
        "        if fib > n:\n",
        "            break\n",
        "        print(fib)"
      ],
      "execution_count": null,
      "outputs": []
    },
    {
      "cell_type": "code",
      "metadata": {
        "id": "GJL2fVHyifNY"
      },
      "source": [
        "def generate_tribonacci_numbers():\n",
        "    a, b, c = 0, 0, 1\n",
        "    # Yield an infinite stream of Tribonacci numbers! The next value of the sequence will be c + b + a.\n",
        "    while True:\n",
        "      a, b, c = b, c, a + b + c\n",
        "      yield a\n"
      ],
      "execution_count": null,
      "outputs": []
    },
    {
      "cell_type": "code",
      "metadata": {
        "id": "PlzKV1b-kdZi"
      },
      "source": [
        "tn=generate_tribonacci_numbers()"
      ],
      "execution_count": null,
      "outputs": []
    },
    {
      "cell_type": "code",
      "metadata": {
        "colab": {
          "base_uri": "https://localhost:8080/"
        },
        "id": "Il6ha8EmijTa",
        "outputId": "4482d07c-75e6-4888-9e00-766229c91994"
      },
      "source": [
        "next(tn)"
      ],
      "execution_count": null,
      "outputs": [
        {
          "output_type": "execute_result",
          "data": {
            "text/plain": [
              "81"
            ]
          },
          "metadata": {
            "tags": []
          },
          "execution_count": 122
        }
      ]
    },
    {
      "cell_type": "markdown",
      "metadata": {
        "id": "X1ds7GoqnXQN"
      },
      "source": [
        "## Tribonacci Numbers\n",
        "\n",
        "The Tribonacci numbers are defined recursively, like the Fibonacci numbers, except that each subsequent number is the sum of the previous _three_. The first three Tribonacci numbers are 0, 0, 1. The next Tribonacci numbers in the sequence are 1, 2, 4, 7, 13, 24, 44, 81, ...\n",
        "\n",
        "Write a generator function `generate_tribonacci_numbers` that generates an infinite stream of Tribonacci numbers. It will look very similar to the `generate_fibs` function we saw previously.\n",
        "\n",
        "Then, write a function `is_tribonacci` that checks if a given number is a Tribonacci number. Be careful! You'll need to stop your search for a match if the Tribonacci number you're generating get too big. Specifically - the implementation `return num in generate_tribonacci_numbers()` will work fine when the number is a Tribonacci number, but will continue infinitely if not."
      ]
    },
    {
      "cell_type": "code",
      "metadata": {
        "id": "QfatJwB4igwQ"
      },
      "source": [
        "def generate_tribonacci_numbers():\n",
        "    a, b, c = 0, 0, 1\n",
        "    # Yield an infinite stream of Tribonacci numbers! The next value of the sequence will be c + b + a.\n",
        "    while True:\n",
        "      a, b, c = b, c, a + b + c\n",
        "      yield a\n",
        "    \n",
        "def is_tribonacci(num):\n",
        "    \"\"\"Return whether `num` is a Tribonacci number.\"\"\"\n",
        "    # Be careful to not loop infinitely!\n",
        "    for tn in generate_tribonacci_numbers():\n",
        "      if tn == num:\n",
        "        return True\n",
        "      elif tn > num:\n",
        "        return False\n",
        "    return False"
      ],
      "execution_count": null,
      "outputs": []
    },
    {
      "cell_type": "code",
      "metadata": {
        "colab": {
          "base_uri": "https://localhost:8080/"
        },
        "id": "BmST37XRlcPH",
        "outputId": "860ce060-8baa-4c29-b4a9-f1a3555e8d63"
      },
      "source": [
        "is_tribonacci(44)"
      ],
      "execution_count": null,
      "outputs": [
        {
          "output_type": "execute_result",
          "data": {
            "text/plain": [
              "True"
            ]
          },
          "metadata": {
            "tags": []
          },
          "execution_count": 132
        }
      ]
    },
    {
      "cell_type": "code",
      "metadata": {
        "id": "Xrxx2GmSoBDn"
      },
      "source": [
        "import random\n",
        "def random_list(size, start=0, stop=10):\n",
        "    return list(random.randrange(start, stop) for _ in range(size))"
      ],
      "execution_count": null,
      "outputs": []
    },
    {
      "cell_type": "code",
      "metadata": {
        "colab": {
          "base_uri": "https://localhost:8080/"
        },
        "id": "Sk3WO0LlocQb",
        "outputId": "09cb77b0-1e64-4c3b-e35e-ac812580c19b"
      },
      "source": [
        "print(random_list(1))"
      ],
      "execution_count": null,
      "outputs": [
        {
          "output_type": "stream",
          "text": [
            "[6]\n"
          ],
          "name": "stdout"
        }
      ]
    },
    {
      "cell_type": "code",
      "metadata": {
        "id": "0cJiOAOEoDhO"
      },
      "source": [
        "def generate_cases():\n",
        "    for i in range(10):  \n",
        "      yield random_list(i)"
      ],
      "execution_count": null,
      "outputs": []
    },
    {
      "cell_type": "code",
      "metadata": {
        "id": "XtPPZpl9rFNW"
      },
      "source": [
        "def generate_cases():\n",
        "    i=0\n",
        "    while True:  \n",
        "        yield random_list(i)\n",
        "        i+=1"
      ],
      "execution_count": null,
      "outputs": []
    },
    {
      "cell_type": "code",
      "metadata": {
        "id": "VoKCC_OEoScJ"
      },
      "source": [
        "gc=generate_cases()"
      ],
      "execution_count": null,
      "outputs": []
    },
    {
      "cell_type": "code",
      "metadata": {
        "colab": {
          "base_uri": "https://localhost:8080/"
        },
        "id": "6Aiuk0DwpcPf",
        "outputId": "f0092f82-a4da-496a-9831-1c0100ef891e"
      },
      "source": [
        "next(gc)"
      ],
      "execution_count": null,
      "outputs": [
        {
          "output_type": "execute_result",
          "data": {
            "text/plain": [
              "[2, 7, 3]"
            ]
          },
          "metadata": {
            "tags": []
          },
          "execution_count": 161
        }
      ]
    },
    {
      "cell_type": "code",
      "metadata": {
        "colab": {
          "base_uri": "https://localhost:8080/"
        },
        "id": "63VdP0C3oIch",
        "outputId": "022fe6b6-e2d0-439c-8abe-04340b175091"
      },
      "source": [
        "for case in generate_cases():\n",
        "    if len(case) > 10:\n",
        "        break\n",
        "    print(case)"
      ],
      "execution_count": null,
      "outputs": [
        {
          "output_type": "stream",
          "text": [
            "[]\n",
            "[1]\n",
            "[6, 3]\n",
            "[7, 8, 8]\n",
            "[3, 5, 4, 8]\n",
            "[7, 8, 0, 2, 3]\n",
            "[1, 0, 8, 6, 1, 6]\n",
            "[3, 9, 6, 4, 9, 1, 2]\n",
            "[1, 9, 5, 6, 0, 4, 4, 1]\n",
            "[0, 2, 9, 0, 8, 0, 6, 9, 6]\n",
            "[8, 4, 8, 7, 0, 4, 3, 4, 6, 7]\n"
          ],
          "name": "stdout"
        }
      ]
    },
    {
      "cell_type": "markdown",
      "metadata": {
        "id": "0fj83UE5QxdD"
      },
      "source": [
        "#### Decorators"
      ]
    },
    {
      "cell_type": "code",
      "metadata": {
        "colab": {
          "base_uri": "https://localhost:8080/"
        },
        "id": "xWU2FZBnQzAf",
        "outputId": "58501594-4d74-42da-83e2-2061b34003c5"
      },
      "source": [
        "def perform_twice(fn, *args, **kwargs):\n",
        "    fn(*args, **kwargs)\n",
        "    fn(*args, **kwargs)\n",
        "\n",
        "perform_twice(print, 5, 10, sep='&', end='...')"
      ],
      "execution_count": null,
      "outputs": [
        {
          "output_type": "stream",
          "text": [
            "5&10...5&10..."
          ],
          "name": "stdout"
        }
      ]
    },
    {
      "cell_type": "code",
      "metadata": {
        "colab": {
          "base_uri": "https://localhost:8080/"
        },
        "id": "hNH6NCT9Q4TB",
        "outputId": "b98a6663-405f-4e34-aded-d87c4f566774"
      },
      "source": [
        "def make_divisibility_test(n):\n",
        "    def divisible_by_n(m):\n",
        "        return m % n == 0\n",
        "    return divisible_by_n\n",
        "\n",
        "div_by_3 = make_divisibility_test(3)\n",
        "tuple(filter(div_by_3, range(10)))  # => (0, 3, 6, 9)"
      ],
      "execution_count": null,
      "outputs": [
        {
          "output_type": "execute_result",
          "data": {
            "text/plain": [
              "(0, 3, 6, 9)"
            ]
          },
          "metadata": {
            "tags": []
          },
          "execution_count": 15
        }
      ]
    },
    {
      "cell_type": "code",
      "metadata": {
        "colab": {
          "base_uri": "https://localhost:8080/"
        },
        "id": "wTUCnffyRI8H",
        "outputId": "45bee3cf-e003-445d-e4f0-e9afa061417f"
      },
      "source": [
        "make_divisibility_test(5)(10)  # => True"
      ],
      "execution_count": null,
      "outputs": [
        {
          "output_type": "execute_result",
          "data": {
            "text/plain": [
              "True"
            ]
          },
          "metadata": {
            "tags": []
          },
          "execution_count": 9
        }
      ]
    },
    {
      "cell_type": "code",
      "metadata": {
        "id": "HZT4k139Us1n"
      },
      "source": [
        "def print_args(function):\n",
        "    def wrapper(*args, **kwargs):\n",
        "        print(args, kwargs)\n",
        "        return function(*args, **kwargs)\n",
        "    return wrapper"
      ],
      "execution_count": null,
      "outputs": []
    },
    {
      "cell_type": "code",
      "metadata": {
        "colab": {
          "base_uri": "https://localhost:8080/"
        },
        "id": "sDP1aFYUUuqD",
        "outputId": "51bff629-0493-42ef-cc8c-528e86d5d202"
      },
      "source": [
        "def compute(x, y, z=1):\n",
        "    return (x + y) * z\n",
        "\n",
        "compute(3, 5, z=2)"
      ],
      "execution_count": null,
      "outputs": [
        {
          "output_type": "execute_result",
          "data": {
            "text/plain": [
              "16"
            ]
          },
          "metadata": {
            "tags": []
          },
          "execution_count": 20
        }
      ]
    },
    {
      "cell_type": "code",
      "metadata": {
        "colab": {
          "base_uri": "https://localhost:8080/"
        },
        "id": "_uSnn3DgU1z-",
        "outputId": "8424e8e9-c322-4fe5-a664-74af49da0acf"
      },
      "source": [
        "compute_log = print_args(compute)\n",
        "compute_log(3, 5, z=2)"
      ],
      "execution_count": null,
      "outputs": [
        {
          "output_type": "stream",
          "text": [
            "(3, 5) {'z': 2}\n"
          ],
          "name": "stdout"
        },
        {
          "output_type": "execute_result",
          "data": {
            "text/plain": [
              "16"
            ]
          },
          "metadata": {
            "tags": []
          },
          "execution_count": 21
        }
      ]
    },
    {
      "cell_type": "code",
      "metadata": {
        "colab": {
          "base_uri": "https://localhost:8080/"
        },
        "id": "yxRug4ZFU9td",
        "outputId": "98ac7713-ac7f-4163-e2da-8427d8c61d7d"
      },
      "source": [
        "def compute_2(a,b,c,x=1,y=2):\n",
        "  return (a**x/b)+c**y\n",
        "\n",
        "compute_2(2,3,4,x=2,y=3)"
      ],
      "execution_count": null,
      "outputs": [
        {
          "output_type": "execute_result",
          "data": {
            "text/plain": [
              "65.33333333333333"
            ]
          },
          "metadata": {
            "tags": []
          },
          "execution_count": 23
        }
      ]
    },
    {
      "cell_type": "code",
      "metadata": {
        "colab": {
          "base_uri": "https://localhost:8080/"
        },
        "id": "AmAehLpvVk5S",
        "outputId": "840ae644-d939-4cf2-d563-19a63c093b44"
      },
      "source": [
        "compute_log2 = print_args(compute_2)\n",
        "compute_log2(2,3,4,x=2,y=3)"
      ],
      "execution_count": null,
      "outputs": [
        {
          "output_type": "stream",
          "text": [
            "(2, 3, 4) {'x': 2, 'y': 3}\n"
          ],
          "name": "stdout"
        },
        {
          "output_type": "execute_result",
          "data": {
            "text/plain": [
              "65.33333333333333"
            ]
          },
          "metadata": {
            "tags": []
          },
          "execution_count": 24
        }
      ]
    },
    {
      "cell_type": "code",
      "metadata": {
        "id": "ybTb6y7Le1Ga"
      },
      "source": [
        "import functools"
      ],
      "execution_count": null,
      "outputs": []
    },
    {
      "cell_type": "code",
      "metadata": {
        "id": "fz4IrTyucSxB"
      },
      "source": [
        "def do_twice(func):\n",
        "    def wrapper_do_twice(*args, **kwargs):\n",
        "        func(*args, **kwargs)\n",
        "        func(*args, **kwargs)\n",
        "    return wrapper_do_twice\n",
        "\n",
        "def do_thrice(func):\n",
        "  @functools.wraps(func)\n",
        "  def wrapper_do_twice(*args, **kwargs):\n",
        "      func(*args, **kwargs)\n",
        "      func(*args, **kwargs)\n",
        "      func(*args, **kwargs)\n",
        "  return wrapper_do_twice\n"
      ],
      "execution_count": null,
      "outputs": []
    },
    {
      "cell_type": "code",
      "metadata": {
        "id": "CzIWSWrtcVpQ"
      },
      "source": [
        "@do_twice\n",
        "def return_greeting(name):\n",
        "    print(\"Creating greeting\")\n",
        "    return f\"Hi {name}\""
      ],
      "execution_count": null,
      "outputs": []
    },
    {
      "cell_type": "code",
      "metadata": {
        "colab": {
          "base_uri": "https://localhost:8080/"
        },
        "id": "uqw9_8kZcffC",
        "outputId": "c4993f54-82b8-40e5-f1af-1b335202ec06"
      },
      "source": [
        "return_greeting(\"khakha\")"
      ],
      "execution_count": null,
      "outputs": [
        {
          "output_type": "stream",
          "text": [
            "Creating greeting\n",
            "Creating greeting\n",
            "Creating greeting\n"
          ],
          "name": "stdout"
        }
      ]
    },
    {
      "cell_type": "code",
      "metadata": {
        "id": "aWEnFIPCdQ0X"
      },
      "source": [
        "@do_thrice\n",
        "def callme(name):\n",
        "  print(\"I am\", name)"
      ],
      "execution_count": null,
      "outputs": []
    },
    {
      "cell_type": "code",
      "metadata": {
        "colab": {
          "base_uri": "https://localhost:8080/"
        },
        "id": "pKe75WB8djdn",
        "outputId": "84e8d8b5-607c-4448-be78-e17e419a643d"
      },
      "source": [
        "callme(\"khakha\")"
      ],
      "execution_count": null,
      "outputs": [
        {
          "output_type": "stream",
          "text": [
            "I am khakha\n",
            "I am khakha\n",
            "I am khakha\n"
          ],
          "name": "stdout"
        }
      ]
    },
    {
      "cell_type": "code",
      "metadata": {
        "colab": {
          "base_uri": "https://localhost:8080/",
          "height": 36
        },
        "id": "xX1S4bjteZkG",
        "outputId": "a251a39d-acf5-41f2-8f79-66ec50068ce7"
      },
      "source": [
        "callme.__name__"
      ],
      "execution_count": null,
      "outputs": [
        {
          "output_type": "execute_result",
          "data": {
            "application/vnd.google.colaboratory.intrinsic+json": {
              "type": "string"
            },
            "text/plain": [
              "'callme'"
            ]
          },
          "metadata": {
            "tags": []
          },
          "execution_count": 50
        }
      ]
    },
    {
      "cell_type": "code",
      "metadata": {
        "id": "-9_8vJMIfLUP"
      },
      "source": [
        "import functools\n",
        "import time\n",
        "\n",
        "def timer(func):\n",
        "    \"\"\"Print the runtime of the decorated function\"\"\"\n",
        "    @functools.wraps(func)\n",
        "    def wrapper_timer(*args, **kwargs):\n",
        "        start_time = time.perf_counter()    # 1\n",
        "        value = func(*args, **kwargs)\n",
        "        end_time = time.perf_counter()      # 2\n",
        "        run_time = end_time - start_time    # 3\n",
        "        print(f\"Finished {func.__name__!r} in {run_time:.4f} secs\")\n",
        "        return value\n",
        "    return wrapper_timer\n",
        "\n",
        "@timer\n",
        "def waste_some_time(num_times):\n",
        "    for _ in range(num_times):\n",
        "        sum([i**2 for i in range(10000)])\n"
      ],
      "execution_count": null,
      "outputs": []
    },
    {
      "cell_type": "markdown",
      "metadata": {
        "id": "i0G4AdCCmPKo"
      },
      "source": [
        "#### memoize decorator"
      ]
    },
    {
      "cell_type": "code",
      "metadata": {
        "id": "zIE5Rj0IjJ7k"
      },
      "source": [
        "import functools\n",
        "\n",
        "def memoize(function):\n",
        "    cachef = dict()\n",
        "    @functools.wraps(function)\n",
        "    def wrapper(*args, **kwargs):\n",
        "        if args in cachef:\n",
        "            return cachef[args]\n",
        "            print(cachef[args])\n",
        "        result=function(*args, **kwargs)\n",
        "        cachef[args]=result\n",
        "        return result\n",
        "    return wrapper"
      ],
      "execution_count": null,
      "outputs": []
    },
    {
      "cell_type": "code",
      "metadata": {
        "id": "xXdC_uhdj4zl"
      },
      "source": [
        "@memoize\n",
        "def fib(n):\n",
        "    if n < 2:\n",
        "        return n\n",
        "    return fib(n-1) + fib(n-2)"
      ],
      "execution_count": null,
      "outputs": []
    },
    {
      "cell_type": "code",
      "metadata": {
        "colab": {
          "base_uri": "https://localhost:8080/"
        },
        "id": "36VCUAr7j57t",
        "outputId": "62df51bb-1396-4ec4-fd5e-16911e5e7b82"
      },
      "source": [
        "fib(10)"
      ],
      "execution_count": null,
      "outputs": [
        {
          "output_type": "execute_result",
          "data": {
            "text/plain": [
              "55"
            ]
          },
          "metadata": {
            "tags": []
          },
          "execution_count": 96
        }
      ]
    },
    {
      "cell_type": "code",
      "metadata": {
        "id": "l2yFy3grr0br"
      },
      "source": [
        "# Udacity solution\n",
        "import functools\n",
        "\n",
        "def memoize(function):\n",
        "    function._cache = {}\n",
        "    @functools.wraps(function)\n",
        "    def wrapper(*args, **kwargs):\n",
        "        key = (args, tuple(kwargs.items()))\n",
        "        if key not in function._cache:\n",
        "            function._cache[key] = function(*args, **kwargs)\n",
        "        return function._cache[key]\n",
        "    return wrapper"
      ],
      "execution_count": null,
      "outputs": []
    },
    {
      "cell_type": "code",
      "metadata": {
        "id": "nlPAIXLFtJLo"
      },
      "source": [
        "# Udacity solution modified\n",
        "import functools\n",
        "\n",
        "def memoize(function):\n",
        "    function._cache = {}\n",
        "    @functools.wraps(function)\n",
        "    def wrapper(*args, **kwargs):\n",
        "        #key = (args, tuple(kwargs.items()))\n",
        "        if args not in function._cache:\n",
        "            function._cache[args] = function(*args, **kwargs)\n",
        "        return function._cache[args]\n",
        "    return wrapper"
      ],
      "execution_count": null,
      "outputs": []
    },
    {
      "cell_type": "code",
      "metadata": {
        "id": "AYkgbW02sCnz"
      },
      "source": [
        "@memoize\n",
        "def fib(n):\n",
        "    if n < 2:\n",
        "        return n\n",
        "    return fib(n-1) + fib(n-2)"
      ],
      "execution_count": null,
      "outputs": []
    },
    {
      "cell_type": "code",
      "metadata": {
        "colab": {
          "base_uri": "https://localhost:8080/"
        },
        "id": "GaeNQeEqsE-F",
        "outputId": "2cff41d4-dd4e-4a64-bb93-58e3d5698182"
      },
      "source": [
        "fib(10)"
      ],
      "execution_count": null,
      "outputs": [
        {
          "output_type": "execute_result",
          "data": {
            "text/plain": [
              "55"
            ]
          },
          "metadata": {
            "tags": []
          },
          "execution_count": 13
        }
      ]
    },
    {
      "cell_type": "code",
      "metadata": {
        "colab": {
          "base_uri": "https://localhost:8080/"
        },
        "id": "prZP6D6ZsZ6g",
        "outputId": "e67d03f8-008c-4c78-fda3-45b81396dc15"
      },
      "source": [
        "time fib(10)"
      ],
      "execution_count": null,
      "outputs": [
        {
          "output_type": "stream",
          "text": [
            "CPU times: user 6 µs, sys: 1 µs, total: 7 µs\n",
            "Wall time: 11.2 µs\n"
          ],
          "name": "stdout"
        },
        {
          "output_type": "execute_result",
          "data": {
            "text/plain": [
              "55"
            ]
          },
          "metadata": {
            "tags": []
          },
          "execution_count": 26
        }
      ]
    },
    {
      "cell_type": "markdown",
      "metadata": {
        "id": "ANIh4j2ut0Ml"
      },
      "source": [
        "#### Function caching"
      ]
    },
    {
      "cell_type": "code",
      "metadata": {
        "id": "ozC2McYSt3de"
      },
      "source": [
        "from functools import lru_cache\n",
        "\n",
        "@lru_cache(maxsize=32)\n",
        "def fib(n):\n",
        "    if n < 2:\n",
        "        return n\n",
        "    return fib(n-1) + fib(n-2)"
      ],
      "execution_count": null,
      "outputs": []
    },
    {
      "cell_type": "code",
      "metadata": {
        "colab": {
          "base_uri": "https://localhost:8080/"
        },
        "id": "9Z5poQ1ct66P",
        "outputId": "d953daad-0fc8-4c6d-fa85-575bf405428f"
      },
      "source": [
        "print([fib(n) for n in range(10)])"
      ],
      "execution_count": null,
      "outputs": [
        {
          "output_type": "stream",
          "text": [
            "[0, 1, 1, 2, 3, 5, 8, 13, 21, 34]\n"
          ],
          "name": "stdout"
        }
      ]
    },
    {
      "cell_type": "markdown",
      "metadata": {
        "id": "aFwPz2I11iHh"
      },
      "source": [
        "#### Positional-Only Arguments"
      ]
    },
    {
      "cell_type": "code",
      "metadata": {
        "id": "tWfVoBUD1hZZ"
      },
      "source": [
        "#def incr(x, /):\n",
        "#  return x + 1"
      ],
      "execution_count": null,
      "outputs": []
    },
    {
      "cell_type": "markdown",
      "metadata": {
        "id": "90c59op536n5"
      },
      "source": [
        "#### keyword-only arguments"
      ]
    },
    {
      "cell_type": "code",
      "metadata": {
        "id": "et8GOJ6B356d"
      },
      "source": [
        "def to_fahrenheit(*, celsius):\n",
        "  return 32 + celsius * 9 / 5"
      ],
      "execution_count": null,
      "outputs": []
    },
    {
      "cell_type": "code",
      "metadata": {
        "colab": {
          "base_uri": "https://localhost:8080/"
        },
        "id": "_bPT9Ecs4CHs",
        "outputId": "82499453-a740-4447-c75e-27894c6ef8ba"
      },
      "source": [
        "to_fahrenheit(celsius=40)"
      ],
      "execution_count": null,
      "outputs": [
        {
          "output_type": "execute_result",
          "data": {
            "text/plain": [
              "104.0"
            ]
          },
          "metadata": {
            "tags": []
          },
          "execution_count": 36
        }
      ]
    },
    {
      "cell_type": "code",
      "metadata": {
        "colab": {
          "base_uri": "https://localhost:8080/",
          "height": 171
        },
        "id": "CS7QX7mI4EQG",
        "outputId": "105daa4d-631f-4d14-a355-892ef71cacec"
      },
      "source": [
        "to_fahrenheit(40)"
      ],
      "execution_count": null,
      "outputs": [
        {
          "output_type": "error",
          "ename": "TypeError",
          "evalue": "ignored",
          "traceback": [
            "\u001b[0;31m---------------------------------------------------------------------------\u001b[0m",
            "\u001b[0;31mTypeError\u001b[0m                                 Traceback (most recent call last)",
            "\u001b[0;32m<ipython-input-37-6bd18fd3776c>\u001b[0m in \u001b[0;36m<module>\u001b[0;34m()\u001b[0m\n\u001b[0;32m----> 1\u001b[0;31m \u001b[0mto_fahrenheit\u001b[0m\u001b[0;34m(\u001b[0m\u001b[0;36m40\u001b[0m\u001b[0;34m)\u001b[0m\u001b[0;34m\u001b[0m\u001b[0;34m\u001b[0m\u001b[0m\n\u001b[0m",
            "\u001b[0;31mTypeError\u001b[0m: to_fahrenheit() takes 0 positional arguments but 1 was given"
          ]
        }
      ]
    },
    {
      "cell_type": "code",
      "metadata": {
        "colab": {
          "base_uri": "https://localhost:8080/"
        },
        "id": "Zd373ipq41Zp",
        "outputId": "533d0b2f-5b62-4561-d0da-e9d889027906"
      },
      "source": [
        "!python --version"
      ],
      "execution_count": null,
      "outputs": [
        {
          "output_type": "stream",
          "text": [
            "Python 3.7.10\n"
          ],
          "name": "stdout"
        }
      ]
    },
    {
      "cell_type": "markdown",
      "metadata": {
        "id": "DQk2-93s7jH-"
      },
      "source": [
        "#### Runtime Type Checker"
      ]
    },
    {
      "cell_type": "code",
      "metadata": {
        "id": "MjXJIig75RuJ"
      },
      "source": [
        "def foo(a: int, b: str) -> bool:\n",
        "    return b[a] == 'X'"
      ],
      "execution_count": null,
      "outputs": []
    },
    {
      "cell_type": "code",
      "metadata": {
        "colab": {
          "base_uri": "https://localhost:8080/"
        },
        "id": "89zUE62P7gnq",
        "outputId": "9610f93a-5117-416e-ae51-08325df26163"
      },
      "source": [
        "foo.__annotations__ # => {'a': int, 'b': str, 'return': bool}"
      ],
      "execution_count": null,
      "outputs": [
        {
          "output_type": "execute_result",
          "data": {
            "text/plain": [
              "{'a': int, 'b': str, 'return': bool}"
            ]
          },
          "metadata": {
            "tags": []
          },
          "execution_count": 65
        }
      ]
    },
    {
      "cell_type": "code",
      "metadata": {
        "id": "CwSsJ5iC70H4"
      },
      "source": [
        "import functools\n",
        "\n",
        "def check_types(severity=1):\n",
        "    def checker(function):\n",
        "        @functools.wraps(function)\n",
        "        def wrapper(*args, **kwargs):\n",
        "            # Do something neat!\n",
        "            return function(*args, **kwargs)\n",
        "        return wrapper\n",
        "    return checker"
      ],
      "execution_count": null,
      "outputs": []
    },
    {
      "cell_type": "code",
      "metadata": {
        "id": "xORRbn1_72f_"
      },
      "source": [
        "@check_types(severity=2)\n",
        "def foo(a: int, b: str) -> bool:\n",
        "    return b[a] == 'X'"
      ],
      "execution_count": null,
      "outputs": []
    },
    {
      "cell_type": "code",
      "metadata": {
        "id": "l4lO9GQw8H-n"
      },
      "source": [
        "def demonstrate_complex_arguments(a, b=1, *c, d=1, **e):\n",
        "    pass"
      ],
      "execution_count": null,
      "outputs": []
    },
    {
      "cell_type": "code",
      "metadata": {
        "id": "pRoOE9yb9RdT"
      },
      "source": [
        "import inspect\n",
        "\n",
        "def bind_args(function, *args, **kwargs):\n",
        "    return inspect.signature(function).bind(*args, **kwargs).arguments"
      ],
      "execution_count": null,
      "outputs": []
    },
    {
      "cell_type": "code",
      "metadata": {
        "id": "R_PCGAnv9Uc5"
      },
      "source": [
        "import functools\n",
        "\n",
        "import helper\n",
        "\n",
        "\n",
        "def check_types(severity=1):\n",
        "  if severity==0:\n",
        "    def checker(function):\n",
        "        @functools.wraps(function)\n",
        "        def wrapper(*args, **kwargs):\n",
        "          return function(*args, **kwargs)\n",
        "        return wrapper\n",
        "    return checker\n",
        "  elif severity==1:\n",
        "    def checker(function):\n",
        "        @functools.wraps(function)\n",
        "        def wrapper(*args, **kwargs):\n",
        "          print(function.__annotations__)\n",
        "          return function(*args, **kwargs)\n",
        "        return wrapper\n",
        "    return checker\n",
        "  elif severity==2:\n",
        "    def checker(function):\n",
        "        @functools.wraps(function)\n",
        "        def wrapper(*args, **kwargs):\n",
        "          return function(*args, **kwargs)\n",
        "        return wrapper\n",
        "    return checker"
      ],
      "execution_count": null,
      "outputs": []
    },
    {
      "cell_type": "code",
      "metadata": {
        "colab": {
          "base_uri": "https://localhost:8080/"
        },
        "id": "wqjyflXP9rmv",
        "outputId": "0ce2fc4f-879b-4f96-e0be-ef97a7beb6bd"
      },
      "source": [
        "def demonstrate_complex_arguments(a, b=1, *c, d=1, **e):\n",
        "    pass\n",
        "\n",
        "print(dict(bind_args(demonstrate_complex_arguments, 1, 2, 3, 4, d=10, e=11, f=12, g=13)))"
      ],
      "execution_count": null,
      "outputs": [
        {
          "output_type": "stream",
          "text": [
            "{'a': 1, 'b': 2, 'c': (3, 4), 'd': 10, 'e': {'e': 11, 'f': 12, 'g': 13}}\n"
          ],
          "name": "stdout"
        }
      ]
    },
    {
      "cell_type": "code",
      "metadata": {
        "id": "-aAxwrk1COvX"
      },
      "source": [
        "def check_types(severity=1):\n",
        "    if severity == 0:\n",
        "        return lambda function: function\n",
        "\n",
        "    def message(msg):\n",
        "        if severity == 1:\n",
        "            print(msg)\n",
        "        else:\n",
        "            raise TypeError(msg)\n",
        "    def checker(function):\n",
        "        expected = function.__annotations__\n",
        "\n",
        "        assert(all(map(lambda exp: isinstance(exp, type), expected.values())))\n",
        "        if not expected:\n",
        "            return function\n",
        "        @functools.wraps(function)\n",
        "        def wrapper(*args, **kwargs):\n",
        "            bound_arguments = helper.bind_args(function, *args, **kwargs)\n",
        "            for arg, val in bound_arguments.items():\n",
        "                if arg not in expected:\n",
        "                    continue\n",
        "                if not isinstance(val, expected[arg]):\n",
        "                    message(f\"Bad Argument! Received {arg}={val}, expecting object of type {expected[arg]}\")\n",
        "            retval = function(*args, **kwargs)\n",
        "            if 'return' in expected and not isinstance(retval, expected['return']):\n",
        "                message(f\"Bad Return Value! Received {retval}, but expected value of type {expected['return']}\")\n",
        "            return retval\n",
        "        return wrapper\n",
        "    return checker"
      ],
      "execution_count": null,
      "outputs": []
    },
    {
      "cell_type": "markdown",
      "metadata": {
        "id": "ZJfrAjq1rBNk"
      },
      "source": [
        "Object-Oriented Programming (OOP) in Python 3\n",
        "\n",
        "https://realpython.com/python3-object-oriented-programming/"
      ]
    },
    {
      "cell_type": "code",
      "metadata": {
        "id": "mv_mv7pfr__z"
      },
      "source": [
        "class MyFirstClass:\n",
        "    \"\"\"A simple example class.\"\"\"\n",
        "    num = 12345\n",
        "    def greet(self):\n",
        "        return \"Hello, world\""
      ],
      "execution_count": null,
      "outputs": []
    },
    {
      "cell_type": "code",
      "metadata": {
        "colab": {
          "base_uri": "https://localhost:8080/"
        },
        "id": "9PxIZdzJsDju",
        "outputId": "362c96d9-beac-4be1-8298-176257bd794d"
      },
      "source": [
        "print(MyFirstClass) "
      ],
      "execution_count": null,
      "outputs": [
        {
          "output_type": "stream",
          "text": [
            "<class '__main__.MyFirstClass'>\n"
          ],
          "name": "stdout"
        }
      ]
    },
    {
      "cell_type": "code",
      "metadata": {
        "colab": {
          "base_uri": "https://localhost:8080/"
        },
        "id": "0Gz8bWf2sGZA",
        "outputId": "5516bc94-919c-48d0-dead-6b2a79cfb58d"
      },
      "source": [
        "print(MyFirstClass.num)  # 12345\n",
        "print(MyFirstClass.greet)  # <function MyFirstClass.greet(self)>"
      ],
      "execution_count": null,
      "outputs": [
        {
          "output_type": "stream",
          "text": [
            "12345\n",
            "<function MyFirstClass.greet at 0x7f443494a3b0>\n"
          ],
          "name": "stdout"
        }
      ]
    },
    {
      "cell_type": "code",
      "metadata": {
        "colab": {
          "base_uri": "https://localhost:8080/"
        },
        "id": "ur8CDilgsMvi",
        "outputId": "484cb2a8-9a0e-4b39-d91e-9c319382004b"
      },
      "source": [
        "print(type(MyFirstClass.__dict__))  # something that acts a lot like a normal dictionary\n",
        "print('num' in MyFirstClass.__dict__)  # True\n",
        "print('greet' in MyFirstClass.__dict__)  # True"
      ],
      "execution_count": null,
      "outputs": [
        {
          "output_type": "stream",
          "text": [
            "<class 'mappingproxy'>\n",
            "True\n",
            "True\n"
          ],
          "name": "stdout"
        }
      ]
    },
    {
      "cell_type": "code",
      "metadata": {
        "colab": {
          "base_uri": "https://localhost:8080/"
        },
        "id": "SbRCkUawsbaC",
        "outputId": "dc33a432-9011-4642-c93a-760b35635652"
      },
      "source": [
        "print(MyFirstClass.__dict__['num'])"
      ],
      "execution_count": null,
      "outputs": [
        {
          "output_type": "stream",
          "text": [
            "12345\n"
          ],
          "name": "stdout"
        }
      ]
    },
    {
      "cell_type": "code",
      "metadata": {
        "id": "zMgDkCGcsWXH"
      },
      "source": [
        "class MySecondClass:\n",
        "    favorite_number = 41\n",
        "    def print_number(number):\n",
        "        print(number)"
      ],
      "execution_count": null,
      "outputs": []
    },
    {
      "cell_type": "code",
      "metadata": {
        "colab": {
          "base_uri": "https://localhost:8080/"
        },
        "id": "qTt3jvsKs40v",
        "outputId": "ac4e73dd-671a-462e-8280-1175e876fdf3"
      },
      "source": [
        "print(MySecondClass.__dict__['favorite_number'])"
      ],
      "execution_count": null,
      "outputs": [
        {
          "output_type": "stream",
          "text": [
            "41\n"
          ],
          "name": "stdout"
        }
      ]
    },
    {
      "cell_type": "code",
      "metadata": {
        "colab": {
          "base_uri": "https://localhost:8080/"
        },
        "id": "PoVQTbxtuLIE",
        "outputId": "ad064acd-e2e4-4dd1-ce7e-02bd8db87f60"
      },
      "source": [
        "class House:\n",
        "    layout = 'square'\n",
        "    def paint(self, color):\n",
        "        self.color = color\n",
        "\n",
        "# As before, we can access attributes.\n",
        "print(House.layout)  # 'square'\n",
        "print(House.paint)  # <function House.paint(self, color)>\n",
        "\n",
        "# This is the new syntax! Instantiate a class object to get back an instance object.\n",
        "home = House()  # `home` is now a _specific_ instance object of type `House`\n",
        "print(home)  # <House at 0x....>\n",
        "print(type(home) is House)  # True"
      ],
      "execution_count": null,
      "outputs": [
        {
          "output_type": "stream",
          "text": [
            "square\n",
            "<function House.paint at 0x7f4430814dd0>\n",
            "<__main__.House object at 0x7f44307e0bd0>\n",
            "True\n"
          ],
          "name": "stdout"
        }
      ]
    },
    {
      "cell_type": "markdown",
      "metadata": {
        "id": "WfMq6rz7vH2X"
      },
      "source": [
        "#### Attribute Resolution"
      ]
    },
    {
      "cell_type": "code",
      "metadata": {
        "colab": {
          "base_uri": "https://localhost:8080/"
        },
        "id": "mIQjNkAYvuTo",
        "outputId": "34718099-21af-40fb-bcd2-6e6f723015f9"
      },
      "source": [
        "home.size = '1000'\n",
        "print(home.size)  # 1000\n",
        "print(home.__dict__)  # {'size': '1000'}\n",
        "\n",
        "home.color = 'red'\n",
        "print(home.__dict__)  # {'size': '1000', 'color': 'red'}\n",
        "\n",
        "home.num_bathrooms = 2\n",
        "home.num_bedrooms = 3\n",
        "print(home.__dict__)  # {'size': '1000', 'color': 'red', 'num_bathrooms': 2, 'num_bedrooms': 3}\n",
        "\n",
        "home.color = 'blue'\n",
        "print(home.color)  # blue\n",
        "print(home.num_bathrooms)  # 2"
      ],
      "execution_count": null,
      "outputs": [
        {
          "output_type": "stream",
          "text": [
            "1000\n",
            "{'size': '1000'}\n",
            "{'size': '1000', 'color': 'red'}\n",
            "{'size': '1000', 'color': 'red', 'num_bathrooms': 2, 'num_bedrooms': 3}\n",
            "blue\n",
            "2\n"
          ],
          "name": "stdout"
        }
      ]
    },
    {
      "cell_type": "code",
      "metadata": {
        "colab": {
          "base_uri": "https://localhost:8080/",
          "height": 36
        },
        "id": "NEKUJIXLv0yR",
        "outputId": "b616f6cc-3f54-46eb-a3e6-a6ec41a50c70"
      },
      "source": [
        "home.__dict__['size']"
      ],
      "execution_count": null,
      "outputs": [
        {
          "output_type": "execute_result",
          "data": {
            "application/vnd.google.colaboratory.intrinsic+json": {
              "type": "string"
            },
            "text/plain": [
              "'1000'"
            ]
          },
          "metadata": {
            "tags": []
          },
          "execution_count": 15
        }
      ]
    },
    {
      "cell_type": "markdown",
      "metadata": {
        "id": "iM-LlYOywUb5"
      },
      "source": [
        "\n",
        "    getattr(x, 'y') is equivalent to x.y. It also accepts a default fallback value if the attribute isn't found.\n",
        "    setattr(x, 'y', z) is equivalent to x.y = z\n",
        "    delattr(x, 'y') is equivalent to del x.y\n",
        "\n",
        "    Attributes are names that come after a dot, like obj.name and represent some information that is attached to an object.\n",
        "    Attributes can be retrieved or arbitrarily assigned on class objects or instance objects.\n",
        "    Class objects and instance objects each store their attributes in a special __dict__ attribute.\n",
        "\n"
      ]
    },
    {
      "cell_type": "markdown",
      "metadata": {
        "id": "Yy74c6UiwmSh"
      },
      "source": [
        "OOP Python Tutorial\n",
        "\n",
        "https://www.python-course.eu/python3_class_and_instance_attributes.php"
      ]
    },
    {
      "cell_type": "markdown",
      "metadata": {
        "id": "lNaf0Rp6xXaA"
      },
      "source": [
        "#### Custom Initialization"
      ]
    },
    {
      "cell_type": "code",
      "metadata": {
        "colab": {
          "base_uri": "https://localhost:8080/"
        },
        "id": "NUTKE0smzHIr",
        "outputId": "d583e257-7119-47d2-825f-d5fd7f910e1a"
      },
      "source": [
        "class House:\n",
        "    def __init__(self, size, color='white'):\n",
        "        self.size = size\n",
        "        self.color = color\n",
        "\n",
        "home = House(1000, color='red')\n",
        "print(home.size)  # 1000\n",
        "print(home.color)  # red\n",
        "\n",
        "mansion = House(25000)\n",
        "print(mansion.size)  # 25000\n",
        "print(mansion.color)  # white"
      ],
      "execution_count": null,
      "outputs": [
        {
          "output_type": "stream",
          "text": [
            "1000\n",
            "red\n",
            "25000\n",
            "white\n"
          ],
          "name": "stdout"
        }
      ]
    },
    {
      "cell_type": "code",
      "metadata": {
        "id": "28L4mNKKz2kl"
      },
      "source": [
        "class Notebook:\n",
        "    def __init__(self, pages, size='a4', spacing='college'):\n",
        "        self.pages=pages\n",
        "        self.size=size\n",
        "        self.spacing=spacing"
      ],
      "execution_count": null,
      "outputs": []
    },
    {
      "cell_type": "code",
      "metadata": {
        "colab": {
          "base_uri": "https://localhost:8080/"
        },
        "id": "mbfWTxtGz4Sl",
        "outputId": "c3d4430e-c3ba-4052-f215-5045b0e6fe98"
      },
      "source": [
        "nb=Notebook(20)\n",
        "\n",
        "print(nb.pages)\n",
        "print(nb.size)\n",
        "print(nb.spacing)"
      ],
      "execution_count": null,
      "outputs": [
        {
          "output_type": "stream",
          "text": [
            "20\n",
            "a4\n",
            "college\n"
          ],
          "name": "stdout"
        }
      ]
    },
    {
      "cell_type": "markdown",
      "metadata": {
        "id": "M6219r4X1ls4"
      },
      "source": [
        "#### Methods and Functions"
      ]
    },
    {
      "cell_type": "code",
      "metadata": {
        "colab": {
          "base_uri": "https://localhost:8080/"
        },
        "id": "-zZcFup31nyK",
        "outputId": "01af7660-5340-43dd-a88f-c14a3aa158e0"
      },
      "source": [
        "class House:\n",
        "    layout = 'square'\n",
        "    def __init__(self, size, color='white'):\n",
        "        self.size = size\n",
        "        self.color = color\n",
        "    def paint(self, color):\n",
        "        self.color = color\n",
        "\n",
        "# We can instantiate a `home` from the class object `House`\n",
        "# (using our `__init__` method!) and resolve attributes.\n",
        "home = House(1000)\n",
        "print(home.size)  # 1000\n",
        "print(home.color)  # white\n",
        "\n",
        "# We can resolve attributes on the class object too.\n",
        "print(House.layout)  # square\n",
        "print(House.paint)  # <function House.paint(self, color)>"
      ],
      "execution_count": null,
      "outputs": [
        {
          "output_type": "stream",
          "text": [
            "1000\n",
            "white\n",
            "square\n",
            "<function House.paint at 0x7f4430845c20>\n"
          ],
          "name": "stdout"
        }
      ]
    },
    {
      "cell_type": "code",
      "metadata": {
        "colab": {
          "base_uri": "https://localhost:8080/"
        },
        "id": "0fWW0mjL10b2",
        "outputId": "8f6754b4-d4de-43ed-c2bb-443be5742c83"
      },
      "source": [
        "print(home.layout)  # square - everything looks normal\n",
        "print(home.paint)  # <bound method House.paint of <House object at 0x...>> - what's this?!"
      ],
      "execution_count": null,
      "outputs": [
        {
          "output_type": "stream",
          "text": [
            "square\n",
            "<bound method House.paint of <__main__.House object at 0x7f44308534d0>>\n"
          ],
          "name": "stdout"
        }
      ]
    },
    {
      "cell_type": "code",
      "metadata": {
        "colab": {
          "base_uri": "https://localhost:8080/"
        },
        "id": "LELfwBGk14NR",
        "outputId": "98fba3a0-dcf5-4061-8275-e60192aeec85"
      },
      "source": [
        "print(home.paint.__func__)  # <function House.paint(self, color)>\n",
        "print(home.paint.__self__)  # <House at 0x...>\n",
        "print(home.paint.__self__ is home)  # True"
      ],
      "execution_count": null,
      "outputs": [
        {
          "output_type": "stream",
          "text": [
            "<function House.paint at 0x7f4430845c20>\n",
            "<__main__.House object at 0x7f44308534d0>\n",
            "True\n"
          ],
          "name": "stdout"
        }
      ]
    },
    {
      "cell_type": "code",
      "metadata": {
        "colab": {
          "base_uri": "https://localhost:8080/"
        },
        "id": "8SNAeuCA1-37",
        "outputId": "3436dba2-04da-4e1c-f103-177f4d139466"
      },
      "source": [
        "home.paint('red')\n",
        "# is equivalent to\n",
        "House.paint(home, 'red')\n",
        "\n",
        "# The home's color is indeed changed after painting the home.\n",
        "print(home.color)  # red"
      ],
      "execution_count": null,
      "outputs": [
        {
          "output_type": "stream",
          "text": [
            "red\n"
          ],
          "name": "stdout"
        }
      ]
    },
    {
      "cell_type": "code",
      "metadata": {
        "colab": {
          "base_uri": "https://localhost:8080/"
        },
        "id": "NiFf-lDD2HPk",
        "outputId": "b0119c09-8ad9-4331-fe63-aed14c89f27f"
      },
      "source": [
        "\"Udacity\".startswith(\"Uda\")"
      ],
      "execution_count": null,
      "outputs": [
        {
          "output_type": "execute_result",
          "data": {
            "text/plain": [
              "True"
            ]
          },
          "metadata": {
            "tags": []
          },
          "execution_count": 26
        }
      ]
    },
    {
      "cell_type": "code",
      "metadata": {
        "colab": {
          "base_uri": "https://localhost:8080/"
        },
        "id": "BAtDarng2OBj",
        "outputId": "834ac9d1-b2b8-465b-a0ad-1faacacd88ab"
      },
      "source": [
        "str.startswith(\"Udacity\",\"Uda\")"
      ],
      "execution_count": null,
      "outputs": [
        {
          "output_type": "execute_result",
          "data": {
            "text/plain": [
              "True"
            ]
          },
          "metadata": {
            "tags": []
          },
          "execution_count": 29
        }
      ]
    },
    {
      "cell_type": "markdown",
      "metadata": {
        "id": "FCnR1kgm26uB"
      },
      "source": [
        "#### Methods and Functions\n",
        "\n",
        "Add a method `build_expansion` to a `House` class that increases a house's size by a given number. That is, the following should work\n",
        "\n",
        "```\n",
        "home = House(2000)\n",
        "print(home.size)  # 2000\n",
        "home.build_expansion(500)\n",
        "print(home.size)  # 2500\n",
        "```"
      ]
    },
    {
      "cell_type": "code",
      "metadata": {
        "id": "x7DkNKX-22c9"
      },
      "source": [
        "class House:\n",
        "    def __init__(self, size, color='white'):\n",
        "        self.size = size\n",
        "        self.color = color\n",
        "        \n",
        "    # TODO: Add a `build_expansion` method.\n",
        "    def build_expansion(self, num):\n",
        "        self.size+=num\n",
        "    \n",
        "home = House(2000)"
      ],
      "execution_count": null,
      "outputs": []
    },
    {
      "cell_type": "markdown",
      "metadata": {
        "id": "dXYd7F4H4ahu"
      },
      "source": [
        "Method: \tA callable object that bundles a callable function with an instance object, which upon invocation calls the bundled function with the bundled object as the first argument.\n",
        "\n",
        "\n",
        "    Difference between Method and Function (TutorialsPoint): A brief recap of the differences between methods and functions.\n",
        "https://www.tutorialspoint.com/difference-between-method-and-function-in-python\n",
        "\n",
        "    Method Objects: Python tutorial's overview of method objects.\n",
        "https://docs.python.org/3/tutorial/classes.html#method-objects"
      ]
    },
    {
      "cell_type": "markdown",
      "metadata": {
        "id": "qg3DH_GA5Izc"
      },
      "source": [
        "#### Nuances"
      ]
    },
    {
      "cell_type": "code",
      "metadata": {
        "id": "Ed0jb8Hg4ZuR"
      },
      "source": [
        "class House:\n",
        "    appliances = []\n",
        "    def __init__(self, size):\n",
        "        self.size = size\n",
        "    def install(self, appliance):\n",
        "        self.appliances.append(appliance)"
      ],
      "execution_count": null,
      "outputs": []
    },
    {
      "cell_type": "code",
      "metadata": {
        "colab": {
          "base_uri": "https://localhost:8080/"
        },
        "id": "ocj6ygbX611W",
        "outputId": "3ebf6443-0ab6-4269-f7ce-34d62b04152d"
      },
      "source": [
        "home = House(1000)\n",
        "vacation_home = House(5000)\n",
        "\n",
        "home.install('oven')\n",
        "home.install('microwave')\n",
        "print(home.appliances)  # ['oven', 'microwave'] - good! what we wanted\n",
        "print(vacation_home.appliances)  # ['oven', 'microwave'] - oh no! we didn't want this"
      ],
      "execution_count": null,
      "outputs": [
        {
          "output_type": "stream",
          "text": [
            "['oven', 'microwave']\n",
            "['oven', 'microwave']\n"
          ],
          "name": "stdout"
        }
      ]
    },
    {
      "cell_type": "code",
      "metadata": {
        "colab": {
          "base_uri": "https://localhost:8080/"
        },
        "id": "s4xWvexq64jo",
        "outputId": "b75bca4a-3454-4a2a-dfa3-37ab51f6c522"
      },
      "source": [
        "print(id(home.appliances))  # => 45...1632\n",
        "print(home.__dict__)  # {'size': 1000}\n",
        "print(House.__dict__)\n",
        "# {\n",
        "#     'appliances': ['oven', 'microwave']\n",
        "#     ... other stuff\n",
        "# }\n",
        "\n",
        "print(House.appliances)  # ['oven', 'microwave']\n",
        "print(id(House.appliances))  # 45...1632\n",
        "print(id(vacation_home.appliances))  # 45...1632"
      ],
      "execution_count": null,
      "outputs": [
        {
          "output_type": "stream",
          "text": [
            "139930847932736\n",
            "{'size': 1000}\n",
            "{'__module__': '__main__', 'appliances': ['oven', 'microwave'], '__init__': <function House.__init__ at 0x7f4430802320>, 'install': <function House.install at 0x7f44307814d0>, '__dict__': <attribute '__dict__' of 'House' objects>, '__weakref__': <attribute '__weakref__' of 'House' objects>, '__doc__': None}\n",
            "['oven', 'microwave']\n",
            "139930847932736\n",
            "139930847932736\n"
          ],
          "name": "stdout"
        }
      ]
    },
    {
      "cell_type": "code",
      "metadata": {
        "id": "CtnfKKMF651Y"
      },
      "source": [
        "class House:\n",
        "    def __init__(self, size):\n",
        "        self.size = size\n",
        "        self.appliances = []\n",
        "    def install(self, appliance):\n",
        "        self.appliances.append(appliance)"
      ],
      "execution_count": null,
      "outputs": []
    },
    {
      "cell_type": "code",
      "metadata": {
        "id": "8VN5D2uk7TDd"
      },
      "source": [
        "home=House(1000)"
      ],
      "execution_count": null,
      "outputs": []
    },
    {
      "cell_type": "code",
      "metadata": {
        "id": "3V-thgJX7_Fb"
      },
      "source": [
        "home.install(\"oven\")"
      ],
      "execution_count": null,
      "outputs": []
    },
    {
      "cell_type": "code",
      "metadata": {
        "colab": {
          "base_uri": "https://localhost:8080/"
        },
        "id": "eFqFzuip7aWa",
        "outputId": "adc79263-3f92-4758-9731-cc7b2023f1ea"
      },
      "source": [
        "print(home.__dict__)"
      ],
      "execution_count": null,
      "outputs": [
        {
          "output_type": "stream",
          "text": [
            "{'size': 1000, 'appliances': ['oven']}\n"
          ],
          "name": "stdout"
        }
      ]
    },
    {
      "cell_type": "code",
      "metadata": {
        "id": "YV1dwLwq8LVx"
      },
      "source": [
        "class Vehicle:\n",
        "    color = \"white\"\n",
        "\n",
        "    def repaint(self, color):\n",
        "        self.color = color"
      ],
      "execution_count": null,
      "outputs": []
    },
    {
      "cell_type": "code",
      "metadata": {
        "id": "vwfYaO8w8bOW"
      },
      "source": [
        "vehicle= Vehicle()\n",
        "#vehicle.repaint('blue')\n",
        "Vehicle.color='red'"
      ],
      "execution_count": null,
      "outputs": []
    },
    {
      "cell_type": "code",
      "metadata": {
        "colab": {
          "base_uri": "https://localhost:8080/"
        },
        "id": "MONQZ1jE89-G",
        "outputId": "ce8187c2-7ad9-42ba-906e-d98d5c22e25e"
      },
      "source": [
        "print(vehicle.color)\n",
        "print(Vehicle.color)"
      ],
      "execution_count": null,
      "outputs": [
        {
          "output_type": "stream",
          "text": [
            "red\n",
            "red\n"
          ],
          "name": "stdout"
        }
      ]
    },
    {
      "cell_type": "code",
      "metadata": {
        "colab": {
          "base_uri": "https://localhost:8080/"
        },
        "id": "HDf1yrJdBQGa",
        "outputId": "22c2bac9-ef45-4c3d-c44e-8dcbd88249ec"
      },
      "source": [
        "# This one's a bit different, representing an unusual (and honestly,\n",
        "# not recommended) strategy for tracking users that sign up for a service.\n",
        "\n",
        "class User:\n",
        "    # An (intentionally shared) collection storing users who sign up for some hypothetical service.\n",
        "    # There's only one set of members, so it lives at the class level!\n",
        "    members = set()\n",
        "    def __init__(self, name, members=set()):\n",
        "        self.name = name\n",
        "        #self.members = set(members)  # Not signed up to begin with.\n",
        "    def sign_up(self):\n",
        "        self.members.add(self.name)\n",
        "\n",
        "# Change the code above so that the following lines work:\n",
        "\n",
        "sarah = User('sarah')\n",
        "heather = User('heather')\n",
        "cristina = User('cristina')\n",
        "print(User.members)  # {}\n",
        "heather.sign_up()\n",
        "cristina.sign_up()\n",
        "print(User.members)  # {'heather', 'cristina'}\n",
        "#print(heather.members)"
      ],
      "execution_count": null,
      "outputs": [
        {
          "output_type": "stream",
          "text": [
            "set()\n",
            "{'heather', 'cristina'}\n"
          ],
          "name": "stdout"
        }
      ]
    },
    {
      "cell_type": "markdown",
      "metadata": {
        "id": "FeSPcoL7ILQO"
      },
      "source": [
        "#### Understanding Class and Instance Variables in Python 3\n",
        "\n",
        "https://www.digitalocean.com/community/tutorials/understanding-class-and-instance-variables-in-python-3"
      ]
    },
    {
      "cell_type": "markdown",
      "metadata": {
        "id": "zVhfSGsrKWWM"
      },
      "source": [
        "#### Decorating Methods to Adapt Call Semantics"
      ]
    },
    {
      "cell_type": "code",
      "metadata": {
        "id": "7ygkGwrpHHYt"
      },
      "source": [
        "class Distance:\n",
        "    _KILOMETERS_PER_MILE = 1.60934\n",
        "    def __init__(self, km):\n",
        "        self.km = km\n",
        "    @property\n",
        "    def miles(self):\n",
        "        return self.km / self._KILOMETERS_PER_MILE\n",
        "    @miles.setter\n",
        "    def miles(self, miles):\n",
        "        self.km = miles * self._KILOMETERS_PER_MILE"
      ],
      "execution_count": null,
      "outputs": []
    },
    {
      "cell_type": "code",
      "metadata": {
        "id": "Zv8Q-QnJKiOs"
      },
      "source": [
        "d = Distance(10)"
      ],
      "execution_count": null,
      "outputs": []
    },
    {
      "cell_type": "code",
      "metadata": {
        "colab": {
          "base_uri": "https://localhost:8080/"
        },
        "id": "Fj-LFAaaKjgL",
        "outputId": "5cba651a-2bcd-4dd0-8606-2380942ec7ac"
      },
      "source": [
        "d.miles"
      ],
      "execution_count": null,
      "outputs": [
        {
          "output_type": "execute_result",
          "data": {
            "text/plain": [
              "6.213727366498068"
            ]
          },
          "metadata": {
            "tags": []
          },
          "execution_count": 81
        }
      ]
    },
    {
      "cell_type": "code",
      "metadata": {
        "id": "Iv_ZVDVAKoxj"
      },
      "source": [
        "d.miles=50"
      ],
      "execution_count": null,
      "outputs": []
    },
    {
      "cell_type": "code",
      "metadata": {
        "colab": {
          "base_uri": "https://localhost:8080/"
        },
        "id": "NTu9j25CKsej",
        "outputId": "ab58a990-b2bc-43be-b732-7011e7c0febe"
      },
      "source": [
        "d.miles"
      ],
      "execution_count": null,
      "outputs": [
        {
          "output_type": "execute_result",
          "data": {
            "text/plain": [
              "50.0"
            ]
          },
          "metadata": {
            "tags": []
          },
          "execution_count": 83
        }
      ]
    },
    {
      "cell_type": "code",
      "metadata": {
        "colab": {
          "base_uri": "https://localhost:8080/"
        },
        "id": "93AUSrypK1O9",
        "outputId": "00b05b3b-15d5-4876-bbd4-05c3f3ec38ef"
      },
      "source": [
        "d.km"
      ],
      "execution_count": null,
      "outputs": [
        {
          "output_type": "execute_result",
          "data": {
            "text/plain": [
              "80.467"
            ]
          },
          "metadata": {
            "tags": []
          },
          "execution_count": 84
        }
      ]
    },
    {
      "cell_type": "markdown",
      "metadata": {
        "id": "yQ35Eo_lK9PB"
      },
      "source": [
        "#### Python @property decorator\n",
        "\n",
        "https://www.programiz.com/python-programming/property"
      ]
    },
    {
      "cell_type": "code",
      "metadata": {
        "colab": {
          "base_uri": "https://localhost:8080/"
        },
        "id": "4KlXZhXSLAgx",
        "outputId": "8928cd2b-33ae-42b0-97d2-f414c02ff35a"
      },
      "source": [
        "# Using @property decorator\n",
        "class Celsius:\n",
        "    def __init__(self, temperature=0):\n",
        "        self.temperature = temperature\n",
        "\n",
        "    def to_fahrenheit(self):\n",
        "        return (self.temperature * 1.8) + 32\n",
        "\n",
        "    @property\n",
        "    def temperature(self):\n",
        "        print(\"Getting value...\")\n",
        "        return self._temperature\n",
        "\n",
        "    @temperature.setter\n",
        "    def temperature(self, value):\n",
        "        print(\"Setting value...\")\n",
        "        if value < -273.15:\n",
        "            raise ValueError(\"Temperature below -273 is not possible\")\n",
        "        self._temperature = value\n",
        "\n",
        "\n",
        "# create an object\n",
        "human = Celsius(37)\n",
        "\n",
        "print(human.temperature)\n",
        "\n",
        "print(human.to_fahrenheit())\n",
        "\n",
        "coldest_thing = Celsius(-200)"
      ],
      "execution_count": null,
      "outputs": [
        {
          "output_type": "stream",
          "text": [
            "Setting value...\n",
            "Getting value...\n",
            "37\n",
            "Getting value...\n",
            "98.60000000000001\n",
            "Setting value...\n"
          ],
          "name": "stdout"
        }
      ]
    },
    {
      "cell_type": "markdown",
      "metadata": {
        "id": "P-Dz26XfND2a"
      },
      "source": [
        "### Changing What A Function Call Does\n",
        "\n",
        "There are two other intriguing method decorators built into Python: classmethod and staticmethod\n",
        "\n",
        "The @classmethod decorator changes method call behavior by passing the class object, not the instance object, as the first argument.\n",
        "\n",
        "The @staticmethod decorator changes method call behavior by not supplying either the instance object nor the class object as the first argument.\n",
        "\n",
        "Class methods are a useful technique for representing factory functions - other ways to create instance objects, but attached to the class itself.\n",
        "\n",
        "Static methods are a useful technique for attaching utility functions to a class.\n",
        "\n",
        "In both of these circumstances, the same or similar behavior can be achieved with a standalone function - so whether your functionality is a normal function or a decorated method depends on how much that functionality \"belongs\" to the class itself.\n"
      ]
    },
    {
      "cell_type": "code",
      "metadata": {
        "id": "Ui8gvArINV4L"
      },
      "source": [
        "class Example:\n",
        "    def a_normal_method(self, a, b):\n",
        "        print(self, a, b)\n",
        "    @classmethod\n",
        "    def a_class_method(cls, a, b):\n",
        "        print(cls, a, b)\n",
        "    @staticmethod\n",
        "    def a_static_method(a, b):\n",
        "        print(a, b)\n",
        "\n",
        "ex = Example()"
      ],
      "execution_count": null,
      "outputs": []
    },
    {
      "cell_type": "code",
      "metadata": {
        "colab": {
          "base_uri": "https://localhost:8080/"
        },
        "id": "FOBiG5l4NmV2",
        "outputId": "3a224039-a805-4cea-fa58-7f7613711938"
      },
      "source": [
        "ex.a_normal_method(1, 2)"
      ],
      "execution_count": null,
      "outputs": [
        {
          "output_type": "stream",
          "text": [
            "<__main__.Example object at 0x7f44348ca450> 1 2\n"
          ],
          "name": "stdout"
        }
      ]
    },
    {
      "cell_type": "code",
      "metadata": {
        "colab": {
          "base_uri": "https://localhost:8080/"
        },
        "id": "Ayw11hqWNw8f",
        "outputId": "b97107e8-01f1-422b-b727-a99696f031b8"
      },
      "source": [
        "ex.a_static_method(1, 2)"
      ],
      "execution_count": null,
      "outputs": [
        {
          "output_type": "stream",
          "text": [
            "1 2\n"
          ],
          "name": "stdout"
        }
      ]
    },
    {
      "cell_type": "code",
      "metadata": {
        "colab": {
          "base_uri": "https://localhost:8080/"
        },
        "id": "74mGxtT0N3Kq",
        "outputId": "bf619637-907c-428b-f3a7-4f35456cc58a"
      },
      "source": [
        "Example.a_class_method(1, 2)"
      ],
      "execution_count": null,
      "outputs": [
        {
          "output_type": "stream",
          "text": [
            "<class '__main__.Example'> 1 2\n"
          ],
          "name": "stdout"
        }
      ]
    },
    {
      "cell_type": "code",
      "metadata": {
        "colab": {
          "base_uri": "https://localhost:8080/",
          "height": 209
        },
        "id": "m2uUHQwvOBZ2",
        "outputId": "8ef7e8ea-ad26-47b7-d68b-f9d8e8a1c3af"
      },
      "source": [
        "Example.a_normal_method(1, 2)"
      ],
      "execution_count": null,
      "outputs": [
        {
          "output_type": "error",
          "ename": "TypeError",
          "evalue": "ignored",
          "traceback": [
            "\u001b[0;31m---------------------------------------------------------------------------\u001b[0m",
            "\u001b[0;31mTypeError\u001b[0m                                 Traceback (most recent call last)",
            "\u001b[0;32m<ipython-input-92-532e8d1a7d6f>\u001b[0m in \u001b[0;36m<module>\u001b[0;34m()\u001b[0m\n\u001b[0;32m----> 1\u001b[0;31m \u001b[0mExample\u001b[0m\u001b[0;34m.\u001b[0m\u001b[0ma_normal_method\u001b[0m\u001b[0;34m(\u001b[0m\u001b[0;36m1\u001b[0m\u001b[0;34m,\u001b[0m \u001b[0;36m2\u001b[0m\u001b[0;34m)\u001b[0m\u001b[0;34m\u001b[0m\u001b[0;34m\u001b[0m\u001b[0m\n\u001b[0m",
            "\u001b[0;31mTypeError\u001b[0m: a_normal_method() missing 1 required positional argument: 'b'"
          ]
        }
      ]
    },
    {
      "cell_type": "markdown",
      "metadata": {
        "id": "0RNKH9jxOL3p"
      },
      "source": [
        "@classmethod: \tA built-in decorator that upgrades a method into a class method, in which the first argument is the bundled instance object's class object.\n",
        "\n",
        "@staticmethod: \tA built-in decorator that upgrades a method into a static method, in which the bundled instance object is not passed as the first argument."
      ]
    },
    {
      "cell_type": "markdown",
      "metadata": {
        "id": "kbcSbIgOOPiN"
      },
      "source": [
        "#### Python's Instance, Class, and Static Methods Demystified\n",
        "https://realpython.com/instance-class-and-static-methods-demystified/\n"
      ]
    },
    {
      "cell_type": "code",
      "metadata": {
        "colab": {
          "base_uri": "https://localhost:8080/"
        },
        "id": "DNeeVXSmOJnZ",
        "outputId": "0d6632d0-4954-4f0f-d53a-1984139689fb"
      },
      "source": [
        "class Customer:\n",
        "    def __init__(self, a, b, tier='free', rate=0):\n",
        "      self.a=a\n",
        "      self.b=b\n",
        "      #name = f\"{a} {b}\"\n",
        "      self.tier=tier\n",
        "      self.rate=rate\n",
        "      \n",
        "    def can_access(self, kwargs):\n",
        "      kwargs=dict(kwargs)\n",
        "      if kwargs['tier']==self.tier or kwargs['tier']=='free':\n",
        "        return True\n",
        "      else:\n",
        "        return False\n",
        "\n",
        "    def bill_for(self, m):\n",
        "      return self.rate*m\n",
        "\n",
        "    @property\n",
        "    def name(self):\n",
        "      return f\"{self.a} {self.b}\"\n",
        "\n",
        "    @classmethod\n",
        "    def premium(cls, a, b, tier='premium', rate=10):\n",
        "      return cls(a, b, tier, rate)\n",
        "      \n",
        "\n",
        "\n",
        "# This won't run until you implement the `Customer` class!\n",
        "\n",
        "marco = Customer('Marco', 'Polo')  # Defaults to the free tier\n",
        "print(marco.name)  # Marco Polo\n",
        "print(marco.can_access({'tier': 'free', 'title': '1812 Overture'}))  # True\n",
        "print(marco.can_access({'tier': 'premium', 'title': 'William Tell Overture'}))  # False\n",
        "\n",
        "victoria = Customer.premium(\"Alexandrina\", \"Victoria\")  # Build a customer around the ('premium', 10$/mo) streaming plan.\n",
        "print(victoria.can_access({'tier': 'free', 'title': '1812 Overture'}))  # True\n",
        "print(victoria.can_access({'tier': 'premium', 'title': 'William Tell Overture'}))  # True\n",
        "print(victoria.bill_for(5))  # => 50 (5 months at 10$/mo)\n",
        "print(victoria.name)  # Alexandrina Victoria"
      ],
      "execution_count": null,
      "outputs": [
        {
          "output_type": "stream",
          "text": [
            "Marco Polo\n",
            "True\n",
            "False\n",
            "True\n",
            "True\n",
            "50\n",
            "Alexandrina Victoria\n"
          ],
          "name": "stdout"
        }
      ]
    },
    {
      "cell_type": "code",
      "metadata": {
        "id": "V4HfBu3a5JFS"
      },
      "source": [
        "class Customer:\n",
        "    streaming_plan_cost = 10\n",
        "    def __init__(self, first_name, last_name, tier='free'):\n",
        "        self.first_name = first_name\n",
        "        self.last_name = last_name\n",
        "        self.tier = tier\n",
        "\n",
        "\n",
        "    @property\n",
        "    def name(self):\n",
        "        return f\"{self.first_name} {self.last_name}\"\n",
        "\n",
        "    \n",
        "    @classmethod\n",
        "    def premium(cls, first_name, last_name):\n",
        "        return cls(first_name, last_name, tier='premium')\n",
        "\n",
        "\n",
        "    def bill_for(self, number_of_month):\n",
        "        self.number_of_month = number_of_month\n",
        "        return (number_of_month * self.streaming_plan_cost)\n",
        "\n",
        "    \n",
        "    def can_access(self, dictionary):\n",
        "        for v,k in dictionary.items():\n",
        "            if v == 'tier'and k =='free':\n",
        "                return True\n",
        "        if self.tier == 'premium':\n",
        "            return True\n",
        "        else:\n",
        "            return False\n"
      ],
      "execution_count": null,
      "outputs": []
    },
    {
      "cell_type": "code",
      "metadata": {
        "colab": {
          "base_uri": "https://localhost:8080/"
        },
        "id": "EDIgG8cW5jNQ",
        "outputId": "10624fd2-596b-4f25-e26d-b92c0f51e24b"
      },
      "source": [
        "\n",
        "marco = Customer('Marco', 'Polo')  # Defaults to the free tier\n",
        "print(marco.name)  # Marco Polo\n",
        "print(marco.can_access({'tier': 'free', 'title': '1812 Overture'}))  # True\n",
        "print(marco.can_access({'tier': 'premium', 'title': 'William Tell Overture'}))  # False\n",
        "victoria = Customer.premium(\"Alexandrina\", \"Victoria\")  # Build a customer around the ('premium', 10$/mo) streaming plan.\n",
        "print(victoria.can_access({'tier': 'free', 'title': '1812 Overture'}))  # True\n",
        "print(victoria.can_access({'tier': 'premium', 'title': 'William Tell Overture'}))  # True\n",
        "print(victoria.bill_for(5))  # => 50 (5 months at 10$/mo)\n",
        "print(victoria.name)  # Alexandrina Victoria\n"
      ],
      "execution_count": null,
      "outputs": [
        {
          "output_type": "stream",
          "text": [
            "Marco Polo\n",
            "True\n",
            "False\n",
            "True\n",
            "True\n",
            "50\n",
            "Alexandrina Victoria\n"
          ],
          "name": "stdout"
        }
      ]
    },
    {
      "cell_type": "code",
      "metadata": {
        "colab": {
          "base_uri": "https://localhost:8080/"
        },
        "id": "11Go0fYg-p6i",
        "outputId": "0d8361ce-c772-459e-b5cb-ec1c398c1fca"
      },
      "source": [
        "members={}\n",
        "print(type(members))\n",
        "\n",
        "if type(members)==dict:\n",
        "  print(\"dict\")"
      ],
      "execution_count": null,
      "outputs": [
        {
          "output_type": "stream",
          "text": [
            "<class 'dict'>\n",
            "dict\n"
          ],
          "name": "stdout"
        }
      ]
    },
    {
      "cell_type": "code",
      "metadata": {
        "colab": {
          "base_uri": "https://localhost:8080/"
        },
        "id": "_y2D1XwqDPvv",
        "outputId": "7e4bf5c6-3878-47ed-c9e2-aa8c59e09539"
      },
      "source": [
        "# This one's a bit different, representing an unusual (and honestly,\n",
        "# not recommended) strategy for tracking users that sign up for a service.\n",
        "\n",
        "class User:\n",
        "    # An (intentionally shared) collection storing users who sign up for some hypothetical service.\n",
        "    # There's only one set of members, so it lives at the class level!\n",
        "    members = set()\n",
        "    def __init__(self, name):\n",
        "        self.name = name\n",
        "        #self.members = {}  # Not signed up to begin with.\n",
        "    def sign_up(self):\n",
        "#         if type(members)==dict:\n",
        "#             members=set()\n",
        "        self.members.add(self.name)\n",
        "\n",
        "# Change the code above so that the following lines work:\n",
        "\n",
        "sarah = User('sarah')\n",
        "heather = User('heather')\n",
        "cristina = User('cristina')\n",
        "print(User.members)  # {}\n",
        "heather.sign_up()\n",
        "cristina.sign_up()\n",
        "print(User.members)  # {'heather', 'cristina'}"
      ],
      "execution_count": null,
      "outputs": [
        {
          "output_type": "stream",
          "text": [
            "set()\n",
            "{'cristina', 'heather'}\n"
          ],
          "name": "stdout"
        }
      ]
    },
    {
      "cell_type": "code",
      "metadata": {
        "colab": {
          "base_uri": "https://localhost:8080/"
        },
        "id": "HXpBaUJ8Crzc",
        "outputId": "37649e4a-d0cb-4f7e-a4d0-f31d5a7ea790"
      },
      "source": [
        "class User:\n",
        "    # An (intentionally shared) collection storing users who sign up for some hypothetical service.\n",
        "    # There's only one set of members, so it lives at the class level!\n",
        "    _members = []\n",
        "    def __init__(self, name):\n",
        "        self.name = name\n",
        "        #self.members = set()  # Not signed up to begin with.\n",
        "    \n",
        "    \n",
        "    @property\n",
        "    def members(self):\n",
        "        return self._members\n",
        "        \n",
        "        \n",
        "    \n",
        "    def sign_up(self):\n",
        "        self._members.append(self.name)\n",
        "        #print(self._members)\n",
        "        \n",
        "\n",
        "\n",
        "sarah = User('sarah')\n",
        "heather = User('heather')\n",
        "cristina = User('cristina')\n",
        "print(User.members)  # {}\n",
        "heather.sign_up()\n",
        "cristina.sign_up()\n",
        "print(User.members)  # {'heather', 'cristina'}\n"
      ],
      "execution_count": null,
      "outputs": [
        {
          "output_type": "stream",
          "text": [
            "<property object at 0x7f600473cd10>\n",
            "<property object at 0x7f600473cd10>\n"
          ],
          "name": "stdout"
        }
      ]
    },
    {
      "cell_type": "code",
      "metadata": {
        "id": "fke_aaESH75_"
      },
      "source": [
        "class MyClass:\n",
        "    def method(self):\n",
        "        return 'instance method called', self\n",
        "\n",
        "    @classmethod\n",
        "    def classmethod(cls):\n",
        "        return 'class method called', cls\n",
        "\n",
        "    @staticmethod\n",
        "    def staticmethod():\n",
        "        return 'static method called'\n"
      ],
      "execution_count": null,
      "outputs": []
    },
    {
      "cell_type": "markdown",
      "metadata": {
        "id": "uAXzwrDiHIZm"
      },
      "source": [
        "### Common Conventions"
      ]
    },
    {
      "cell_type": "code",
      "metadata": {
        "id": "9SGb7H2LHGIC"
      },
      "source": [
        "class SecretRecipe:\n",
        "    def __init__(self, secret_key):\n",
        "        self._secret = load_the_secret_recipe(secret_key)\n",
        "    @property\n",
        "    def secret(self):\n",
        "        print(\"It's a seeeecret\")\n",
        "        return None"
      ],
      "execution_count": null,
      "outputs": []
    },
    {
      "cell_type": "markdown",
      "metadata": {
        "id": "LE5Di4JNHotx"
      },
      "source": [
        "self: The canonical name given to the first parameter of method signatures, referring to the bundled instance object supplied as the first argument."
      ]
    },
    {
      "cell_type": "code",
      "metadata": {
        "colab": {
          "base_uri": "https://localhost:8080/"
        },
        "id": "8Buzb5a6Mmpf",
        "outputId": "8fb55367-f842-43e6-dd94-b733b7458730"
      },
      "source": [
        "class Student:\n",
        "    def __init__(self, name):\n",
        "        self.__name = name\n",
        "  \n",
        "    def displayName(self):\n",
        "        print(self.__name)\n",
        "  \n",
        "s1 = Student(\"Santhosh\")\n",
        "s1.displayName()\n",
        "  \n",
        "# Raises an error\n",
        "#print(s1.__name)"
      ],
      "execution_count": null,
      "outputs": [
        {
          "output_type": "stream",
          "text": [
            "Santhosh\n"
          ],
          "name": "stdout"
        }
      ]
    },
    {
      "cell_type": "code",
      "metadata": {
        "colab": {
          "base_uri": "https://localhost:8080/"
        },
        "id": "Kk6PFc2NM9M9",
        "outputId": "eac701af-e8c0-4c96-bc56-35d33d5189bb"
      },
      "source": [
        "class Student:\n",
        "    def __init__(self, name):\n",
        "        self.__name = name\n",
        "  \n",
        "s1 = Student(\"Santhosh\")\n",
        "print(dir(s1))"
      ],
      "execution_count": null,
      "outputs": [
        {
          "output_type": "stream",
          "text": [
            "['_Student__name', '__class__', '__delattr__', '__dict__', '__dir__', '__doc__', '__eq__', '__format__', '__ge__', '__getattribute__', '__gt__', '__hash__', '__init__', '__init_subclass__', '__le__', '__lt__', '__module__', '__ne__', '__new__', '__reduce__', '__reduce_ex__', '__repr__', '__setattr__', '__sizeof__', '__str__', '__subclasshook__', '__weakref__']\n"
          ],
          "name": "stdout"
        }
      ]
    },
    {
      "cell_type": "code",
      "metadata": {
        "colab": {
          "base_uri": "https://localhost:8080/"
        },
        "id": "YuElifXANQ9l",
        "outputId": "4e29338b-7cef-46ea-a96b-6b3e398c029a"
      },
      "source": [
        "class Student:\n",
        "    def __init__(self, name):\n",
        "        self.__name = name\n",
        "  \n",
        "s1 = Student(\"Santhosh\")\n",
        "print(s1._Student__name)"
      ],
      "execution_count": null,
      "outputs": [
        {
          "output_type": "stream",
          "text": [
            "Santhosh\n"
          ],
          "name": "stdout"
        }
      ]
    },
    {
      "cell_type": "markdown",
      "metadata": {
        "id": "JiXOH3uhN0ev"
      },
      "source": [
        "\n",
        "    Name Mangling (GeeksForGeeks): Name mangling in Python.\n",
        "https://www.geeksforgeeks.org/name-mangling-in-python/\n",
        "\n",
        "    Private Variables: Python's tutorial on private variables\n",
        "https://docs.python.org/3/tutorial/classes.html#private-variables\n",
        "\n",
        "    Private Variables in Python (GeeksForGeeks): Variable hiding in Python.\n",
        "https://www.geeksforgeeks.org/private-variables-python/\n",
        "\n",
        "    Python Naming Conventions: Bullet-point summaries of Python naming conventions.\n",
        "https://visualgit.readthedocs.io/en/latest/pages/naming_convention.html"
      ]
    },
    {
      "cell_type": "markdown",
      "metadata": {
        "id": "EVm0JS70OddN"
      },
      "source": [
        "### Magic Methods and Polymorphism"
      ]
    },
    {
      "cell_type": "code",
      "metadata": {
        "id": "lp7Er9lHQvTx"
      },
      "source": [
        "class MagicShoppingCart:\n",
        "    def __init__(self, items):\n",
        "        self.items = items\n",
        "    def __len__(self):\n",
        "        return sum(self.items.values())\n",
        "    def __str__(self):\n",
        "        return f\"MagicShoppingCart({self.items})\"\n",
        "    def __contains__(self, item):\n",
        "        return item in self.items"
      ],
      "execution_count": null,
      "outputs": []
    },
    {
      "cell_type": "markdown",
      "metadata": {
        "id": "rRQ4VjmYRlz9"
      },
      "source": [
        "Magic: Methods \tSpecially-named __meth__ methods in Python that connect to the behavior of built-in Python operations, such as string conversion or addition."
      ]
    },
    {
      "cell_type": "code",
      "metadata": {
        "colab": {
          "base_uri": "https://localhost:8080/"
        },
        "id": "so21jeGJSWXE",
        "outputId": "b409ad77-4ca3-48ca-b4c6-997e078ef0e7"
      },
      "source": [
        "class Employee:\n",
        "    def __init__(self):\n",
        "        self.name='Swati'\n",
        "        self.salary=10000\n",
        "    def __str__(self):\n",
        "        return 'name='+self.name+' salary=$'+str(self.salary)\n",
        "\n",
        "e1=Employee()\n",
        "print(e1) \n"
      ],
      "execution_count": null,
      "outputs": [
        {
          "output_type": "stream",
          "text": [
            "name=Swati salary=$10000\n"
          ],
          "name": "stdout"
        }
      ]
    },
    {
      "cell_type": "code",
      "metadata": {
        "colab": {
          "base_uri": "https://localhost:8080/"
        },
        "id": "Bsyiv3kiS0V8",
        "outputId": "91f4d7b3-4c67-4b3d-f9a2-4bdef8cc3106"
      },
      "source": [
        "class distance:\n",
        "    def __init__(self, x=None,y=None):\n",
        "        self.ft=x\n",
        "        self.inch=y\n",
        "    def __add__(self,x):\n",
        "        temp=distance()\n",
        "        temp.ft=self.ft+x.ft\n",
        "        temp.inch=self.inch+x.inch\n",
        "        if temp.inch>=12:\n",
        "            temp.ft+=1\n",
        "            temp.inch-=12\n",
        "            return temp\n",
        "    def __str__(self):\n",
        "        return 'ft:'+str(self.ft)+' in: '+str(self.inch)\n",
        "\n",
        "d1=distance(3,10)\n",
        "d2=distance(4,4)\n",
        "print(\"d1= {} d2={}\".format(d1, d2))\n",
        "d3=d1+d2\n",
        "print(d3)"
      ],
      "execution_count": null,
      "outputs": [
        {
          "output_type": "stream",
          "text": [
            "d1= ft:3 in: 10 d2=ft:4 in: 4\n",
            "ft:8 in: 2\n"
          ],
          "name": "stdout"
        }
      ]
    },
    {
      "cell_type": "code",
      "metadata": {
        "colab": {
          "base_uri": "https://localhost:8080/"
        },
        "id": "2lU8s61ETgQT",
        "outputId": "cbe808c3-559e-4856-ca69-65d839eb9ade"
      },
      "source": [
        "class distance:\n",
        "    def __init__(self, x=None,y=None):\n",
        "        self.ft=x\n",
        "        self.inch=y\n",
        "    def __ge__(self, x):\n",
        "        val1=self.ft*12+self.inch\n",
        "        val2=x.ft*12+x.inch\n",
        "        if val1>=val2:\n",
        "            return True\n",
        "        else:\n",
        "            return False\n",
        "\n",
        "d1=distance(2,1)\n",
        "d2=distance(4,10)\n",
        "d1>=d2"
      ],
      "execution_count": null,
      "outputs": [
        {
          "output_type": "execute_result",
          "data": {
            "text/plain": [
              "False"
            ]
          },
          "metadata": {
            "tags": []
          },
          "execution_count": 79
        }
      ]
    },
    {
      "cell_type": "markdown",
      "metadata": {
        "id": "pFWk9IdtXVq9"
      },
      "source": [
        "## Real python tutorial:\n",
        "\n",
        "https://www.youtube.com/watch?v=gllUwQnYVww&list=PLP8GkvaIxJP0VAXF3USi9U4JnpxUvQXHx"
      ]
    },
    {
      "cell_type": "code",
      "metadata": {
        "colab": {
          "base_uri": "https://localhost:8080/"
        },
        "id": "_4gAxWhsXxgz",
        "outputId": "d8f106b3-15cb-45f8-8875-fc51344d827a"
      },
      "source": [
        "class Car:\n",
        "    def __init__(self, color, mileage):\n",
        "        self.color = color\n",
        "        self.mileage = mileage\n",
        "\n",
        "my_car = Car('red', 37281)\n",
        "print(my_car)\n",
        "\n",
        "my_car\n"
      ],
      "execution_count": null,
      "outputs": [
        {
          "output_type": "stream",
          "text": [
            "<__main__.Car object at 0x7f6000727050>\n"
          ],
          "name": "stdout"
        },
        {
          "output_type": "execute_result",
          "data": {
            "text/plain": [
              "<__main__.Car at 0x7f6000727050>"
            ]
          },
          "metadata": {
            "tags": []
          },
          "execution_count": 81
        }
      ]
    },
    {
      "cell_type": "code",
      "metadata": {
        "colab": {
          "base_uri": "https://localhost:8080/"
        },
        "id": "p0lIILV7X-wN",
        "outputId": "dc342688-39da-4e7a-a632-549ec43d8a1c"
      },
      "source": [
        "class Car:\n",
        "    def __init__(self, color, mileage):\n",
        "        self.color = color\n",
        "        self.mileage = mileage\n",
        "\n",
        "    def __repr__(self):\n",
        "       return (f'{self.__class__.__name__}('\n",
        "               f'{self.color!r}, {self.mileage!r})')\n",
        "\n",
        "    def __str__(self):\n",
        "        return f'a {self.color} car'\n",
        "\n",
        "\n",
        "my_car = Car('red', 37281)\n",
        "print(my_car)\n",
        "\n",
        "my_car"
      ],
      "execution_count": null,
      "outputs": [
        {
          "output_type": "stream",
          "text": [
            "a red car\n"
          ],
          "name": "stdout"
        },
        {
          "output_type": "execute_result",
          "data": {
            "text/plain": [
              "Car('red', 37281)"
            ]
          },
          "metadata": {
            "tags": []
          },
          "execution_count": 83
        }
      ]
    },
    {
      "cell_type": "code",
      "metadata": {
        "id": "VV_88EW3YiSm"
      },
      "source": [
        ""
      ],
      "execution_count": null,
      "outputs": []
    },
    {
      "cell_type": "markdown",
      "metadata": {
        "id": "Ugpvr-90YW7x"
      },
      "source": [
        "\n",
        "    A guide to Python's Magic Methods: An extremely detailed summary of Python's available magic methods.\n",
        "https://rszalski.github.io/magicmethods/\n",
        "\n",
        "    Magic Methods (TutorialsTeacher): An introduction to a few common magic methods.\n",
        "https://www.tutorialsteacher.com/python/magic-methods-in-python\n",
        "\n",
        "    Special Method Names: Python's (extremely long) canonical reference of special method names.\n",
        "https://docs.python.org/3/reference/datamodel.html#special-method-names\n",
        "\n",
        "    String Conversion 101: An analysis of why every class needs a string representation.\n",
        "https://dbader.org/blog/python-repr-vs-str\n",
        "\n",
        "    What are Magic Methods: A blog post highlighting the value of magic methods.\n",
        "https://medium.com/fintechexplained/advanced-python-what-are-magic-methods-d21891cf9a08"
      ]
    },
    {
      "cell_type": "markdown",
      "metadata": {
        "id": "6TbPkeSMZH2S"
      },
      "source": [
        "#### L22_14 Exercise"
      ]
    },
    {
      "cell_type": "code",
      "metadata": {
        "id": "SRvFQg54a7b6"
      },
      "source": [
        "class Point:\n",
        "    \"\"\"Implement your Point class in here!\"\"\"\n",
        "    def __init__(self, x=0, y=0):\n",
        "        self.x=x\n",
        "        self.y=y\n",
        "    \n",
        "    def __add__(self, a):\n",
        "        temp=Point()\n",
        "        temp.x=self.x+a.x\n",
        "        temp.y=self.y+a.y\n",
        "        return temp\n",
        "    \n",
        "    def __str__(self):\n",
        "        return f\"{self.__class__.__name__}({self.x},{self.y})\"\n",
        "\n",
        "    def __mul__(self, a):\n",
        "        temp=Point()\n",
        "        temp.x=self.x*a.x\n",
        "        temp.y=self.y*a.y\n",
        "        return temp  \n",
        "\n",
        "    def __neg__(self):\n",
        "        temp=Point()\n",
        "        temp.x=-1*self.x\n",
        "        temp.y=-1*self.y\n",
        "        return temp  \n",
        "          "
      ],
      "execution_count": null,
      "outputs": []
    },
    {
      "cell_type": "code",
      "metadata": {
        "colab": {
          "base_uri": "https://localhost:8080/"
        },
        "id": "V3IPzti2a8xG",
        "outputId": "d9d34ca1-4be1-40b8-d94b-b4ade10dcc63"
      },
      "source": [
        "origin = Point()\n",
        "point = Point(4, 1)\n",
        "other_point = Point(3, -3)\n",
        "third_point = point + other_point\n",
        "n1 = point * other_point\n",
        "\n",
        "print(point)\n",
        "print(other_point)\n",
        "print(third_point)\n",
        "print(n1)\n",
        "print(-other_point)"
      ],
      "execution_count": null,
      "outputs": [
        {
          "output_type": "stream",
          "text": [
            "Point(4,1)\n",
            "Point(3,-3)\n",
            "Point(7,-2)\n",
            "Point(12,-3)\n",
            "Point(-3,3)\n"
          ],
          "name": "stdout"
        }
      ]
    },
    {
      "cell_type": "code",
      "metadata": {
        "id": "f2Zt0j8zfxEU"
      },
      "source": [
        "# udacity solution\n",
        "\n",
        "class Point:\n",
        "    def __init__(self, x=0, y=0):\n",
        "        self.x = x\n",
        "        self.y = y\n",
        "\n",
        "    def __add__(self, other):\n",
        "        return Point(self.x + other.x, self.y + other.y)\n",
        "\n",
        "    def __str__(self):\n",
        "        return f\"Point({self.x}, {self.y})\"\n",
        "\n",
        "    def __mul__(self, a):\n",
        "        return Point(self.x * a.x, self.y * a.y)\n",
        "\n",
        "    def __neg__(self):\n",
        "        return Point(-1*self.x, -1*self.y)"
      ],
      "execution_count": null,
      "outputs": []
    },
    {
      "cell_type": "code",
      "metadata": {
        "colab": {
          "base_uri": "https://localhost:8080/"
        },
        "id": "n3ncwDWvghD6",
        "outputId": "bb256293-1d57-467b-cf85-de8f9874ef72"
      },
      "source": [
        "origin = Point()\n",
        "point = Point(4, 1)\n",
        "other_point = Point(3, -3)\n",
        "third_point = point + other_point\n",
        "n1 = point * other_point\n",
        "\n",
        "print(point)\n",
        "print(other_point)\n",
        "print(third_point)\n",
        "print(n1)\n",
        "print(-other_point)"
      ],
      "execution_count": null,
      "outputs": [
        {
          "output_type": "stream",
          "text": [
            "Point(4, 1)\n",
            "Point(3, -3)\n",
            "Point(7, -2)\n",
            "Point(12, -3)\n",
            "Point(-3, 3)\n"
          ],
          "name": "stdout"
        }
      ]
    },
    {
      "cell_type": "code",
      "metadata": {
        "colab": {
          "base_uri": "https://localhost:8080/"
        },
        "id": "GCpJwv0YhfUm",
        "outputId": "a760761e-d7a3-4ee9-b270-9c01d2d60e21"
      },
      "source": [
        "a=Point(1,2)\n",
        "b=Point(1,2)\n",
        "c=Point(1,2)\n",
        "print(a+b+c)"
      ],
      "execution_count": null,
      "outputs": [
        {
          "output_type": "stream",
          "text": [
            "Point(3, 6)\n"
          ],
          "name": "stdout"
        }
      ]
    },
    {
      "cell_type": "markdown",
      "metadata": {
        "id": "7K5F1a8TPeGh"
      },
      "source": [
        "### Single and Multiple Inheritance"
      ]
    },
    {
      "cell_type": "code",
      "metadata": {
        "id": "FTaD4PDCPgu2"
      },
      "source": [
        "class MotorVehicle:\n",
        "    def __init__(self, range):\n",
        "        self.range = range\n",
        "        self.tank = range\n",
        "    def travel(self, distance):\n",
        "        if distance > self.tank:\n",
        "            print(f\"Not enough in the tank. Only traveled {self.tank} kilometers.\")\n",
        "            self.tank = 0\n",
        "        else:\n",
        "            print(f\"VOOOM! Traveled {distance} kilometers.\")\n",
        "            self.tank -= distance\n",
        "    def refuel(self):\n",
        "        print(\"Refueling...\")\n",
        "        self.tank = self.range\n",
        "    def __str__(self):\n",
        "        return (f\"Vehicle(range={self.range}, tank={self.tank})\")\n",
        "\n",
        "class Car(MotorVehicle):\n",
        "    def __init__(self, range, wheels, color):\n",
        "        super().__init__(range)\n",
        "        self.wheels = wheels\n",
        "        self.color = color"
      ],
      "execution_count": null,
      "outputs": []
    },
    {
      "cell_type": "code",
      "metadata": {
        "colab": {
          "base_uri": "https://localhost:8080/"
        },
        "id": "JHt6ScjoPkIM",
        "outputId": "bd24b5d5-ae9d-4367-fc65-2436ac9418c0"
      },
      "source": [
        "mv = MotorVehicle(100)\n",
        "print(mv)  # Vehicle(range=100, tank=100)\n",
        "mv.travel(50)  # VOOOM! Traveled 50 kilometers.\n",
        "mv.travel(30)  # VOOOM! Traveled 30 kilometers.\n",
        "mv.travel(20)  # Not enough in the tank. Only traveled 20 kilometers.\n",
        "print(mv)  # Vehicle(range=100, tank=0)\n",
        "mv.refuel()  # Refueling...\n",
        "print(mv) "
      ],
      "execution_count": null,
      "outputs": [
        {
          "output_type": "stream",
          "text": [
            "Vehicle(range=100, tank=100)\n",
            "VOOOM! Traveled 50 kilometers.\n",
            "VOOOM! Traveled 30 kilometers.\n",
            "VOOOM! Traveled 20 kilometers.\n",
            "Vehicle(range=100, tank=0)\n",
            "Refueling...\n",
            "Vehicle(range=100, tank=100)\n"
          ],
          "name": "stdout"
        }
      ]
    },
    {
      "cell_type": "code",
      "metadata": {
        "colab": {
          "base_uri": "https://localhost:8080/"
        },
        "id": "lfHz9flhRMDG",
        "outputId": "ff07867e-233c-4d92-d981-da9e16c979fa"
      },
      "source": [
        "c = Car(500, 4, 'red')\n",
        "print(c.range)  # 500\n",
        "print(c.tank)  # 500\n",
        "print(c.wheels)  # 4\n",
        "print(c.color)  # 'red'\n",
        "print(c.__dict__)  # {'range': 500, 'tank': 500, 'wheels': 4, 'color': 'red'}\n",
        "c.travel(50)  # VOOOM! Traveled 50 kilometers.\n",
        "c.travel(100)  # VOOOM! Traveled 100 kilometers.\n",
        "c.refuel()  # Refueling...\n",
        "print(c)  # Vehicle(range=500, tank=500)"
      ],
      "execution_count": null,
      "outputs": [
        {
          "output_type": "stream",
          "text": [
            "500\n",
            "500\n",
            "4\n",
            "red\n",
            "{'range': 500, 'tank': 500, 'wheels': 4, 'color': 'red'}\n",
            "VOOOM! Traveled 50 kilometers.\n",
            "VOOOM! Traveled 100 kilometers.\n",
            "Refueling...\n",
            "Vehicle(range=500, tank=500)\n"
          ],
          "name": "stdout"
        }
      ]
    },
    {
      "cell_type": "code",
      "metadata": {
        "id": "eypDT_DrVdev"
      },
      "source": [
        "class Car(MotorVehicle):\n",
        "    def __init__(self, range, wheels, color):\n",
        "        super().__init__(range)\n",
        "        self.wheels = wheels\n",
        "        self.color = color\n",
        "    def __str__(self):\n",
        "        return f\"Car(range={self.range}, tank={self.tank}, wheels={self.wheels}, color={self.color})\""
      ],
      "execution_count": null,
      "outputs": []
    },
    {
      "cell_type": "code",
      "metadata": {
        "colab": {
          "base_uri": "https://localhost:8080/"
        },
        "id": "i_AbLKRvVgAw",
        "outputId": "5e806003-d1f9-4b95-8ebb-0d56953683d6"
      },
      "source": [
        "c = Car(500, 4, 'blue')\n",
        "print(c)  # Car(range=500, tank=500, wheels=4, color=blue)"
      ],
      "execution_count": null,
      "outputs": [
        {
          "output_type": "stream",
          "text": [
            "Car(range=500, tank=500, wheels=4, color=blue)\n"
          ],
          "name": "stdout"
        }
      ]
    },
    {
      "cell_type": "code",
      "metadata": {
        "id": "TQI7bpu4ViEs"
      },
      "source": [
        "class Motorcycle(MotorVehicle):\n",
        "    def rev(self):\n",
        "        print(\"REVVVVVVVV\")"
      ],
      "execution_count": null,
      "outputs": []
    },
    {
      "cell_type": "code",
      "metadata": {
        "id": "LlgiSev2VxVX"
      },
      "source": [
        "class Motorcycle(MotorVehicle):\n",
        "    def rev(self):\n",
        "        print(\"REVVVVVVVV\")\n",
        "    def refuel(self):\n",
        "        print(\"Refueling a motorcycle...\")"
      ],
      "execution_count": null,
      "outputs": []
    },
    {
      "cell_type": "code",
      "metadata": {
        "colab": {
          "base_uri": "https://localhost:8080/"
        },
        "id": "MK4e2_kxVkE7",
        "outputId": "5459cdfc-52ed-4515-e018-c2d91a4e240b"
      },
      "source": [
        "mc = Motorcycle(100)\n",
        "print(mc.range)  # 100\n",
        "print(mc.tank)  # 100\n",
        "mc.travel(50)  # VOOOM! Traveled 50 kilometers.\n",
        "mc.rev()  # REVVVVVVVV\n",
        "print(mc)  # Vehicle(range=100, tank=50)"
      ],
      "execution_count": null,
      "outputs": [
        {
          "output_type": "stream",
          "text": [
            "100\n",
            "100\n",
            "VOOOM! Traveled 50 kilometers.\n",
            "REVVVVVVVV\n",
            "Vehicle(range=100, tank=50)\n"
          ],
          "name": "stdout"
        }
      ]
    },
    {
      "cell_type": "code",
      "metadata": {
        "colab": {
          "base_uri": "https://localhost:8080/"
        },
        "id": "Is2LJy32VyFM",
        "outputId": "2d304908-23f6-4c18-b134-f7e7e878173f"
      },
      "source": [
        "mc.refuel()"
      ],
      "execution_count": null,
      "outputs": [
        {
          "output_type": "stream",
          "text": [
            "Refueling a motorcycle...\n"
          ],
          "name": "stdout"
        }
      ]
    },
    {
      "cell_type": "markdown",
      "metadata": {
        "id": "WK-VBKSUWYN_"
      },
      "source": [
        "Inheritance: The mechanism in Python in which one class declares that is is a subclass (specialization) of one or more superclasses."
      ]
    },
    {
      "cell_type": "markdown",
      "metadata": {
        "id": "tVftIrviWhLE"
      },
      "source": [
        "    super() (RealPython): How to use super() in your classes.\n",
        "https://realpython.com/python-super/\n",
        "\n",
        "    Inheritance: Python's tutorial on using inheritance.\n",
        "https://docs.python.org/3/tutorial/classes.html#inheritance\n",
        "\n",
        "    Multiple Inheritance: Python's tutorial on using multiple inheritance.\n",
        "https://docs.python.org/3/tutorial/classes.html#multiple-inheritance"
      ]
    },
    {
      "cell_type": "code",
      "metadata": {
        "id": "JRLDYHfoWgT3"
      },
      "source": [
        "class Rectangle:\n",
        "    def __init__(self, length, width):\n",
        "        self.length = length\n",
        "        self.width = width\n",
        "\n",
        "    def area(self):\n",
        "        return self.length * self.width\n",
        "\n",
        "    def perimeter(self):\n",
        "        return 2 * self.length + 2 * self.width\n",
        "\n",
        "# Here we declare that the Square class inherits from the Rectangle class\n",
        "class Square(Rectangle):\n",
        "    def __init__(self, length):\n",
        "        super().__init__(length, length)\n"
      ],
      "execution_count": null,
      "outputs": []
    },
    {
      "cell_type": "code",
      "metadata": {
        "colab": {
          "base_uri": "https://localhost:8080/"
        },
        "id": "Aq8u6SyrWbG8",
        "outputId": "574c649c-959d-45f2-d651-13681c410311"
      },
      "source": [
        "square = Square(4)\n",
        "square.area()"
      ],
      "execution_count": null,
      "outputs": [
        {
          "output_type": "execute_result",
          "data": {
            "text/plain": [
              "16"
            ]
          },
          "metadata": {
            "tags": []
          },
          "execution_count": 23
        }
      ]
    },
    {
      "cell_type": "code",
      "metadata": {
        "id": "Cg9VW1fSY2sL"
      },
      "source": [
        "class Square(Rectangle):\n",
        "    def __init__(self, length):\n",
        "        super().__init__(length, length)\n",
        "\n",
        "class Cube(Square):\n",
        "    def surface_area(self):\n",
        "        face_area = super().area()\n",
        "        return face_area * 6\n",
        "\n",
        "    def volume(self):\n",
        "        face_area = super().area()\n",
        "        return face_area * self.length\n"
      ],
      "execution_count": null,
      "outputs": []
    },
    {
      "cell_type": "code",
      "metadata": {
        "colab": {
          "base_uri": "https://localhost:8080/"
        },
        "id": "2Ay9dFKxY4SR",
        "outputId": "c0b68c4b-7242-402f-a202-862a29975316"
      },
      "source": [
        "cube = Cube(3)\n",
        "print(cube.surface_area())\n",
        "print(cube.volume())"
      ],
      "execution_count": null,
      "outputs": [
        {
          "output_type": "stream",
          "text": [
            "54\n",
            "27\n"
          ],
          "name": "stdout"
        }
      ]
    },
    {
      "cell_type": "markdown",
      "metadata": {
        "id": "Qclf00XzZnPv"
      },
      "source": [
        "#### A super() Deep Dive\n",
        "\n",
        "Before heading into multiple inheritance, let’s take a quick detour into the mechanics of super().\n",
        "\n",
        "While the examples above (and below) call super() without any parameters, super() can also take two parameters: \n",
        "* the first is the subclass, and \n",
        "* the second parameter is an object that is an instance of that subclass.\n",
        "\n",
        "First, let’s see two examples showing what manipulating the first variable can do, using the classes already shown:"
      ]
    },
    {
      "cell_type": "code",
      "metadata": {
        "id": "V0OWH2sDZ2f6"
      },
      "source": [
        "class Rectangle:\n",
        "    def __init__(self, length, width):\n",
        "        self.length = length\n",
        "        self.width = width\n",
        "\n",
        "    def area(self):\n",
        "        return self.length * self.width\n",
        "\n",
        "    def perimeter(self):\n",
        "        return 2 * self.length + 2 * self.width\n",
        "\n",
        "class Square(Rectangle):\n",
        "    def __init__(self, length):\n",
        "        super(Square, self).__init__(length, length)\n"
      ],
      "execution_count": null,
      "outputs": []
    },
    {
      "cell_type": "code",
      "metadata": {
        "colab": {
          "base_uri": "https://localhost:8080/"
        },
        "id": "3swSAm7YZ4ut",
        "outputId": "46a09212-bf63-4a82-d860-9c36cc63760e"
      },
      "source": [
        "square = Square(4)\n",
        "square.area()"
      ],
      "execution_count": null,
      "outputs": [
        {
          "output_type": "execute_result",
          "data": {
            "text/plain": [
              "16"
            ]
          },
          "metadata": {
            "tags": []
          },
          "execution_count": 28
        }
      ]
    },
    {
      "cell_type": "code",
      "metadata": {
        "id": "u_CddcIUaDJs"
      },
      "source": [
        "class Cube(Square):\n",
        "    def surface_area(self):\n",
        "        face_area = super(Square, self).area()\n",
        "        return face_area * 6\n",
        "\n",
        "    def volume(self):\n",
        "        face_area = super(Square, self).area()\n",
        "        return face_area * self.length\n"
      ],
      "execution_count": null,
      "outputs": []
    },
    {
      "cell_type": "code",
      "metadata": {
        "colab": {
          "base_uri": "https://localhost:8080/"
        },
        "id": "-choV5p7aGz1",
        "outputId": "2e38bdf8-841a-42a6-f44c-902c5802d46b"
      },
      "source": [
        "cube = Cube(3)\n",
        "print(cube.surface_area())\n",
        "print(cube.volume())"
      ],
      "execution_count": null,
      "outputs": [
        {
          "output_type": "stream",
          "text": [
            "54\n",
            "27\n"
          ],
          "name": "stdout"
        }
      ]
    },
    {
      "cell_type": "markdown",
      "metadata": {
        "id": "vog1I9EKaWOg"
      },
      "source": [
        "#### Multiple Inheritance Overview"
      ]
    },
    {
      "cell_type": "code",
      "metadata": {
        "id": "cXIbMFLJaVip"
      },
      "source": [
        "class Triangle:\n",
        "    def __init__(self, base, height):\n",
        "        self.base = base\n",
        "        self.height = height\n",
        "\n",
        "    def area(self):\n",
        "        return 0.5 * self.base * self.height\n",
        "\n",
        "class RightPyramid(Triangle, Square):\n",
        "    def __init__(self, base, slant_height):\n",
        "        self.base = base\n",
        "        self.slant_height = slant_height\n",
        "\n",
        "    def area(self):\n",
        "        base_area = super().area()\n",
        "        perimeter = super().perimeter()\n",
        "        return 0.5 * perimeter * self.slant_height + base_area\n"
      ],
      "execution_count": null,
      "outputs": []
    },
    {
      "cell_type": "code",
      "metadata": {
        "id": "T38iKZR7bo39"
      },
      "source": [
        "class RightPyramid(Square, Triangle):\n",
        "    def __init__(self, base, slant_height):\n",
        "        self.base = base\n",
        "        self.slant_height = slant_height\n",
        "        super().__init__(self.base)\n",
        "\n",
        "    def area(self):\n",
        "        base_area = super().area()\n",
        "        perimeter = super().perimeter()\n",
        "        return 0.5 * perimeter * self.slant_height + base_area\n"
      ],
      "execution_count": null,
      "outputs": []
    },
    {
      "cell_type": "code",
      "metadata": {
        "colab": {
          "base_uri": "https://localhost:8080/"
        },
        "id": "iHqo_5yCbc_f",
        "outputId": "1c2ce1d3-ecc2-4806-a9e7-ed755757810f"
      },
      "source": [
        "pyramid = RightPyramid(2, 4)\n",
        "pyramid.area()"
      ],
      "execution_count": null,
      "outputs": [
        {
          "output_type": "execute_result",
          "data": {
            "text/plain": [
              "20.0"
            ]
          },
          "metadata": {
            "tags": []
          },
          "execution_count": 38
        }
      ]
    },
    {
      "cell_type": "code",
      "metadata": {
        "colab": {
          "base_uri": "https://localhost:8080/"
        },
        "id": "_A9z1QGwcECC",
        "outputId": "2e64f7d5-781a-4f72-fe95-b6d76651b5f7"
      },
      "source": [
        "RightPyramid.__mro__"
      ],
      "execution_count": null,
      "outputs": [
        {
          "output_type": "execute_result",
          "data": {
            "text/plain": [
              "(__main__.RightPyramid,\n",
              " __main__.Square,\n",
              " __main__.Rectangle,\n",
              " __main__.Triangle,\n",
              " object)"
            ]
          },
          "metadata": {
            "tags": []
          },
          "execution_count": 39
        }
      ]
    },
    {
      "cell_type": "code",
      "metadata": {
        "id": "lgG9S7Blcqe-"
      },
      "source": [
        "class Triangle:\n",
        "    def __init__(self, base, height):\n",
        "        self.base = base\n",
        "        self.height = height\n",
        "        super().__init__()\n",
        "\n",
        "    def tri_area(self):\n",
        "        return 0.5 * self.base * self.height\n"
      ],
      "execution_count": null,
      "outputs": []
    },
    {
      "cell_type": "code",
      "metadata": {
        "id": "lDqsnTwTcsoc"
      },
      "source": [
        "class RightPyramid(Square, Triangle):\n",
        "    def __init__(self, base, slant_height):\n",
        "        self.base = base\n",
        "        self.slant_height = slant_height\n",
        "        super().__init__(self.base)\n",
        "\n",
        "    def area(self):\n",
        "        base_area = super().area()\n",
        "        perimeter = super().perimeter()\n",
        "        return 0.5 * perimeter * self.slant_height + base_area\n",
        "\n",
        "    def area_2(self):\n",
        "        base_area = super().area()\n",
        "        triangle_area = super().tri_area()\n",
        "        return triangle_area * 4 + base_area\n"
      ],
      "execution_count": null,
      "outputs": []
    },
    {
      "cell_type": "code",
      "metadata": {
        "colab": {
          "base_uri": "https://localhost:8080/",
          "height": 360
        },
        "id": "KxIs7lZ2fVY7",
        "outputId": "eac4f987-b91b-4a83-9408-90ec9749fa52"
      },
      "source": [
        "pyramid = RightPyramid(base=2, slant_height=4)\n",
        "print(pyramid.area())\n",
        "print(pyramid.area_2())"
      ],
      "execution_count": null,
      "outputs": [
        {
          "output_type": "error",
          "ename": "TypeError",
          "evalue": "ignored",
          "traceback": [
            "\u001b[0;31m---------------------------------------------------------------------------\u001b[0m",
            "\u001b[0;31mTypeError\u001b[0m                                 Traceback (most recent call last)",
            "\u001b[0;32m<ipython-input-50-533c6f6a2aa2>\u001b[0m in \u001b[0;36m<module>\u001b[0;34m()\u001b[0m\n\u001b[0;32m----> 1\u001b[0;31m \u001b[0mpyramid\u001b[0m \u001b[0;34m=\u001b[0m \u001b[0mRightPyramid\u001b[0m\u001b[0;34m(\u001b[0m\u001b[0mbase\u001b[0m\u001b[0;34m=\u001b[0m\u001b[0;36m2\u001b[0m\u001b[0;34m,\u001b[0m \u001b[0mslant_height\u001b[0m\u001b[0;34m=\u001b[0m\u001b[0;36m4\u001b[0m\u001b[0;34m)\u001b[0m\u001b[0;34m\u001b[0m\u001b[0;34m\u001b[0m\u001b[0m\n\u001b[0m\u001b[1;32m      2\u001b[0m \u001b[0mprint\u001b[0m\u001b[0;34m(\u001b[0m\u001b[0mpyramid\u001b[0m\u001b[0;34m.\u001b[0m\u001b[0marea\u001b[0m\u001b[0;34m(\u001b[0m\u001b[0;34m)\u001b[0m\u001b[0;34m)\u001b[0m\u001b[0;34m\u001b[0m\u001b[0;34m\u001b[0m\u001b[0m\n\u001b[1;32m      3\u001b[0m \u001b[0mprint\u001b[0m\u001b[0;34m(\u001b[0m\u001b[0mpyramid\u001b[0m\u001b[0;34m.\u001b[0m\u001b[0marea_2\u001b[0m\u001b[0;34m(\u001b[0m\u001b[0;34m)\u001b[0m\u001b[0;34m)\u001b[0m\u001b[0;34m\u001b[0m\u001b[0;34m\u001b[0m\u001b[0m\n",
            "\u001b[0;32m<ipython-input-49-97832a05558f>\u001b[0m in \u001b[0;36m__init__\u001b[0;34m(self, base, slant_height)\u001b[0m\n\u001b[1;32m      3\u001b[0m         \u001b[0mself\u001b[0m\u001b[0;34m.\u001b[0m\u001b[0mbase\u001b[0m \u001b[0;34m=\u001b[0m \u001b[0mbase\u001b[0m\u001b[0;34m\u001b[0m\u001b[0;34m\u001b[0m\u001b[0m\n\u001b[1;32m      4\u001b[0m         \u001b[0mself\u001b[0m\u001b[0;34m.\u001b[0m\u001b[0mslant_height\u001b[0m \u001b[0;34m=\u001b[0m \u001b[0mslant_height\u001b[0m\u001b[0;34m\u001b[0m\u001b[0;34m\u001b[0m\u001b[0m\n\u001b[0;32m----> 5\u001b[0;31m         \u001b[0msuper\u001b[0m\u001b[0;34m(\u001b[0m\u001b[0;34m)\u001b[0m\u001b[0;34m.\u001b[0m\u001b[0m__init__\u001b[0m\u001b[0;34m(\u001b[0m\u001b[0mself\u001b[0m\u001b[0;34m.\u001b[0m\u001b[0mbase\u001b[0m\u001b[0;34m)\u001b[0m\u001b[0;34m\u001b[0m\u001b[0;34m\u001b[0m\u001b[0m\n\u001b[0m\u001b[1;32m      6\u001b[0m \u001b[0;34m\u001b[0m\u001b[0m\n\u001b[1;32m      7\u001b[0m     \u001b[0;32mdef\u001b[0m \u001b[0marea\u001b[0m\u001b[0;34m(\u001b[0m\u001b[0mself\u001b[0m\u001b[0;34m)\u001b[0m\u001b[0;34m:\u001b[0m\u001b[0;34m\u001b[0m\u001b[0;34m\u001b[0m\u001b[0m\n",
            "\u001b[0;32m<ipython-input-47-a33f7d0d029c>\u001b[0m in \u001b[0;36m__init__\u001b[0;34m(self, length)\u001b[0m\n\u001b[1;32m      1\u001b[0m \u001b[0;32mclass\u001b[0m \u001b[0mSquare\u001b[0m\u001b[0;34m(\u001b[0m\u001b[0mRectangle\u001b[0m\u001b[0;34m)\u001b[0m\u001b[0;34m:\u001b[0m\u001b[0;34m\u001b[0m\u001b[0;34m\u001b[0m\u001b[0m\n\u001b[1;32m      2\u001b[0m     \u001b[0;32mdef\u001b[0m \u001b[0m__init__\u001b[0m\u001b[0;34m(\u001b[0m\u001b[0mself\u001b[0m\u001b[0;34m,\u001b[0m \u001b[0mlength\u001b[0m\u001b[0;34m)\u001b[0m\u001b[0;34m:\u001b[0m\u001b[0;34m\u001b[0m\u001b[0;34m\u001b[0m\u001b[0m\n\u001b[0;32m----> 3\u001b[0;31m         \u001b[0msuper\u001b[0m\u001b[0;34m(\u001b[0m\u001b[0;34m)\u001b[0m\u001b[0;34m.\u001b[0m\u001b[0m__init__\u001b[0m\u001b[0;34m(\u001b[0m\u001b[0mlength\u001b[0m\u001b[0;34m,\u001b[0m \u001b[0mlength\u001b[0m\u001b[0;34m)\u001b[0m\u001b[0;34m\u001b[0m\u001b[0;34m\u001b[0m\u001b[0m\n\u001b[0m\u001b[1;32m      4\u001b[0m \u001b[0;34m\u001b[0m\u001b[0m\n\u001b[1;32m      5\u001b[0m \u001b[0;32mclass\u001b[0m \u001b[0mCube\u001b[0m\u001b[0;34m(\u001b[0m\u001b[0mSquare\u001b[0m\u001b[0;34m)\u001b[0m\u001b[0;34m:\u001b[0m\u001b[0;34m\u001b[0m\u001b[0;34m\u001b[0m\u001b[0m\n",
            "\u001b[0;32m<ipython-input-42-26be059d2a34>\u001b[0m in \u001b[0;36m__init__\u001b[0;34m(self, length, width, **kwargs)\u001b[0m\n\u001b[1;32m      3\u001b[0m         \u001b[0mself\u001b[0m\u001b[0;34m.\u001b[0m\u001b[0mlength\u001b[0m \u001b[0;34m=\u001b[0m \u001b[0mlength\u001b[0m\u001b[0;34m\u001b[0m\u001b[0;34m\u001b[0m\u001b[0m\n\u001b[1;32m      4\u001b[0m         \u001b[0mself\u001b[0m\u001b[0;34m.\u001b[0m\u001b[0mwidth\u001b[0m \u001b[0;34m=\u001b[0m \u001b[0mwidth\u001b[0m\u001b[0;34m\u001b[0m\u001b[0;34m\u001b[0m\u001b[0m\n\u001b[0;32m----> 5\u001b[0;31m         \u001b[0msuper\u001b[0m\u001b[0;34m(\u001b[0m\u001b[0;34m)\u001b[0m\u001b[0;34m.\u001b[0m\u001b[0m__init__\u001b[0m\u001b[0;34m(\u001b[0m\u001b[0;34m**\u001b[0m\u001b[0mkwargs\u001b[0m\u001b[0;34m)\u001b[0m\u001b[0;34m\u001b[0m\u001b[0;34m\u001b[0m\u001b[0m\n\u001b[0m\u001b[1;32m      6\u001b[0m \u001b[0;34m\u001b[0m\u001b[0m\n\u001b[1;32m      7\u001b[0m     \u001b[0;32mdef\u001b[0m \u001b[0marea\u001b[0m\u001b[0;34m(\u001b[0m\u001b[0mself\u001b[0m\u001b[0;34m)\u001b[0m\u001b[0;34m:\u001b[0m\u001b[0;34m\u001b[0m\u001b[0;34m\u001b[0m\u001b[0m\n",
            "\u001b[0;31mTypeError\u001b[0m: __init__() missing 2 required positional arguments: 'base' and 'height'"
          ]
        }
      ]
    },
    {
      "cell_type": "markdown",
      "metadata": {
        "id": "rY1ZvnYdhleL"
      },
      "source": [
        "#### Complete multiple inharitance solution"
      ]
    },
    {
      "cell_type": "code",
      "metadata": {
        "id": "9YQRfOmjeEkr"
      },
      "source": [
        "#### Complete solution\n",
        "\n",
        "class Rectangle:\n",
        "    def __init__(self, length, width, **kwargs):\n",
        "        self.length = length\n",
        "        self.width = width\n",
        "        super().__init__(**kwargs)\n",
        "\n",
        "    def area(self):\n",
        "        return self.length * self.width\n",
        "\n",
        "    def perimeter(self):\n",
        "        return 2 * self.length + 2 * self.width\n",
        "\n",
        "# Here we declare that the Square class inherits from \n",
        "# the Rectangle class\n",
        "class Square(Rectangle):\n",
        "    def __init__(self, length, **kwargs):\n",
        "        super().__init__(length=length, width=length, **kwargs)\n",
        "\n",
        "class Cube(Square):\n",
        "    def surface_area(self):\n",
        "        face_area = super().area()\n",
        "        return face_area * 6\n",
        "\n",
        "    def volume(self):\n",
        "        face_area = super().area()\n",
        "        return face_area * self.length\n",
        "\n",
        "class Triangle:\n",
        "    def __init__(self, base, height, **kwargs):\n",
        "        self.base = base\n",
        "        self.height = height\n",
        "        super().__init__(**kwargs)\n",
        "\n",
        "    def tri_area(self):\n",
        "        return 0.5 * self.base * self.height\n",
        "\n",
        "class RightPyramid(Square, Triangle):\n",
        "    def __init__(self, base, slant_height, **kwargs):\n",
        "        self.base = base\n",
        "        self.slant_height = slant_height\n",
        "        kwargs[\"height\"] = slant_height\n",
        "        kwargs[\"length\"] = base\n",
        "        super().__init__(base=base, **kwargs)\n",
        "\n",
        "    def area(self):\n",
        "        base_area = super().area()\n",
        "        perimeter = super().perimeter()\n",
        "        return 0.5 * perimeter * self.slant_height + base_area\n",
        "\n",
        "    def area_2(self):\n",
        "        base_area = super().area()\n",
        "        triangle_area = super().tri_area()\n",
        "        return triangle_area * 4 + base_area\n"
      ],
      "execution_count": null,
      "outputs": []
    },
    {
      "cell_type": "code",
      "metadata": {
        "colab": {
          "base_uri": "https://localhost:8080/"
        },
        "id": "PMGOvJJQeKku",
        "outputId": "7680cb14-1a2b-469e-942f-f99d318ad1a0"
      },
      "source": [
        "pyramid = RightPyramid(base=2, slant_height=4)\n",
        "print(pyramid.area())\n",
        "print(pyramid.area_2())"
      ],
      "execution_count": null,
      "outputs": [
        {
          "output_type": "stream",
          "text": [
            "20.0\n",
            "20.0\n"
          ],
          "name": "stdout"
        }
      ]
    },
    {
      "cell_type": "code",
      "metadata": {
        "id": "hvDSqnXefx0o"
      },
      "source": [
        "class Rectangle:\n",
        "    def __init__(self, length, width):\n",
        "        self.length = length\n",
        "        self.width = width\n",
        "\n",
        "    def area(self):\n",
        "        return self.length * self.width\n",
        "\n",
        "class Square(Rectangle):\n",
        "    def __init__(self, length):\n",
        "        super().__init__(length, length)\n",
        "\n",
        "class VolumeMixin:\n",
        "    def volume(self):\n",
        "        return self.area() * self.height\n",
        "\n",
        "class Cube(VolumeMixin, Square):\n",
        "    def __init__(self, length):\n",
        "        super().__init__(length)\n",
        "        self.height = length\n",
        "\n",
        "    def face_area(self):\n",
        "        return super().area()\n",
        "\n",
        "    def surface_area(self):\n",
        "        return super().area() * 6\n"
      ],
      "execution_count": null,
      "outputs": []
    },
    {
      "cell_type": "code",
      "metadata": {
        "colab": {
          "base_uri": "https://localhost:8080/"
        },
        "id": "mOsyWyHKf0H2",
        "outputId": "073c65eb-5225-4a4f-8510-94c2bd64c1d4"
      },
      "source": [
        "cube = Cube(2)\n",
        "print(cube.surface_area())\n",
        "\n",
        "print(cube.volume())"
      ],
      "execution_count": null,
      "outputs": [
        {
          "output_type": "stream",
          "text": [
            "24\n",
            "8\n"
          ],
          "name": "stdout"
        }
      ]
    },
    {
      "cell_type": "code",
      "metadata": {
        "id": "qwC8pU5wiwq2"
      },
      "source": [
        "class Person:\n",
        "    def __init__(self, name, surname, number):\n",
        "        self.name = name\n",
        "        self.surname = surname\n",
        "        self.number = number\n",
        "\n",
        "\n",
        "class Student(Person):\n",
        "    UNDERGRADUATE, POSTGRADUATE = range(2)\n",
        "\n",
        "    def __init__(self, student_type, *args, **kwargs):\n",
        "        self.student_type = student_type\n",
        "        self.classes = []\n",
        "        super(Student, self).__init__(*args, **kwargs)\n",
        "\n",
        "    def enrol(self, course):\n",
        "        self.classes.append(course)\n",
        "\n",
        "\n",
        "class StaffMember(Person):\n",
        "    PERMANENT, TEMPORARY = range(2)\n",
        "\n",
        "    def __init__(self, employment_type, *args, **kwargs):\n",
        "        self.employment_type = employment_type\n",
        "        super(StaffMember, self).__init__(*args, **kwargs)\n",
        "\n",
        "\n",
        "class Lecturer(StaffMember):\n",
        "    def __init__(self, *args, **kwargs):\n",
        "        self.courses_taught = []\n",
        "        super(Lecturer, self).__init__(*args, **kwargs)\n",
        "\n",
        "    def assign_teaching(self, course):\n",
        "        self.courses_taught.append(course)\n",
        "\n",
        "\n",
        "jane = Student(Student.POSTGRADUATE, \"Jane\", \"Smith\", \"SMTJNX045\")\n",
        "jane.enrol(\"a_postgrad_course\")\n",
        "\n",
        "bob = Lecturer(StaffMember.PERMANENT, \"Bob\", \"Jones\", \"123456789\")\n",
        "bob.assign_teaching(\"an_undergrad_course\")"
      ],
      "execution_count": null,
      "outputs": []
    },
    {
      "cell_type": "code",
      "metadata": {
        "colab": {
          "base_uri": "https://localhost:8080/",
          "height": 354
        },
        "id": "kPQsdPZfjN-L",
        "outputId": "957857bb-7298-40b8-9908-1a1dd80a9ba4"
      },
      "source": [
        "class Person:\n",
        "    def __init__(self, name, surname, number, *args, **kwargs):\n",
        "        self.name = name\n",
        "        self.surname = surname\n",
        "        self.number = number\n",
        "\n",
        "\n",
        "class LearnerMixin:\n",
        "    def __init__(self, *args, **kwargs):\n",
        "        self.classes = []\n",
        "\n",
        "    def enrol(self, course):\n",
        "        self.classes.append(\"course\")\n",
        "\n",
        "\n",
        "class TeacherMixin:\n",
        "    def __init__(self, *args, **kwargs):\n",
        "        self.courses_taught = []\n",
        "\n",
        "    def assign_teaching(self, course):\n",
        "        self.courses_taught.append(course)\n",
        "\n",
        "\n",
        "class Tutor(Person, LearnerMixin, TeacherMixin):\n",
        "    def __init__(self, *args, **kwargs):\n",
        "        super(Tutor, self).__init__(*args, **kwargs)\n",
        "\n",
        "jane = Tutor(\"Jane\", \"Smith\", \"SMTJNX045\")\n",
        "jane.enrol(\"a_postgrad_course\")\n",
        "jane.assign_teaching(\"an_undergrad_course\")"
      ],
      "execution_count": null,
      "outputs": [
        {
          "output_type": "error",
          "ename": "AttributeError",
          "evalue": "ignored",
          "traceback": [
            "\u001b[0;31m---------------------------------------------------------------------------\u001b[0m",
            "\u001b[0;31mAttributeError\u001b[0m                            Traceback (most recent call last)",
            "\u001b[0;32m<ipython-input-63-789755f787f1>\u001b[0m in \u001b[0;36m<module>\u001b[0;34m()\u001b[0m\n\u001b[1;32m     27\u001b[0m \u001b[0;34m\u001b[0m\u001b[0m\n\u001b[1;32m     28\u001b[0m \u001b[0mjane\u001b[0m \u001b[0;34m=\u001b[0m \u001b[0mTutor\u001b[0m\u001b[0;34m(\u001b[0m\u001b[0;34m\"Jane\"\u001b[0m\u001b[0;34m,\u001b[0m \u001b[0;34m\"Smith\"\u001b[0m\u001b[0;34m,\u001b[0m \u001b[0;34m\"SMTJNX045\"\u001b[0m\u001b[0;34m)\u001b[0m\u001b[0;34m\u001b[0m\u001b[0;34m\u001b[0m\u001b[0m\n\u001b[0;32m---> 29\u001b[0;31m \u001b[0mjane\u001b[0m\u001b[0;34m.\u001b[0m\u001b[0menrol\u001b[0m\u001b[0;34m(\u001b[0m\u001b[0;34m\"a_postgrad_course\"\u001b[0m\u001b[0;34m)\u001b[0m\u001b[0;34m\u001b[0m\u001b[0;34m\u001b[0m\u001b[0m\n\u001b[0m\u001b[1;32m     30\u001b[0m \u001b[0mjane\u001b[0m\u001b[0;34m.\u001b[0m\u001b[0massign_teaching\u001b[0m\u001b[0;34m(\u001b[0m\u001b[0;34m\"an_undergrad_course\"\u001b[0m\u001b[0;34m)\u001b[0m\u001b[0;34m\u001b[0m\u001b[0;34m\u001b[0m\u001b[0m\n",
            "\u001b[0;32m<ipython-input-63-789755f787f1>\u001b[0m in \u001b[0;36menrol\u001b[0;34m(self, course)\u001b[0m\n\u001b[1;32m     11\u001b[0m \u001b[0;34m\u001b[0m\u001b[0m\n\u001b[1;32m     12\u001b[0m     \u001b[0;32mdef\u001b[0m \u001b[0menrol\u001b[0m\u001b[0;34m(\u001b[0m\u001b[0mself\u001b[0m\u001b[0;34m,\u001b[0m \u001b[0mcourse\u001b[0m\u001b[0;34m)\u001b[0m\u001b[0;34m:\u001b[0m\u001b[0;34m\u001b[0m\u001b[0;34m\u001b[0m\u001b[0m\n\u001b[0;32m---> 13\u001b[0;31m         \u001b[0mself\u001b[0m\u001b[0;34m.\u001b[0m\u001b[0mclasses\u001b[0m\u001b[0;34m.\u001b[0m\u001b[0mappend\u001b[0m\u001b[0;34m(\u001b[0m\u001b[0;34m\"course\"\u001b[0m\u001b[0;34m)\u001b[0m\u001b[0;34m\u001b[0m\u001b[0;34m\u001b[0m\u001b[0m\n\u001b[0m\u001b[1;32m     14\u001b[0m \u001b[0;34m\u001b[0m\u001b[0m\n\u001b[1;32m     15\u001b[0m \u001b[0;34m\u001b[0m\u001b[0m\n",
            "\u001b[0;31mAttributeError\u001b[0m: 'Tutor' object has no attribute 'classes'"
          ]
        }
      ]
    },
    {
      "cell_type": "code",
      "metadata": {
        "colab": {
          "base_uri": "https://localhost:8080/"
        },
        "id": "hl1BggcWl4mW",
        "outputId": "bed6889a-6c3a-4af5-9589-49d448b9aab9"
      },
      "source": [
        "class Song:\n",
        "\n",
        "    def __init__(self, title, artist, album, track_number):\n",
        "        self.title = title\n",
        "        self.artist = artist\n",
        "        self.album = album\n",
        "        self.track_number = track_number\n",
        "\n",
        "        artist.add_song(self)\n",
        "\n",
        "\n",
        "class Album:\n",
        "\n",
        "    def __init__(self, title, artist, year):\n",
        "        self.title = title\n",
        "        self.artist = artist\n",
        "        self.year = year\n",
        "\n",
        "        self.tracks = []\n",
        "\n",
        "        artist.add_album(self)\n",
        "\n",
        "    def add_track(self, title, artist=None):\n",
        "        if artist is None:\n",
        "            artist = self.artist\n",
        "\n",
        "        track_number = len(self.tracks)\n",
        "\n",
        "        song = Song(title, artist, self, track_number)\n",
        "\n",
        "        self.tracks.append(song)\n",
        "\n",
        "\n",
        "class Artist:\n",
        "    def __init__(self, name):\n",
        "        self.name = name\n",
        "\n",
        "        self.albums = []\n",
        "        self.songs = []\n",
        "\n",
        "    def add_album(self, album):\n",
        "        self.albums.append(album)\n",
        "\n",
        "    def add_song(self, song):\n",
        "        self.songs.append(song)\n",
        "\n",
        "\n",
        "class Playlist:\n",
        "    def __init__(self, name):\n",
        "        self.name = name\n",
        "        self.songs = []\n",
        "\n",
        "    def add_song(self, song):\n",
        "        self.songs.append(song)\n",
        "\n",
        "band = Artist(\"Bob's Awesome Band\")\n",
        "album = Album(\"Bob's First Single\", band, 2013)\n",
        "album.add_track(\"A Ballad about Cheese\")\n",
        "album.add_track(\"A Ballad about Cheese (dance remix)\")\n",
        "album.add_track(\"A Third Song to Use Up the Rest of the Space\")\n",
        "\n",
        "playlist = Playlist(\"My Favourite Songs\")\n",
        "\n",
        "for song in album.tracks:\n",
        "    playlist.add_song(song)\n",
        "    print(song.title)"
      ],
      "execution_count": null,
      "outputs": [
        {
          "output_type": "stream",
          "text": [
            "A Ballad about Cheese\n",
            "A Ballad about Cheese (dance remix)\n",
            "A Third Song to Use Up the Rest of the Space\n"
          ],
          "name": "stdout"
        }
      ]
    },
    {
      "cell_type": "code",
      "metadata": {
        "colab": {
          "base_uri": "https://localhost:8080/"
        },
        "id": "vMJhP8Dumedx",
        "outputId": "76717408-9af3-4e18-f987-95b85bb4a46f"
      },
      "source": [
        "# Exceptions\n",
        "\n",
        "class DuplicateUsernameError(Exception):\n",
        "    pass\n",
        "\n",
        "class InvalidAgeError(Exception):\n",
        "    pass\n",
        "\n",
        "class UnderageError(Exception):\n",
        "    pass\n",
        "\n",
        "class InvalidEmailError(Exception):\n",
        "    pass\n",
        "\n",
        "# A class for a user's data\n",
        "\n",
        "class User:\n",
        "    def __init__(self, username, email):\n",
        "        self.username = username\n",
        "        self.email = email\n",
        "\n",
        "example_list = [\n",
        "    (\"jane\", \"jane@example.com\", 21),\n",
        "    (\"bob\", \"bob@example\", 19),\n",
        "    (\"jane\", \"jane2@example.com\", 25),\n",
        "    (\"steve\", \"steve@somewhere\", 15),\n",
        "    (\"joe\", \"joe\", 23),\n",
        "    (\"anna\", \"anna@example.com\", -3),\n",
        "]\n",
        "\n",
        "directory = {}\n",
        "\n",
        "for username, email, age in example_list:\n",
        "    try:\n",
        "        if username in directory:\n",
        "            raise DuplicateUsernameError()\n",
        "        if age < 0:\n",
        "            raise InvalidAgeError()\n",
        "        if age < 16:\n",
        "            raise UnderageError()\n",
        "\n",
        "        email_parts = email.split('@')\n",
        "        if len(email_parts) != 2 or not email_parts[0] or not email_parts[1]:\n",
        "            raise InvalidEmailError()\n",
        "\n",
        "    except DuplicateUsernameError:\n",
        "        print(\"Username '%s' is in use.\" % username)\n",
        "    except InvalidAgeError:\n",
        "        print(\"Invalid age: %d\" % age)\n",
        "    except UnderageError:\n",
        "        print(\"User %s is underage.\" % username)\n",
        "    except InvalidEmailError:\n",
        "        print(\"'%s' is not a valid email address.\" % email)\n",
        "\n",
        "    else:\n",
        "        directory[username] = User(username, email)"
      ],
      "execution_count": null,
      "outputs": [
        {
          "output_type": "stream",
          "text": [
            "Username 'jane' is in use.\n",
            "User steve is underage.\n",
            "'joe' is not a valid email address.\n",
            "Invalid age: -3\n"
          ],
          "name": "stdout"
        }
      ]
    },
    {
      "cell_type": "code",
      "metadata": {
        "id": "99cG070Hm4sG"
      },
      "source": [
        "class Box:\n",
        "    def add(self, *items):\n",
        "        raise NotImplementedError()\n",
        "\n",
        "    def empty(self):\n",
        "        raise NotImplementedError()\n",
        "\n",
        "    def count(self):\n",
        "        raise NotImplementedError()\n",
        "\n",
        "\n",
        "class Item:\n",
        "    def __init__(self, name, value):\n",
        "        self.name = name\n",
        "        self.value = value\n",
        "\n",
        "\n",
        "class ListBox(Box):\n",
        "    def __init__(self):\n",
        "        self._items = []\n",
        "\n",
        "    def add(self, *items):\n",
        "        self._items.extend(items)\n",
        "\n",
        "    def empty(self):\n",
        "        items = self._items\n",
        "        self._items = []\n",
        "        return items\n",
        "\n",
        "    def count(self):\n",
        "        return len(self._items)\n",
        "\n",
        "\n",
        "class DictBox(Box):\n",
        "    def __init__(self):\n",
        "        self._items = {}\n",
        "\n",
        "    def add(self, *items):\n",
        "        self._items.update(dict((i.name, i) for i in items))\n",
        "\n",
        "    def empty(self):\n",
        "        items = list(self._items.values())\n",
        "        self._items = {}\n",
        "        return items\n",
        "\n",
        "    def count(self):\n",
        "        return len(self._items)"
      ],
      "execution_count": null,
      "outputs": []
    },
    {
      "cell_type": "code",
      "metadata": {
        "colab": {
          "base_uri": "https://localhost:8080/",
          "height": 396
        },
        "id": "BzclN7Csm8Xe",
        "outputId": "284b5541-38d3-491b-eb28-cb2363c59f7a"
      },
      "source": [
        "def repack_boxes(*boxes):\n",
        "    items = []\n",
        "\n",
        "    for box in boxes:\n",
        "        items.extend(box.empty())\n",
        "\n",
        "    while items:\n",
        "        for box in boxes:\n",
        "            try:\n",
        "                box.add(items.pop())\n",
        "            except IndexError:\n",
        "                break\n",
        "\n",
        "box1 = ListBox()\n",
        "box1.add(Item(str(i), i) for i in range(20))\n",
        "\n",
        "box2 = ListBox()\n",
        "box2.add(Item(str(i), i) for i in range(9))\n",
        "\n",
        "box1 = DictBox()\n",
        "#box1.add(Item(str(i), i) for i in range(5))\n",
        "\n",
        "#repack_boxes(box1, box2, box3)\n",
        "repack_boxes(box1, box2)\n",
        "\n",
        "print(box1.count())\n",
        "print(box2.count())\n",
        "#print(box3.count())"
      ],
      "execution_count": null,
      "outputs": [
        {
          "output_type": "error",
          "ename": "AttributeError",
          "evalue": "ignored",
          "traceback": [
            "\u001b[0;31m---------------------------------------------------------------------------\u001b[0m",
            "\u001b[0;31mAttributeError\u001b[0m                            Traceback (most recent call last)",
            "\u001b[0;32m<ipython-input-72-97ae91fb64d9>\u001b[0m in \u001b[0;36m<module>\u001b[0;34m()\u001b[0m\n\u001b[1;32m     22\u001b[0m \u001b[0;34m\u001b[0m\u001b[0m\n\u001b[1;32m     23\u001b[0m \u001b[0;31m#repack_boxes(box1, box2, box3)\u001b[0m\u001b[0;34m\u001b[0m\u001b[0;34m\u001b[0m\u001b[0;34m\u001b[0m\u001b[0m\n\u001b[0;32m---> 24\u001b[0;31m \u001b[0mrepack_boxes\u001b[0m\u001b[0;34m(\u001b[0m\u001b[0mbox1\u001b[0m\u001b[0;34m,\u001b[0m \u001b[0mbox2\u001b[0m\u001b[0;34m)\u001b[0m\u001b[0;34m\u001b[0m\u001b[0;34m\u001b[0m\u001b[0m\n\u001b[0m\u001b[1;32m     25\u001b[0m \u001b[0;34m\u001b[0m\u001b[0m\n\u001b[1;32m     26\u001b[0m \u001b[0mprint\u001b[0m\u001b[0;34m(\u001b[0m\u001b[0mbox1\u001b[0m\u001b[0;34m.\u001b[0m\u001b[0mcount\u001b[0m\u001b[0;34m(\u001b[0m\u001b[0;34m)\u001b[0m\u001b[0;34m)\u001b[0m\u001b[0;34m\u001b[0m\u001b[0;34m\u001b[0m\u001b[0m\n",
            "\u001b[0;32m<ipython-input-72-97ae91fb64d9>\u001b[0m in \u001b[0;36mrepack_boxes\u001b[0;34m(*boxes)\u001b[0m\n\u001b[1;32m      8\u001b[0m         \u001b[0;32mfor\u001b[0m \u001b[0mbox\u001b[0m \u001b[0;32min\u001b[0m \u001b[0mboxes\u001b[0m\u001b[0;34m:\u001b[0m\u001b[0;34m\u001b[0m\u001b[0;34m\u001b[0m\u001b[0m\n\u001b[1;32m      9\u001b[0m             \u001b[0;32mtry\u001b[0m\u001b[0;34m:\u001b[0m\u001b[0;34m\u001b[0m\u001b[0;34m\u001b[0m\u001b[0m\n\u001b[0;32m---> 10\u001b[0;31m                 \u001b[0mbox\u001b[0m\u001b[0;34m.\u001b[0m\u001b[0madd\u001b[0m\u001b[0;34m(\u001b[0m\u001b[0mitems\u001b[0m\u001b[0;34m.\u001b[0m\u001b[0mpop\u001b[0m\u001b[0;34m(\u001b[0m\u001b[0;34m)\u001b[0m\u001b[0;34m)\u001b[0m\u001b[0;34m\u001b[0m\u001b[0;34m\u001b[0m\u001b[0m\n\u001b[0m\u001b[1;32m     11\u001b[0m             \u001b[0;32mexcept\u001b[0m \u001b[0mIndexError\u001b[0m\u001b[0;34m:\u001b[0m\u001b[0;34m\u001b[0m\u001b[0;34m\u001b[0m\u001b[0m\n\u001b[1;32m     12\u001b[0m                 \u001b[0;32mbreak\u001b[0m\u001b[0;34m\u001b[0m\u001b[0;34m\u001b[0m\u001b[0m\n",
            "\u001b[0;32m<ipython-input-68-1be8c8d39473>\u001b[0m in \u001b[0;36madd\u001b[0;34m(self, *items)\u001b[0m\n\u001b[1;32m     37\u001b[0m \u001b[0;34m\u001b[0m\u001b[0m\n\u001b[1;32m     38\u001b[0m     \u001b[0;32mdef\u001b[0m \u001b[0madd\u001b[0m\u001b[0;34m(\u001b[0m\u001b[0mself\u001b[0m\u001b[0;34m,\u001b[0m \u001b[0;34m*\u001b[0m\u001b[0mitems\u001b[0m\u001b[0;34m)\u001b[0m\u001b[0;34m:\u001b[0m\u001b[0;34m\u001b[0m\u001b[0;34m\u001b[0m\u001b[0m\n\u001b[0;32m---> 39\u001b[0;31m         \u001b[0mself\u001b[0m\u001b[0;34m.\u001b[0m\u001b[0m_items\u001b[0m\u001b[0;34m.\u001b[0m\u001b[0mupdate\u001b[0m\u001b[0;34m(\u001b[0m\u001b[0mdict\u001b[0m\u001b[0;34m(\u001b[0m\u001b[0;34m(\u001b[0m\u001b[0mi\u001b[0m\u001b[0;34m.\u001b[0m\u001b[0mname\u001b[0m\u001b[0;34m,\u001b[0m \u001b[0mi\u001b[0m\u001b[0;34m)\u001b[0m \u001b[0;32mfor\u001b[0m \u001b[0mi\u001b[0m \u001b[0;32min\u001b[0m \u001b[0mitems\u001b[0m\u001b[0;34m)\u001b[0m\u001b[0;34m)\u001b[0m\u001b[0;34m\u001b[0m\u001b[0;34m\u001b[0m\u001b[0m\n\u001b[0m\u001b[1;32m     40\u001b[0m \u001b[0;34m\u001b[0m\u001b[0m\n\u001b[1;32m     41\u001b[0m     \u001b[0;32mdef\u001b[0m \u001b[0mempty\u001b[0m\u001b[0;34m(\u001b[0m\u001b[0mself\u001b[0m\u001b[0;34m)\u001b[0m\u001b[0;34m:\u001b[0m\u001b[0;34m\u001b[0m\u001b[0;34m\u001b[0m\u001b[0m\n",
            "\u001b[0;32m<ipython-input-68-1be8c8d39473>\u001b[0m in \u001b[0;36m<genexpr>\u001b[0;34m(.0)\u001b[0m\n\u001b[1;32m     37\u001b[0m \u001b[0;34m\u001b[0m\u001b[0m\n\u001b[1;32m     38\u001b[0m     \u001b[0;32mdef\u001b[0m \u001b[0madd\u001b[0m\u001b[0;34m(\u001b[0m\u001b[0mself\u001b[0m\u001b[0;34m,\u001b[0m \u001b[0;34m*\u001b[0m\u001b[0mitems\u001b[0m\u001b[0;34m)\u001b[0m\u001b[0;34m:\u001b[0m\u001b[0;34m\u001b[0m\u001b[0;34m\u001b[0m\u001b[0m\n\u001b[0;32m---> 39\u001b[0;31m         \u001b[0mself\u001b[0m\u001b[0;34m.\u001b[0m\u001b[0m_items\u001b[0m\u001b[0;34m.\u001b[0m\u001b[0mupdate\u001b[0m\u001b[0;34m(\u001b[0m\u001b[0mdict\u001b[0m\u001b[0;34m(\u001b[0m\u001b[0;34m(\u001b[0m\u001b[0mi\u001b[0m\u001b[0;34m.\u001b[0m\u001b[0mname\u001b[0m\u001b[0;34m,\u001b[0m \u001b[0mi\u001b[0m\u001b[0;34m)\u001b[0m \u001b[0;32mfor\u001b[0m \u001b[0mi\u001b[0m \u001b[0;32min\u001b[0m \u001b[0mitems\u001b[0m\u001b[0;34m)\u001b[0m\u001b[0;34m)\u001b[0m\u001b[0;34m\u001b[0m\u001b[0;34m\u001b[0m\u001b[0m\n\u001b[0m\u001b[1;32m     40\u001b[0m \u001b[0;34m\u001b[0m\u001b[0m\n\u001b[1;32m     41\u001b[0m     \u001b[0;32mdef\u001b[0m \u001b[0mempty\u001b[0m\u001b[0;34m(\u001b[0m\u001b[0mself\u001b[0m\u001b[0;34m)\u001b[0m\u001b[0;34m:\u001b[0m\u001b[0;34m\u001b[0m\u001b[0;34m\u001b[0m\u001b[0m\n",
            "\u001b[0;31mAttributeError\u001b[0m: 'generator' object has no attribute 'name'"
          ]
        }
      ]
    },
    {
      "cell_type": "code",
      "metadata": {
        "id": "h7sj2nxundkT"
      },
      "source": [
        "class Person:\n",
        "    def __init__(self, name, surname, number, learner=None, teacher=None):\n",
        "        self.name = name\n",
        "        self.surname = surname\n",
        "        self.number = number\n",
        "\n",
        "        self.learner = learner\n",
        "        self.teacher = teacher\n",
        "\n",
        "    def enrol(self, course):\n",
        "        if not hasattr(self, \"learner\"):\n",
        "            raise NotImplementedError()\n",
        "\n",
        "        self.learner.enrol(course)\n",
        "\n",
        "    def assign_teaching(self, course):\n",
        "        if not hasattr(self, \"teacher\"):\n",
        "            raise NotImplementedError()\n",
        "\n",
        "        self.teacher.assign_teaching(course)"
      ],
      "execution_count": null,
      "outputs": []
    },
    {
      "cell_type": "markdown",
      "metadata": {
        "id": "5AClmkpaSQs4"
      },
      "source": [
        "### Case Study: Error Hierarchy"
      ]
    },
    {
      "cell_type": "code",
      "metadata": {
        "colab": {
          "base_uri": "https://localhost:8080/",
          "height": 171
        },
        "id": "HjcsDJFeR9-s",
        "outputId": "58b816e9-f699-44ac-8eae-cc5df267471b"
      },
      "source": [
        "prnit(\"a\")"
      ],
      "execution_count": null,
      "outputs": [
        {
          "output_type": "error",
          "ename": "NameError",
          "evalue": "ignored",
          "traceback": [
            "\u001b[0;31m---------------------------------------------------------------------------\u001b[0m",
            "\u001b[0;31mNameError\u001b[0m                                 Traceback (most recent call last)",
            "\u001b[0;32m<ipython-input-1-99fc90d7c914>\u001b[0m in \u001b[0;36m<module>\u001b[0;34m()\u001b[0m\n\u001b[0;32m----> 1\u001b[0;31m \u001b[0mprnit\u001b[0m\u001b[0;34m(\u001b[0m\u001b[0;34m\"a\"\u001b[0m\u001b[0;34m)\u001b[0m\u001b[0;34m\u001b[0m\u001b[0;34m\u001b[0m\u001b[0m\n\u001b[0m",
            "\u001b[0;31mNameError\u001b[0m: name 'prnit' is not defined"
          ]
        }
      ]
    },
    {
      "cell_type": "code",
      "metadata": {
        "colab": {
          "base_uri": "https://localhost:8080/",
          "height": 135
        },
        "id": "pxtSCaPHSFOR",
        "outputId": "c7290ba0-144b-441c-a9b2-0eaa6e5916fc"
      },
      "source": [
        "prnit \"a\""
      ],
      "execution_count": null,
      "outputs": [
        {
          "output_type": "error",
          "ename": "SyntaxError",
          "evalue": "ignored",
          "traceback": [
            "\u001b[0;36m  File \u001b[0;32m\"<ipython-input-2-dd01a8aa46b9>\"\u001b[0;36m, line \u001b[0;32m1\u001b[0m\n\u001b[0;31m    prnit \"a\"\u001b[0m\n\u001b[0m            ^\u001b[0m\n\u001b[0;31mSyntaxError\u001b[0m\u001b[0;31m:\u001b[0m invalid syntax\n"
          ]
        }
      ]
    },
    {
      "cell_type": "code",
      "metadata": {
        "colab": {
          "base_uri": "https://localhost:8080/"
        },
        "id": "WluUxmwuSWbL",
        "outputId": "a9c7cc8b-5586-4634-cbaf-14f140b64264"
      },
      "source": [
        "# The `type.mro` function asks for a linearization of the superclasses of a given class.\n",
        "\n",
        "print(ZeroDivisionError.mro())\n",
        "# [ZeroDivisionError, ArithmeticError, Exception, BaseException, object]\n",
        "\n",
        "print(TypeError.mro())\n",
        "# [TypeError, Exception, BaseException, object]\n",
        "\n",
        "print(DeprecationWarning.mro())\n",
        "# [DeprecationWarning, Warning, Exception, BaseException, object]"
      ],
      "execution_count": null,
      "outputs": [
        {
          "output_type": "stream",
          "text": [
            "[<class 'ZeroDivisionError'>, <class 'ArithmeticError'>, <class 'Exception'>, <class 'BaseException'>, <class 'object'>]\n",
            "[<class 'TypeError'>, <class 'Exception'>, <class 'BaseException'>, <class 'object'>]\n",
            "[<class 'DeprecationWarning'>, <class 'Warning'>, <class 'Exception'>, <class 'BaseException'>, <class 'object'>]\n"
          ],
          "name": "stdout"
        }
      ]
    },
    {
      "cell_type": "code",
      "metadata": {
        "colab": {
          "base_uri": "https://localhost:8080/"
        },
        "id": "sszQ-757Sk8Y",
        "outputId": "5dd22830-6fd7-4aa9-de55-bb99adf2db78"
      },
      "source": [
        "# The `type.mro` function asks for a linearization of the superclasses of a given class.\n",
        "\n",
        "print(FileNotFoundError.mro())\n",
        "# [ZeroDivisionError, ArithmeticError, Exception, BaseException, object]\n",
        "\n",
        "print(TabError.mro())\n",
        "# [TypeError, Exception, BaseException, object]\n",
        "\n",
        "print(NameError.mro())\n",
        "# [DeprecationWarning, Warning, Exception, BaseException, object]"
      ],
      "execution_count": null,
      "outputs": [
        {
          "output_type": "stream",
          "text": [
            "[<class 'FileNotFoundError'>, <class 'OSError'>, <class 'Exception'>, <class 'BaseException'>, <class 'object'>]\n",
            "[<class 'TabError'>, <class 'IndentationError'>, <class 'SyntaxError'>, <class 'Exception'>, <class 'BaseException'>, <class 'object'>]\n",
            "[<class 'NameError'>, <class 'Exception'>, <class 'BaseException'>, <class 'object'>]\n"
          ],
          "name": "stdout"
        }
      ]
    },
    {
      "cell_type": "markdown",
      "metadata": {
        "id": "x6VQfqZLS4E9"
      },
      "source": [
        "#### New Terms\n",
        "Term \tDefinition\n",
        "\n",
        "type.mro():\tA method to ask a type for its \"method resolution order\" - effectively, a linearization of its superclass graph.\n",
        "\n",
        "Exception: \tAn \"error during execution\" - when Python encounters some error while executing the code.\n",
        "\n",
        "Exception Hierarchy: \tThe class hierarchy of built-in exceptions inheriting directly or indirectly from BaseException.\n",
        "\n",
        "Syntax Error: \tAn \"error before execution\" - when Python detects erroneous syntax before attempting to execute the code."
      ]
    },
    {
      "cell_type": "markdown",
      "metadata": {
        "id": "EFDapNp4TFPM"
      },
      "source": [
        "Built-in Exceptions: Python's overview of Exceptions - what they are and how they work.\n",
        "https://docs.python.org/3/library/exceptions.html\n",
        "\n",
        "Errors Tutorial: Python's tutorial on errors and Exceptions.\n",
        "https://docs.python.org/3/tutorial/errors.html\n",
        "\n",
        "Exception Class Hierarchy: Python's class hierarchy for built-in Exceptions\n"
      ]
    },
    {
      "cell_type": "code",
      "metadata": {
        "colab": {
          "base_uri": "https://localhost:8080/"
        },
        "id": "tQCsVUlATn9l",
        "outputId": "ad7659af-3053-4a17-c570-dbbb0ab62b94"
      },
      "source": [
        "while True:\n",
        "     try:\n",
        "         x = int(input(\"Please enter a number: \"))\n",
        "         break\n",
        "     except ValueError:\n",
        "         print(\"Oops!  That was no valid number.  Try again...\")"
      ],
      "execution_count": null,
      "outputs": [
        {
          "output_type": "stream",
          "text": [
            "Please enter a number: a\n",
            "Oops!  That was no valid number.  Try again...\n",
            "Please enter a number: das\n",
            "Oops!  That was no valid number.  Try again...\n",
            "Please enter a number: \"1\"\n",
            "Oops!  That was no valid number.  Try again...\n",
            "Please enter a number: 2\n"
          ],
          "name": "stdout"
        }
      ]
    },
    {
      "cell_type": "code",
      "metadata": {
        "id": "R1mZW9IiYC_o"
      },
      "source": [
        "try:\n",
        "    dangerous_code()\n",
        "except SomeError:\n",
        "    handle_the_error()\n",
        "else: \n",
        "    handle_no_error()\n",
        "finally:\n",
        "    do_no_matter_what()"
      ],
      "execution_count": null,
      "outputs": []
    },
    {
      "cell_type": "markdown",
      "metadata": {
        "id": "bSH4eHkLX3n1"
      },
      "source": [
        "Exceptional Control Flow: \tThe tools provided by Python to write programs that branch in exceptional cases (when errors occur and Exceptions are raised.\n",
        "\n",
        "The else Block: \tA keyword introducing a block that runs when there are no errors in the try block.\n",
        "\n",
        "The except Block: \tA keyword introducing a block that handles a particular category of error raised in a corresponding try block.\n",
        "\n",
        "The finally Block: \tA keyword introducing a block that runs no matter what.\n",
        "\n",
        "The try Block: \tA keyword introducing a block of potentially dangerous code, in which Python will attempt to handle any Exceptions it encounters with exceptional control flow."
      ]
    },
    {
      "cell_type": "code",
      "metadata": {
        "colab": {
          "base_uri": "https://localhost:8080/"
        },
        "id": "GmUu3-_BYLyN",
        "outputId": "f7105e84-1f22-4add-f114-8dfd1bc25a25"
      },
      "source": [
        "import sys\n",
        "\n",
        "try:\n",
        "    f = open('myfile.txt')\n",
        "    s = f.readline()\n",
        "    i = int(s.strip())\n",
        "except OSError as err:\n",
        "    print(\"OS error: {0}\".format(err))\n",
        "except ValueError:\n",
        "    print(\"Could not convert data to an integer.\")\n",
        "except:\n",
        "    print(\"Unexpected error:\", sys.exc_info()[0])\n",
        "    raise"
      ],
      "execution_count": null,
      "outputs": [
        {
          "output_type": "stream",
          "text": [
            "OS error: [Errno 2] No such file or directory: 'myfile.txt'\n"
          ],
          "name": "stdout"
        }
      ]
    },
    {
      "cell_type": "code",
      "metadata": {
        "colab": {
          "base_uri": "https://localhost:8080/"
        },
        "id": "waNvx_-IYOeo",
        "outputId": "8b2ea9f0-b900-4414-fa39-2b8f6974e1c0"
      },
      "source": [
        "for arg in sys.argv[1:]:\n",
        "    try:\n",
        "        f = open(arg, 'r')\n",
        "    except OSError:\n",
        "        print('cannot open', arg)\n",
        "    else:\n",
        "        print(arg, 'has', len(f.readlines()), 'lines')\n",
        "        f.close()"
      ],
      "execution_count": null,
      "outputs": [
        {
          "output_type": "stream",
          "text": [
            "cannot open -f\n",
            "/root/.local/share/jupyter/runtime/kernel-0603e5e7-9649-425a-ad0e-a7779dc9c679.json has 12 lines\n"
          ],
          "name": "stdout"
        }
      ]
    },
    {
      "cell_type": "markdown",
      "metadata": {
        "id": "ztw5W5GjYaTa"
      },
      "source": [
        "Errors Tutorial: Python's tutorial on errors and Exceptions, including how to handle errors.\n",
        "https://docs.python.org/3/tutorial/errors.html\n",
        "\n",
        "Try Except (W3): A nice overview of try/except/else/finally.\n",
        "https://www.w3schools.com/python/python_try_except.asp\n"
      ]
    },
    {
      "cell_type": "markdown",
      "metadata": {
        "id": "JYYbiW4TYlkE"
      },
      "source": [
        "#### Raising Errors (Signaling Exceptional Circumstances)"
      ]
    },
    {
      "cell_type": "code",
      "metadata": {
        "colab": {
          "base_uri": "https://localhost:8080/",
          "height": 171
        },
        "id": "2dGMDXbFYYw4",
        "outputId": "ca46747f-c72f-4d5a-88fd-9bb1a2aece09"
      },
      "source": [
        "raise NameError(\"Why hello!\")"
      ],
      "execution_count": null,
      "outputs": [
        {
          "output_type": "error",
          "ename": "NameError",
          "evalue": "ignored",
          "traceback": [
            "\u001b[0;31m---------------------------------------------------------------------------\u001b[0m",
            "\u001b[0;31mNameError\u001b[0m                                 Traceback (most recent call last)",
            "\u001b[0;32m<ipython-input-9-36df4a109268>\u001b[0m in \u001b[0;36m<module>\u001b[0;34m()\u001b[0m\n\u001b[0;32m----> 1\u001b[0;31m \u001b[0;32mraise\u001b[0m \u001b[0mNameError\u001b[0m\u001b[0;34m(\u001b[0m\u001b[0;34m\"Why hello!\"\u001b[0m\u001b[0;34m)\u001b[0m\u001b[0;34m\u001b[0m\u001b[0;34m\u001b[0m\u001b[0m\n\u001b[0m",
            "\u001b[0;31mNameError\u001b[0m: Why hello!"
          ]
        }
      ]
    },
    {
      "cell_type": "code",
      "metadata": {
        "colab": {
          "base_uri": "https://localhost:8080/",
          "height": 171
        },
        "id": "wZstVkgcZxZ7",
        "outputId": "49471740-2a6e-4e86-d715-82c4104bd605"
      },
      "source": [
        "raise NameError"
      ],
      "execution_count": null,
      "outputs": [
        {
          "output_type": "error",
          "ename": "NameError",
          "evalue": "ignored",
          "traceback": [
            "\u001b[0;31m---------------------------------------------------------------------------\u001b[0m",
            "\u001b[0;31mNameError\u001b[0m                                 Traceback (most recent call last)",
            "\u001b[0;32m<ipython-input-10-42b67b2fc75d>\u001b[0m in \u001b[0;36m<module>\u001b[0;34m()\u001b[0m\n\u001b[0;32m----> 1\u001b[0;31m \u001b[0;32mraise\u001b[0m \u001b[0mNameError\u001b[0m\u001b[0;34m\u001b[0m\u001b[0;34m\u001b[0m\u001b[0m\n\u001b[0m",
            "\u001b[0;31mNameError\u001b[0m: "
          ]
        }
      ]
    },
    {
      "cell_type": "code",
      "metadata": {
        "colab": {
          "base_uri": "https://localhost:8080/"
        },
        "id": "gLO8epOZZ8ch",
        "outputId": "3d61c443-573c-482e-9bff-afeb755efe4e"
      },
      "source": [
        "class MyCustomNameError(NameError):\n",
        "    pass\n",
        "\n",
        "print(MyCustomNameError.mro())"
      ],
      "execution_count": null,
      "outputs": [
        {
          "output_type": "stream",
          "text": [
            "[<class '__main__.MyCustomNameError'>, <class 'NameError'>, <class 'Exception'>, <class 'BaseException'>, <class 'object'>]\n"
          ],
          "name": "stdout"
        }
      ]
    },
    {
      "cell_type": "code",
      "metadata": {
        "colab": {
          "base_uri": "https://localhost:8080/",
          "height": 171
        },
        "id": "xhUfaydsaCYe",
        "outputId": "456f6fea-db99-44fb-a4ee-27a843c84a7c"
      },
      "source": [
        "raise MyCustomNameError(\"My custom error\")"
      ],
      "execution_count": null,
      "outputs": [
        {
          "output_type": "error",
          "ename": "MyCustomNameError",
          "evalue": "ignored",
          "traceback": [
            "\u001b[0;31m---------------------------------------------------------------------------\u001b[0m",
            "\u001b[0;31mMyCustomNameError\u001b[0m                         Traceback (most recent call last)",
            "\u001b[0;32m<ipython-input-13-a75734e2c395>\u001b[0m in \u001b[0;36m<module>\u001b[0;34m()\u001b[0m\n\u001b[0;32m----> 1\u001b[0;31m \u001b[0;32mraise\u001b[0m \u001b[0mMyCustomNameError\u001b[0m\u001b[0;34m(\u001b[0m\u001b[0;34m\"My custom error\"\u001b[0m\u001b[0;34m)\u001b[0m\u001b[0;34m\u001b[0m\u001b[0;34m\u001b[0m\u001b[0m\n\u001b[0m",
            "\u001b[0;31mMyCustomNameError\u001b[0m: My custom error"
          ]
        }
      ]
    },
    {
      "cell_type": "code",
      "metadata": {
        "colab": {
          "base_uri": "https://localhost:8080/",
          "height": 445
        },
        "id": "x1Bw65EeaIsB",
        "outputId": "294b38b1-f6d3-4cee-fae1-fd378aa5b982"
      },
      "source": [
        "try:\n",
        "    raise BadLoginError(\"No username :(\")\n",
        "except BadLoginError:  # Respond only to `BadLoginError`s, not other types of `KeyError`s.\n",
        "    pass"
      ],
      "execution_count": null,
      "outputs": [
        {
          "output_type": "error",
          "ename": "NameError",
          "evalue": "ignored",
          "traceback": [
            "\u001b[0;31m---------------------------------------------------------------------------\u001b[0m",
            "\u001b[0;31mNameError\u001b[0m                                 Traceback (most recent call last)",
            "\u001b[0;32m<ipython-input-14-fa84b46450bd>\u001b[0m in \u001b[0;36m<module>\u001b[0;34m()\u001b[0m\n\u001b[1;32m      1\u001b[0m \u001b[0;32mtry\u001b[0m\u001b[0;34m:\u001b[0m\u001b[0;34m\u001b[0m\u001b[0;34m\u001b[0m\u001b[0m\n\u001b[0;32m----> 2\u001b[0;31m     \u001b[0;32mraise\u001b[0m \u001b[0mBadLoginError\u001b[0m\u001b[0;34m(\u001b[0m\u001b[0;34m\"No username :(\"\u001b[0m\u001b[0;34m)\u001b[0m\u001b[0;34m\u001b[0m\u001b[0;34m\u001b[0m\u001b[0m\n\u001b[0m\u001b[1;32m      3\u001b[0m \u001b[0;32mexcept\u001b[0m \u001b[0mBadLoginError\u001b[0m\u001b[0;34m:\u001b[0m  \u001b[0;31m# Respond only to `BadLoginError`s, not other types of `KeyError`s.\u001b[0m\u001b[0;34m\u001b[0m\u001b[0;34m\u001b[0m\u001b[0m\n",
            "\u001b[0;31mNameError\u001b[0m: name 'BadLoginError' is not defined",
            "\nDuring handling of the above exception, another exception occurred:\n",
            "\u001b[0;31mNameError\u001b[0m                                 Traceback (most recent call last)",
            "\u001b[0;32m<ipython-input-14-fa84b46450bd>\u001b[0m in \u001b[0;36m<module>\u001b[0;34m()\u001b[0m\n\u001b[1;32m      1\u001b[0m \u001b[0;32mtry\u001b[0m\u001b[0;34m:\u001b[0m\u001b[0;34m\u001b[0m\u001b[0;34m\u001b[0m\u001b[0m\n\u001b[1;32m      2\u001b[0m     \u001b[0;32mraise\u001b[0m \u001b[0mBadLoginError\u001b[0m\u001b[0;34m(\u001b[0m\u001b[0;34m\"No username :(\"\u001b[0m\u001b[0;34m)\u001b[0m\u001b[0;34m\u001b[0m\u001b[0;34m\u001b[0m\u001b[0m\n\u001b[0;32m----> 3\u001b[0;31m \u001b[0;32mexcept\u001b[0m \u001b[0mBadLoginError\u001b[0m\u001b[0;34m:\u001b[0m  \u001b[0;31m# Respond only to `BadLoginError`s, not other types of `KeyError`s.\u001b[0m\u001b[0;34m\u001b[0m\u001b[0;34m\u001b[0m\u001b[0m\n\u001b[0m\u001b[1;32m      4\u001b[0m     \u001b[0;32mpass\u001b[0m\u001b[0;34m\u001b[0m\u001b[0;34m\u001b[0m\u001b[0m\n",
            "\u001b[0;31mNameError\u001b[0m: name 'BadLoginError' is not defined"
          ]
        }
      ]
    },
    {
      "cell_type": "markdown",
      "metadata": {
        "id": "C_kR4LkFak-0"
      },
      "source": [
        "raise: \tA keyword to raise an Exception subclass or an instance of an Exception subclass."
      ]
    },
    {
      "cell_type": "code",
      "metadata": {
        "colab": {
          "base_uri": "https://localhost:8080/",
          "height": 263
        },
        "id": "91FbA0Q2awW-",
        "outputId": "11fbac99-408b-4715-f087-7012c5382a06"
      },
      "source": [
        "try:\n",
        "  raise NameError('HiThere')\n",
        "except NameError:\n",
        "     print('An exception flew by!')\n",
        "     raise \n",
        "     # raise statement allows the programmer to force a specified exception to occur"
      ],
      "execution_count": null,
      "outputs": [
        {
          "output_type": "stream",
          "text": [
            "An exception flew by!\n"
          ],
          "name": "stdout"
        },
        {
          "output_type": "error",
          "ename": "NameError",
          "evalue": "ignored",
          "traceback": [
            "\u001b[0;31m---------------------------------------------------------------------------\u001b[0m",
            "\u001b[0;31mNameError\u001b[0m                                 Traceback (most recent call last)",
            "\u001b[0;32m<ipython-input-40-9e75083b34dc>\u001b[0m in \u001b[0;36m<module>\u001b[0;34m()\u001b[0m\n\u001b[1;32m      1\u001b[0m \u001b[0;32mtry\u001b[0m\u001b[0;34m:\u001b[0m\u001b[0;34m\u001b[0m\u001b[0;34m\u001b[0m\u001b[0m\n\u001b[0;32m----> 2\u001b[0;31m   \u001b[0;32mraise\u001b[0m \u001b[0mNameError\u001b[0m\u001b[0;34m(\u001b[0m\u001b[0;34m'HiThere'\u001b[0m\u001b[0;34m)\u001b[0m\u001b[0;34m\u001b[0m\u001b[0;34m\u001b[0m\u001b[0m\n\u001b[0m\u001b[1;32m      3\u001b[0m \u001b[0;32mexcept\u001b[0m \u001b[0mNameError\u001b[0m\u001b[0;34m:\u001b[0m\u001b[0;34m\u001b[0m\u001b[0;34m\u001b[0m\u001b[0m\n\u001b[1;32m      4\u001b[0m      \u001b[0mprint\u001b[0m\u001b[0;34m(\u001b[0m\u001b[0;34m'An exception flew by!'\u001b[0m\u001b[0;34m)\u001b[0m\u001b[0;34m\u001b[0m\u001b[0;34m\u001b[0m\u001b[0m\n\u001b[1;32m      5\u001b[0m      \u001b[0;32mraise\u001b[0m\u001b[0;34m\u001b[0m\u001b[0;34m\u001b[0m\u001b[0m\n",
            "\u001b[0;31mNameError\u001b[0m: HiThere"
          ]
        }
      ]
    },
    {
      "cell_type": "code",
      "metadata": {
        "colab": {
          "base_uri": "https://localhost:8080/",
          "height": 171
        },
        "id": "wGX14zqgcd1I",
        "outputId": "4593e9cf-1786-40de-ce27-04f4d5986e04"
      },
      "source": [
        "raise NameError('HiThere')"
      ],
      "execution_count": null,
      "outputs": [
        {
          "output_type": "error",
          "ename": "NameError",
          "evalue": "ignored",
          "traceback": [
            "\u001b[0;31m---------------------------------------------------------------------------\u001b[0m",
            "\u001b[0;31mNameError\u001b[0m                                 Traceback (most recent call last)",
            "\u001b[0;32m<ipython-input-38-72c183edb298>\u001b[0m in \u001b[0;36m<module>\u001b[0;34m()\u001b[0m\n\u001b[0;32m----> 1\u001b[0;31m \u001b[0;32mraise\u001b[0m \u001b[0mNameError\u001b[0m\u001b[0;34m(\u001b[0m\u001b[0;34m'HiThere'\u001b[0m\u001b[0;34m)\u001b[0m\u001b[0;34m\u001b[0m\u001b[0;34m\u001b[0m\u001b[0m\n\u001b[0m",
            "\u001b[0;31mNameError\u001b[0m: HiThere"
          ]
        }
      ]
    },
    {
      "cell_type": "markdown",
      "metadata": {
        "id": "DZ9Jg_dHd7s5"
      },
      "source": [
        "### L24_21: exercise"
      ]
    },
    {
      "cell_type": "code",
      "metadata": {
        "id": "B_sBI8kDegJz"
      },
      "source": [
        "INVALID_PASSWORDS = (\n",
        "    'password',\n",
        "    'abc123',\n",
        "    '123abc',\n",
        ")\n",
        "\n",
        "class InvalidPasswordError(NameError):\n",
        "    pass\n",
        "\n",
        "def validate_password(username, password):\n",
        "  try:\n",
        "    if password != username and password not in INVALID_PASSWORDS:\n",
        "      return True\n",
        "    else:\n",
        "      raise InvalidPasswordError()\n",
        "  except InvalidPasswordError:\n",
        "    print(\"InvalidPasswordError rasied\") \n",
        "    \n",
        "def create_account(username, password):\n",
        "    return (username, password)\n",
        "\n",
        "def main(username, password):\n",
        "    valid = validate_password(username, password)\n",
        "\n",
        "    if valid:\n",
        "        account = create_account(username, password)\n",
        "    else:\n",
        "        print(\"Oh no!\")\n",
        "\n",
        "\n",
        "\n"
      ],
      "execution_count": null,
      "outputs": []
    },
    {
      "cell_type": "code",
      "metadata": {
        "colab": {
          "base_uri": "https://localhost:8080/"
        },
        "id": "SNIPi3O6eueX",
        "outputId": "6f34bae2-620b-4ff2-f7a7-35ff0e1b905d"
      },
      "source": [
        "main('jim', 'jam')\n",
        "main('admin', 'password')  # Oh no!\n",
        "main('guest', 'guest')  # Oh no!"
      ],
      "execution_count": null,
      "outputs": [
        {
          "output_type": "stream",
          "text": [
            "InvalidPasswordError rasied\n",
            "Oh no!\n",
            "InvalidPasswordError rasied\n",
            "Oh no!\n"
          ],
          "name": "stdout"
        }
      ]
    },
    {
      "cell_type": "code",
      "metadata": {
        "id": "v6BYPbstl1l9"
      },
      "source": [
        "# udacity solution (better)\n",
        "\n",
        "class InvalidPasswordError(ValueError):\n",
        "    pass\n",
        "\n",
        "\n",
        "INVALID_PASSWORDS = (\n",
        "    'password',\n",
        "    'abc123',\n",
        "    '123abc',\n",
        ")\n",
        "\n",
        "\n",
        "def validate_password(username, password):\n",
        "    if password == username:\n",
        "        raise InvalidPasswordError(\"Password cannot be the same as your username.\")\n",
        "    if password in INVALID_PASSWORDS:\n",
        "        raise InvalidPasswordError(\"Password cannot one of the most common passwords.\")\n",
        "\n",
        "\n",
        "def create_account(username, password):\n",
        "    return (username, password)\n",
        "\n",
        "\n",
        "def main(username, password):\n",
        "    try:\n",
        "        validate_password(username, password)\n",
        "    except InvalidPasswordError as err:\n",
        "        print(err)\n",
        "    else:\n",
        "        account = create_account(username, password)\n",
        "    finally:\n",
        "        print(\"Validated password against username and collection\")"
      ],
      "execution_count": null,
      "outputs": []
    },
    {
      "cell_type": "code",
      "metadata": {
        "colab": {
          "base_uri": "https://localhost:8080/"
        },
        "id": "UVCEw3E8l893",
        "outputId": "7dc53da1-4b96-4078-9f94-3fbd895a604c"
      },
      "source": [
        "main('jim', 'jam')\n",
        "main('admin', 'password')  # Oh no!\n",
        "main('guest', 'guest')  # Oh no!"
      ],
      "execution_count": null,
      "outputs": [
        {
          "output_type": "stream",
          "text": [
            "Validated password against username and collection\n",
            "Password cannot one of the most common passwords.\n",
            "Validated password against username and collection\n",
            "Password cannot be the same as your username.\n",
            "Validated password against username and collection\n"
          ],
          "name": "stdout"
        }
      ]
    },
    {
      "cell_type": "code",
      "metadata": {
        "colab": {
          "base_uri": "https://localhost:8080/"
        },
        "id": "g9JPaFx4nINU",
        "outputId": "32f28ba9-11f2-454c-8daf-e33789344b36"
      },
      "source": [
        "main('abc123', 'password')  # Oh no!"
      ],
      "execution_count": null,
      "outputs": [
        {
          "output_type": "stream",
          "text": [
            "Password cannot one of the most common passwords.\n",
            "Validated password against username and collection\n"
          ],
          "name": "stdout"
        }
      ]
    }
  ]
}